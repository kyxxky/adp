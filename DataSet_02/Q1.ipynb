{
 "cells": [
  {
   "cell_type": "code",
   "execution_count": 1,
   "id": "618c78c6",
   "metadata": {},
   "outputs": [],
   "source": [
    "import pandas as pd\n",
    "import numpy as np"
   ]
  },
  {
   "cell_type": "code",
   "execution_count": 2,
   "id": "6ec26a38",
   "metadata": {},
   "outputs": [],
   "source": [
    "tv = pd.read_csv('TV.csv')"
   ]
  },
  {
   "cell_type": "code",
   "execution_count": 3,
   "id": "1ba392fb",
   "metadata": {},
   "outputs": [
    {
     "data": {
      "text/html": [
       "<div>\n",
       "<style scoped>\n",
       "    .dataframe tbody tr th:only-of-type {\n",
       "        vertical-align: middle;\n",
       "    }\n",
       "\n",
       "    .dataframe tbody tr th {\n",
       "        vertical-align: top;\n",
       "    }\n",
       "\n",
       "    .dataframe thead th {\n",
       "        text-align: right;\n",
       "    }\n",
       "</style>\n",
       "<table border=\"1\" class=\"dataframe\">\n",
       "  <thead>\n",
       "    <tr style=\"text-align: right;\">\n",
       "      <th></th>\n",
       "      <th>Product_Name</th>\n",
       "      <th>Stars</th>\n",
       "      <th>Ratings</th>\n",
       "      <th>Reviews</th>\n",
       "      <th>current_price</th>\n",
       "      <th>MRP</th>\n",
       "      <th>channel</th>\n",
       "      <th>Operating_system</th>\n",
       "      <th>Picture_quality</th>\n",
       "      <th>Speaker</th>\n",
       "      <th>Frequency</th>\n",
       "    </tr>\n",
       "  </thead>\n",
       "  <tbody>\n",
       "    <tr>\n",
       "      <th>0</th>\n",
       "      <td>Croma</td>\n",
       "      <td>4.2</td>\n",
       "      <td>1773</td>\n",
       "      <td>217</td>\n",
       "      <td>7990</td>\n",
       "      <td>20000</td>\n",
       "      <td>HD Ready 1366 x 768 Pixels</td>\n",
       "      <td>20 Speaker Output</td>\n",
       "      <td>60 Hz Refresh Rate</td>\n",
       "      <td>2 x HDMI | 2 x USB</td>\n",
       "      <td>1 Year Warranty</td>\n",
       "    </tr>\n",
       "    <tr>\n",
       "      <th>1</th>\n",
       "      <td>Adsun</td>\n",
       "      <td>3.8</td>\n",
       "      <td>6742</td>\n",
       "      <td>930</td>\n",
       "      <td>8699</td>\n",
       "      <td>21999</td>\n",
       "      <td>Netflix|Disney+Hotstar|Youtube</td>\n",
       "      <td>Operating System: Android Based</td>\n",
       "      <td>HD Ready 1366 x 768 Pixels</td>\n",
       "      <td>20 W Speaker Output</td>\n",
       "      <td>60 Hz Refresh Rate</td>\n",
       "    </tr>\n",
       "    <tr>\n",
       "      <th>2</th>\n",
       "      <td>LG</td>\n",
       "      <td>4.4</td>\n",
       "      <td>38870</td>\n",
       "      <td>3443</td>\n",
       "      <td>16499</td>\n",
       "      <td>21990</td>\n",
       "      <td>Netflix|Prime Video|Disney+Hotstar|Youtube</td>\n",
       "      <td>Operating System: WebOS</td>\n",
       "      <td>HD Ready 1366 x 768 Pixels</td>\n",
       "      <td>10 W Speaker Output</td>\n",
       "      <td>50 Hz Refresh Rate</td>\n",
       "    </tr>\n",
       "    <tr>\n",
       "      <th>3</th>\n",
       "      <td>OnePlus</td>\n",
       "      <td>4.3</td>\n",
       "      <td>101256</td>\n",
       "      <td>9189</td>\n",
       "      <td>16499</td>\n",
       "      <td>21999</td>\n",
       "      <td>Netflix|Prime Video|Disney+Hotstar|Youtube</td>\n",
       "      <td>Operating System: Android</td>\n",
       "      <td>HD Ready 1366 x 768 Pixels</td>\n",
       "      <td>20 W Speaker Output</td>\n",
       "      <td>60 Hz Refresh Rate</td>\n",
       "    </tr>\n",
       "    <tr>\n",
       "      <th>4</th>\n",
       "      <td>Xiaomi</td>\n",
       "      <td>4.3</td>\n",
       "      <td>3120</td>\n",
       "      <td>305</td>\n",
       "      <td>15499</td>\n",
       "      <td>24999</td>\n",
       "      <td>Netflix|Prime Video|Disney+Hotstar|Youtube</td>\n",
       "      <td>Operating System: Android</td>\n",
       "      <td>HD Ready 1366 x 768 Pixels</td>\n",
       "      <td>20 W Speaker Output</td>\n",
       "      <td>60 Hz Refresh Rate</td>\n",
       "    </tr>\n",
       "  </tbody>\n",
       "</table>\n",
       "</div>"
      ],
      "text/plain": [
       "  Product_Name  Stars  Ratings  Reviews  current_price    MRP  \\\n",
       "0        Croma    4.2     1773      217           7990  20000   \n",
       "1        Adsun    3.8     6742      930           8699  21999   \n",
       "2           LG    4.4    38870     3443          16499  21990   \n",
       "3      OnePlus    4.3   101256     9189          16499  21999   \n",
       "4       Xiaomi    4.3     3120      305          15499  24999   \n",
       "\n",
       "                                      channel  \\\n",
       "0                  HD Ready 1366 x 768 Pixels   \n",
       "1              Netflix|Disney+Hotstar|Youtube   \n",
       "2  Netflix|Prime Video|Disney+Hotstar|Youtube   \n",
       "3  Netflix|Prime Video|Disney+Hotstar|Youtube   \n",
       "4  Netflix|Prime Video|Disney+Hotstar|Youtube   \n",
       "\n",
       "                  Operating_system             Picture_quality  \\\n",
       "0                20 Speaker Output          60 Hz Refresh Rate   \n",
       "1  Operating System: Android Based  HD Ready 1366 x 768 Pixels   \n",
       "2          Operating System: WebOS  HD Ready 1366 x 768 Pixels   \n",
       "3        Operating System: Android  HD Ready 1366 x 768 Pixels   \n",
       "4        Operating System: Android  HD Ready 1366 x 768 Pixels   \n",
       "\n",
       "               Speaker           Frequency  \n",
       "0   2 x HDMI | 2 x USB     1 Year Warranty  \n",
       "1  20 W Speaker Output  60 Hz Refresh Rate  \n",
       "2  10 W Speaker Output  50 Hz Refresh Rate  \n",
       "3  20 W Speaker Output  60 Hz Refresh Rate  \n",
       "4  20 W Speaker Output  60 Hz Refresh Rate  "
      ]
     },
     "execution_count": 3,
     "metadata": {},
     "output_type": "execute_result"
    }
   ],
   "source": [
    "tv.head()"
   ]
  },
  {
   "cell_type": "code",
   "execution_count": 8,
   "id": "6482268a",
   "metadata": {},
   "outputs": [
    {
     "data": {
      "text/plain": [
       "666"
      ]
     },
     "execution_count": 8,
     "metadata": {},
     "output_type": "execute_result"
    }
   ],
   "source": [
    "len(tv['Frequency'])"
   ]
  },
  {
   "cell_type": "code",
   "execution_count": 11,
   "id": "5a0f7831",
   "metadata": {},
   "outputs": [
    {
     "data": {
      "text/plain": [
       "540"
      ]
     },
     "execution_count": 11,
     "metadata": {},
     "output_type": "execute_result"
    }
   ],
   "source": [
    "len(tv[tv['Frequency'].str.contains('Hz') == True])"
   ]
  },
  {
   "cell_type": "code",
   "execution_count": 12,
   "id": "1e648cf0",
   "metadata": {},
   "outputs": [
    {
     "data": {
      "text/plain": [
       "122"
      ]
     },
     "execution_count": 12,
     "metadata": {},
     "output_type": "execute_result"
    }
   ],
   "source": [
    "len(tv[tv['Picture_quality'].str.contains('Hz')==True]) + len(tv[tv['Speaker'].str.contains('Hz') == True])"
   ]
  },
  {
   "cell_type": "code",
   "execution_count": 24,
   "id": "5b227528",
   "metadata": {},
   "outputs": [],
   "source": [
    "tv_fre = tv[tv['Frequency'].str.contains('Hz')]['Frequency'].str.split('Hz', expand = True)"
   ]
  },
  {
   "cell_type": "code",
   "execution_count": 32,
   "id": "22e67ce2",
   "metadata": {},
   "outputs": [],
   "source": [
    "tv_pic = tv[tv['Picture_quality'].str.contains('Hz')]['Picture_quality'].str.split('Hz',expand = True)"
   ]
  },
  {
   "cell_type": "code",
   "execution_count": 33,
   "id": "202dde29",
   "metadata": {},
   "outputs": [],
   "source": [
    "tv_spk = tv[tv['Speaker'].str.contains('Hz')]['Speaker'].str.split('Hz', expand = True)"
   ]
  },
  {
   "cell_type": "code",
   "execution_count": 47,
   "id": "6f5f0eb0",
   "metadata": {},
   "outputs": [],
   "source": [
    "tv_fre[0] = tv_fre[0].astype(int)\n",
    "tv_pic[0] = tv_pic[0].astype(int)\n",
    "tv_spk[0] = tv_spk[0].astype(int)"
   ]
  },
  {
   "cell_type": "code",
   "execution_count": 48,
   "id": "66bf2916",
   "metadata": {},
   "outputs": [],
   "source": [
    "tv_cat = pd.concat([tv_fre,tv_pic,tv_spk],axis = 0)"
   ]
  },
  {
   "cell_type": "code",
   "execution_count": 50,
   "id": "e39c23c4",
   "metadata": {},
   "outputs": [
    {
     "data": {
      "text/plain": [
       "510"
      ]
     },
     "execution_count": 50,
     "metadata": {},
     "output_type": "execute_result"
    }
   ],
   "source": [
    "len(tv_cat[tv_cat[0] == 60]) #answer"
   ]
  },
  {
   "cell_type": "code",
   "execution_count": 152,
   "id": "358f7f80",
   "metadata": {},
   "outputs": [
    {
     "data": {
      "text/plain": [
       "510"
      ]
     },
     "execution_count": 152,
     "metadata": {},
     "output_type": "execute_result"
    }
   ],
   "source": [
    "tv.apply(lambda x:x.str.contains('^60 Hz|[^0-9]60 Hz').sum(),axis = 1).value_counts()[1]\n"
   ]
  },
  {
   "cell_type": "code",
   "execution_count": 164,
   "id": "3302a458",
   "metadata": {},
   "outputs": [
    {
     "data": {
      "text/plain": [
       "1    510\n",
       "0    156\n",
       "dtype: int64"
      ]
     },
     "execution_count": 164,
     "metadata": {},
     "output_type": "execute_result"
    }
   ],
   "source": [
    "tv.apply(lambda x:x.str.contains('^60 Hz|[^0-9]60 Hz').sum(),axis = 1).value_counts()"
   ]
  },
  {
   "cell_type": "code",
   "execution_count": 51,
   "id": "e30e7d0c",
   "metadata": {},
   "outputs": [],
   "source": [
    "#2"
   ]
  },
  {
   "cell_type": "code",
   "execution_count": 52,
   "id": "560b15ab",
   "metadata": {},
   "outputs": [
    {
     "data": {
      "text/html": [
       "<div>\n",
       "<style scoped>\n",
       "    .dataframe tbody tr th:only-of-type {\n",
       "        vertical-align: middle;\n",
       "    }\n",
       "\n",
       "    .dataframe tbody tr th {\n",
       "        vertical-align: top;\n",
       "    }\n",
       "\n",
       "    .dataframe thead th {\n",
       "        text-align: right;\n",
       "    }\n",
       "</style>\n",
       "<table border=\"1\" class=\"dataframe\">\n",
       "  <thead>\n",
       "    <tr style=\"text-align: right;\">\n",
       "      <th></th>\n",
       "      <th>Product_Name</th>\n",
       "      <th>Stars</th>\n",
       "      <th>Ratings</th>\n",
       "      <th>Reviews</th>\n",
       "      <th>current_price</th>\n",
       "      <th>MRP</th>\n",
       "      <th>channel</th>\n",
       "      <th>Operating_system</th>\n",
       "      <th>Picture_quality</th>\n",
       "      <th>Speaker</th>\n",
       "      <th>Frequency</th>\n",
       "    </tr>\n",
       "  </thead>\n",
       "  <tbody>\n",
       "    <tr>\n",
       "      <th>0</th>\n",
       "      <td>Croma</td>\n",
       "      <td>4.2</td>\n",
       "      <td>1773</td>\n",
       "      <td>217</td>\n",
       "      <td>7990</td>\n",
       "      <td>20000</td>\n",
       "      <td>HD Ready 1366 x 768 Pixels</td>\n",
       "      <td>20 Speaker Output</td>\n",
       "      <td>60 Hz Refresh Rate</td>\n",
       "      <td>2 x HDMI | 2 x USB</td>\n",
       "      <td>1 Year Warranty</td>\n",
       "    </tr>\n",
       "    <tr>\n",
       "      <th>1</th>\n",
       "      <td>Adsun</td>\n",
       "      <td>3.8</td>\n",
       "      <td>6742</td>\n",
       "      <td>930</td>\n",
       "      <td>8699</td>\n",
       "      <td>21999</td>\n",
       "      <td>Netflix|Disney+Hotstar|Youtube</td>\n",
       "      <td>Operating System: Android Based</td>\n",
       "      <td>HD Ready 1366 x 768 Pixels</td>\n",
       "      <td>20 W Speaker Output</td>\n",
       "      <td>60 Hz Refresh Rate</td>\n",
       "    </tr>\n",
       "    <tr>\n",
       "      <th>2</th>\n",
       "      <td>LG</td>\n",
       "      <td>4.4</td>\n",
       "      <td>38870</td>\n",
       "      <td>3443</td>\n",
       "      <td>16499</td>\n",
       "      <td>21990</td>\n",
       "      <td>Netflix|Prime Video|Disney+Hotstar|Youtube</td>\n",
       "      <td>Operating System: WebOS</td>\n",
       "      <td>HD Ready 1366 x 768 Pixels</td>\n",
       "      <td>10 W Speaker Output</td>\n",
       "      <td>50 Hz Refresh Rate</td>\n",
       "    </tr>\n",
       "    <tr>\n",
       "      <th>3</th>\n",
       "      <td>OnePlus</td>\n",
       "      <td>4.3</td>\n",
       "      <td>101256</td>\n",
       "      <td>9189</td>\n",
       "      <td>16499</td>\n",
       "      <td>21999</td>\n",
       "      <td>Netflix|Prime Video|Disney+Hotstar|Youtube</td>\n",
       "      <td>Operating System: Android</td>\n",
       "      <td>HD Ready 1366 x 768 Pixels</td>\n",
       "      <td>20 W Speaker Output</td>\n",
       "      <td>60 Hz Refresh Rate</td>\n",
       "    </tr>\n",
       "    <tr>\n",
       "      <th>4</th>\n",
       "      <td>Xiaomi</td>\n",
       "      <td>4.3</td>\n",
       "      <td>3120</td>\n",
       "      <td>305</td>\n",
       "      <td>15499</td>\n",
       "      <td>24999</td>\n",
       "      <td>Netflix|Prime Video|Disney+Hotstar|Youtube</td>\n",
       "      <td>Operating System: Android</td>\n",
       "      <td>HD Ready 1366 x 768 Pixels</td>\n",
       "      <td>20 W Speaker Output</td>\n",
       "      <td>60 Hz Refresh Rate</td>\n",
       "    </tr>\n",
       "  </tbody>\n",
       "</table>\n",
       "</div>"
      ],
      "text/plain": [
       "  Product_Name  Stars  Ratings  Reviews  current_price    MRP  \\\n",
       "0        Croma    4.2     1773      217           7990  20000   \n",
       "1        Adsun    3.8     6742      930           8699  21999   \n",
       "2           LG    4.4    38870     3443          16499  21990   \n",
       "3      OnePlus    4.3   101256     9189          16499  21999   \n",
       "4       Xiaomi    4.3     3120      305          15499  24999   \n",
       "\n",
       "                                      channel  \\\n",
       "0                  HD Ready 1366 x 768 Pixels   \n",
       "1              Netflix|Disney+Hotstar|Youtube   \n",
       "2  Netflix|Prime Video|Disney+Hotstar|Youtube   \n",
       "3  Netflix|Prime Video|Disney+Hotstar|Youtube   \n",
       "4  Netflix|Prime Video|Disney+Hotstar|Youtube   \n",
       "\n",
       "                  Operating_system             Picture_quality  \\\n",
       "0                20 Speaker Output          60 Hz Refresh Rate   \n",
       "1  Operating System: Android Based  HD Ready 1366 x 768 Pixels   \n",
       "2          Operating System: WebOS  HD Ready 1366 x 768 Pixels   \n",
       "3        Operating System: Android  HD Ready 1366 x 768 Pixels   \n",
       "4        Operating System: Android  HD Ready 1366 x 768 Pixels   \n",
       "\n",
       "               Speaker           Frequency  \n",
       "0   2 x HDMI | 2 x USB     1 Year Warranty  \n",
       "1  20 W Speaker Output  60 Hz Refresh Rate  \n",
       "2  10 W Speaker Output  50 Hz Refresh Rate  \n",
       "3  20 W Speaker Output  60 Hz Refresh Rate  \n",
       "4  20 W Speaker Output  60 Hz Refresh Rate  "
      ]
     },
     "execution_count": 52,
     "metadata": {},
     "output_type": "execute_result"
    }
   ],
   "source": [
    "tv.head()"
   ]
  },
  {
   "cell_type": "code",
   "execution_count": 67,
   "id": "d9494930",
   "metadata": {},
   "outputs": [],
   "source": [
    "sum_8k = tv[tv['Picture_quality'].str.contains('8K')]['Stars'].sum()+tv[tv['Operating_system'].str.contains('8K')]['Stars'].sum()+tv[tv['channel'].str.contains('8K')]['Stars'].sum()"
   ]
  },
  {
   "cell_type": "code",
   "execution_count": 68,
   "id": "21aeb756",
   "metadata": {},
   "outputs": [],
   "source": [
    "len_8k = len(tv[tv['Picture_quality'].str.contains('8K')]['Stars'])+len(tv[tv['Operating_system'].str.contains('8K')]['Stars'])+len(tv[tv['channel'].str.contains('8K')]['Stars'])"
   ]
  },
  {
   "cell_type": "code",
   "execution_count": 64,
   "id": "0d4e514d",
   "metadata": {},
   "outputs": [],
   "source": [
    "sum_4k = tv[tv['Picture_quality'].str.contains('4K')]['Stars'].sum()+tv[tv['Operating_system'].str.contains('4K')]['Stars'].sum()+tv[tv['channel'].str.contains('4K')]['Stars'].sum()"
   ]
  },
  {
   "cell_type": "code",
   "execution_count": 70,
   "id": "7a713dac",
   "metadata": {},
   "outputs": [],
   "source": [
    "len_4k = len(tv[tv['Picture_quality'].str.contains('4K')]['Stars'])+len(tv[tv['Operating_system'].str.contains('4K')]['Stars'])+len(tv[tv['channel'].str.contains('4K')]['Stars'])"
   ]
  },
  {
   "cell_type": "code",
   "execution_count": 73,
   "id": "a96e9965",
   "metadata": {},
   "outputs": [
    {
     "data": {
      "text/plain": [
       "0.3819178082191783"
      ]
     },
     "execution_count": 73,
     "metadata": {},
     "output_type": "execute_result"
    }
   ],
   "source": [
    "abs(sum_8k/len_8k - sum_4k/len_4k) #answer"
   ]
  },
  {
   "cell_type": "code",
   "execution_count": null,
   "id": "fc90290f",
   "metadata": {},
   "outputs": [],
   "source": []
  },
  {
   "cell_type": "code",
   "execution_count": null,
   "id": "28b420da",
   "metadata": {},
   "outputs": [],
   "source": []
  },
  {
   "cell_type": "code",
   "execution_count": 74,
   "id": "5557a3ff",
   "metadata": {},
   "outputs": [],
   "source": [
    "#3"
   ]
  },
  {
   "cell_type": "code",
   "execution_count": 77,
   "id": "664c9d12",
   "metadata": {},
   "outputs": [],
   "source": [
    "tv_3 = tv[tv['channel'].str.contains('Pixel|Oper') == False]"
   ]
  },
  {
   "cell_type": "code",
   "execution_count": 83,
   "id": "762c99e5",
   "metadata": {},
   "outputs": [
    {
     "name": "stderr",
     "output_type": "stream",
     "text": [
      "/var/folders/08/qfhf2lxn7wlcym8tkm5j1t640000gn/T/ipykernel_80333/2629052702.py:1: SettingWithCopyWarning: \n",
      "A value is trying to be set on a copy of a slice from a DataFrame.\n",
      "Try using .loc[row_indexer,col_indexer] = value instead\n",
      "\n",
      "See the caveats in the documentation: https://pandas.pydata.org/pandas-docs/stable/user_guide/indexing.html#returning-a-view-versus-a-copy\n",
      "  tv_3['Netflix'] = tv_3['channel'].str.contains('Netflix')\n"
     ]
    }
   ],
   "source": [
    "tv_3['Netflix'] = tv_3['channel'].str.contains('Netflix')"
   ]
  },
  {
   "cell_type": "code",
   "execution_count": 86,
   "id": "f8f24e80",
   "metadata": {},
   "outputs": [
    {
     "name": "stderr",
     "output_type": "stream",
     "text": [
      "/var/folders/08/qfhf2lxn7wlcym8tkm5j1t640000gn/T/ipykernel_80333/2305903795.py:1: SettingWithCopyWarning: \n",
      "A value is trying to be set on a copy of a slice from a DataFrame.\n",
      "Try using .loc[row_indexer,col_indexer] = value instead\n",
      "\n",
      "See the caveats in the documentation: https://pandas.pydata.org/pandas-docs/stable/user_guide/indexing.html#returning-a-view-versus-a-copy\n",
      "  tv_3['Netflix'] = tv_3['Netflix'].astype(int)\n"
     ]
    }
   ],
   "source": [
    "tv_3['Netflix'] = tv_3['Netflix'].astype(int)"
   ]
  },
  {
   "cell_type": "code",
   "execution_count": 89,
   "id": "9a8a8b4a",
   "metadata": {},
   "outputs": [
    {
     "name": "stderr",
     "output_type": "stream",
     "text": [
      "/var/folders/08/qfhf2lxn7wlcym8tkm5j1t640000gn/T/ipykernel_80333/1628519403.py:1: SettingWithCopyWarning: \n",
      "A value is trying to be set on a copy of a slice from a DataFrame.\n",
      "Try using .loc[row_indexer,col_indexer] = value instead\n",
      "\n",
      "See the caveats in the documentation: https://pandas.pydata.org/pandas-docs/stable/user_guide/indexing.html#returning-a-view-versus-a-copy\n",
      "  tv_3['Prime Video'] = tv_3['channel'].str.contains('Prime Video')\n",
      "/var/folders/08/qfhf2lxn7wlcym8tkm5j1t640000gn/T/ipykernel_80333/1628519403.py:2: SettingWithCopyWarning: \n",
      "A value is trying to be set on a copy of a slice from a DataFrame.\n",
      "Try using .loc[row_indexer,col_indexer] = value instead\n",
      "\n",
      "See the caveats in the documentation: https://pandas.pydata.org/pandas-docs/stable/user_guide/indexing.html#returning-a-view-versus-a-copy\n",
      "  tv_3['Prime Video'] = tv_3['Prime Video'].astype(int)\n"
     ]
    }
   ],
   "source": [
    "tv_3['Prime Video'] = tv_3['channel'].str.contains('Prime Video')\n",
    "tv_3['Prime Video'] = tv_3['Prime Video'].astype(int)"
   ]
  },
  {
   "cell_type": "code",
   "execution_count": 94,
   "id": "59815ae2",
   "metadata": {},
   "outputs": [
    {
     "name": "stderr",
     "output_type": "stream",
     "text": [
      "/var/folders/08/qfhf2lxn7wlcym8tkm5j1t640000gn/T/ipykernel_80333/2918998975.py:1: SettingWithCopyWarning: \n",
      "A value is trying to be set on a copy of a slice from a DataFrame.\n",
      "Try using .loc[row_indexer,col_indexer] = value instead\n",
      "\n",
      "See the caveats in the documentation: https://pandas.pydata.org/pandas-docs/stable/user_guide/indexing.html#returning-a-view-versus-a-copy\n",
      "  tv_3['qua'] = tv_3['Picture_quality'].str.contains('4K|8K')\n",
      "/var/folders/08/qfhf2lxn7wlcym8tkm5j1t640000gn/T/ipykernel_80333/2918998975.py:2: SettingWithCopyWarning: \n",
      "A value is trying to be set on a copy of a slice from a DataFrame.\n",
      "Try using .loc[row_indexer,col_indexer] = value instead\n",
      "\n",
      "See the caveats in the documentation: https://pandas.pydata.org/pandas-docs/stable/user_guide/indexing.html#returning-a-view-versus-a-copy\n",
      "  tv_3['qua'] = tv_3['qua'].astype(int)\n"
     ]
    }
   ],
   "source": [
    "tv_3['qua'] = tv_3['Picture_quality'].str.contains('4K|8K')\n",
    "tv_3['qua'] = tv_3['qua'].astype(int)"
   ]
  },
  {
   "cell_type": "code",
   "execution_count": 113,
   "id": "a86d5343",
   "metadata": {},
   "outputs": [],
   "source": [
    "tv_n = tv_3[tv_3['Frequency'].str.contains('Hz')]\n",
    "tv_n = tv_n[tv_n['Picture_quality'].str.contains('4K|8K|HD')]"
   ]
  },
  {
   "cell_type": "code",
   "execution_count": 114,
   "id": "0b3aaa8f",
   "metadata": {},
   "outputs": [
    {
     "data": {
      "text/html": [
       "<div>\n",
       "<style scoped>\n",
       "    .dataframe tbody tr th:only-of-type {\n",
       "        vertical-align: middle;\n",
       "    }\n",
       "\n",
       "    .dataframe tbody tr th {\n",
       "        vertical-align: top;\n",
       "    }\n",
       "\n",
       "    .dataframe thead th {\n",
       "        text-align: right;\n",
       "    }\n",
       "</style>\n",
       "<table border=\"1\" class=\"dataframe\">\n",
       "  <thead>\n",
       "    <tr style=\"text-align: right;\">\n",
       "      <th></th>\n",
       "      <th>Product_Name</th>\n",
       "      <th>Stars</th>\n",
       "      <th>Ratings</th>\n",
       "      <th>Reviews</th>\n",
       "      <th>current_price</th>\n",
       "      <th>MRP</th>\n",
       "      <th>channel</th>\n",
       "      <th>Operating_system</th>\n",
       "      <th>Picture_quality</th>\n",
       "      <th>Speaker</th>\n",
       "      <th>Frequency</th>\n",
       "      <th>Netflix</th>\n",
       "      <th>Prime Video</th>\n",
       "      <th>Fre</th>\n",
       "      <th>qua</th>\n",
       "    </tr>\n",
       "  </thead>\n",
       "  <tbody>\n",
       "    <tr>\n",
       "      <th>1</th>\n",
       "      <td>Adsun</td>\n",
       "      <td>3.8</td>\n",
       "      <td>6742</td>\n",
       "      <td>930</td>\n",
       "      <td>8699</td>\n",
       "      <td>21999</td>\n",
       "      <td>Netflix|Disney+Hotstar|Youtube</td>\n",
       "      <td>Operating System: Android Based</td>\n",
       "      <td>HD Ready 1366 x 768 Pixels</td>\n",
       "      <td>20 W Speaker Output</td>\n",
       "      <td>60 Hz Refresh Rate</td>\n",
       "      <td>1</td>\n",
       "      <td>0</td>\n",
       "      <td>0</td>\n",
       "      <td>0</td>\n",
       "    </tr>\n",
       "    <tr>\n",
       "      <th>2</th>\n",
       "      <td>LG</td>\n",
       "      <td>4.4</td>\n",
       "      <td>38870</td>\n",
       "      <td>3443</td>\n",
       "      <td>16499</td>\n",
       "      <td>21990</td>\n",
       "      <td>Netflix|Prime Video|Disney+Hotstar|Youtube</td>\n",
       "      <td>Operating System: WebOS</td>\n",
       "      <td>HD Ready 1366 x 768 Pixels</td>\n",
       "      <td>10 W Speaker Output</td>\n",
       "      <td>50 Hz Refresh Rate</td>\n",
       "      <td>1</td>\n",
       "      <td>1</td>\n",
       "      <td>0</td>\n",
       "      <td>0</td>\n",
       "    </tr>\n",
       "    <tr>\n",
       "      <th>3</th>\n",
       "      <td>OnePlus</td>\n",
       "      <td>4.3</td>\n",
       "      <td>101256</td>\n",
       "      <td>9189</td>\n",
       "      <td>16499</td>\n",
       "      <td>21999</td>\n",
       "      <td>Netflix|Prime Video|Disney+Hotstar|Youtube</td>\n",
       "      <td>Operating System: Android</td>\n",
       "      <td>HD Ready 1366 x 768 Pixels</td>\n",
       "      <td>20 W Speaker Output</td>\n",
       "      <td>60 Hz Refresh Rate</td>\n",
       "      <td>1</td>\n",
       "      <td>1</td>\n",
       "      <td>0</td>\n",
       "      <td>0</td>\n",
       "    </tr>\n",
       "    <tr>\n",
       "      <th>4</th>\n",
       "      <td>Xiaomi</td>\n",
       "      <td>4.3</td>\n",
       "      <td>3120</td>\n",
       "      <td>305</td>\n",
       "      <td>15499</td>\n",
       "      <td>24999</td>\n",
       "      <td>Netflix|Prime Video|Disney+Hotstar|Youtube</td>\n",
       "      <td>Operating System: Android</td>\n",
       "      <td>HD Ready 1366 x 768 Pixels</td>\n",
       "      <td>20 W Speaker Output</td>\n",
       "      <td>60 Hz Refresh Rate</td>\n",
       "      <td>1</td>\n",
       "      <td>1</td>\n",
       "      <td>0</td>\n",
       "      <td>0</td>\n",
       "    </tr>\n",
       "    <tr>\n",
       "      <th>5</th>\n",
       "      <td>SAMSUNG</td>\n",
       "      <td>4.4</td>\n",
       "      <td>53639</td>\n",
       "      <td>4811</td>\n",
       "      <td>15999</td>\n",
       "      <td>22900</td>\n",
       "      <td>Netflix|Disney+Hotstar|Youtube</td>\n",
       "      <td>Operating System: Tizen</td>\n",
       "      <td>HD Ready 1366 x 768 Pixels</td>\n",
       "      <td>20 W Speaker Output</td>\n",
       "      <td>60 Hz Refresh Rate</td>\n",
       "      <td>1</td>\n",
       "      <td>0</td>\n",
       "      <td>0</td>\n",
       "      <td>0</td>\n",
       "    </tr>\n",
       "    <tr>\n",
       "      <th>...</th>\n",
       "      <td>...</td>\n",
       "      <td>...</td>\n",
       "      <td>...</td>\n",
       "      <td>...</td>\n",
       "      <td>...</td>\n",
       "      <td>...</td>\n",
       "      <td>...</td>\n",
       "      <td>...</td>\n",
       "      <td>...</td>\n",
       "      <td>...</td>\n",
       "      <td>...</td>\n",
       "      <td>...</td>\n",
       "      <td>...</td>\n",
       "      <td>...</td>\n",
       "      <td>...</td>\n",
       "    </tr>\n",
       "    <tr>\n",
       "      <th>648</th>\n",
       "      <td>Onix</td>\n",
       "      <td>0.0</td>\n",
       "      <td>0</td>\n",
       "      <td>0</td>\n",
       "      <td>17999</td>\n",
       "      <td>19790</td>\n",
       "      <td>Netflix|Disney+Hotstar|Youtube</td>\n",
       "      <td>Operating System: Android</td>\n",
       "      <td>HD Ready 1366 x 768 Pixels</td>\n",
       "      <td>16 W Speaker Output</td>\n",
       "      <td>60 Hz Refresh Rate</td>\n",
       "      <td>1</td>\n",
       "      <td>0</td>\n",
       "      <td>0</td>\n",
       "      <td>0</td>\n",
       "    </tr>\n",
       "    <tr>\n",
       "      <th>655</th>\n",
       "      <td>SONY</td>\n",
       "      <td>4.4</td>\n",
       "      <td>1558</td>\n",
       "      <td>228</td>\n",
       "      <td>22999</td>\n",
       "      <td>27990</td>\n",
       "      <td>Netflix|Prime Video|Youtube</td>\n",
       "      <td>Operating System: Linux based</td>\n",
       "      <td>HD Ready 1366 x 768 Pixels</td>\n",
       "      <td>30 W Speaker Output</td>\n",
       "      <td>50 Hz Refresh Rate</td>\n",
       "      <td>1</td>\n",
       "      <td>1</td>\n",
       "      <td>0</td>\n",
       "      <td>0</td>\n",
       "    </tr>\n",
       "    <tr>\n",
       "      <th>656</th>\n",
       "      <td>Micromax</td>\n",
       "      <td>4.1</td>\n",
       "      <td>0</td>\n",
       "      <td>0</td>\n",
       "      <td>49999</td>\n",
       "      <td>69990</td>\n",
       "      <td>Netflix|Disney+Hotstar|Youtube</td>\n",
       "      <td>Operating System: Android</td>\n",
       "      <td>Ultra HD (4K) 3840 x 2160 Pixels</td>\n",
       "      <td>30 W Speaker Output</td>\n",
       "      <td>60 Hz Refresh Rate</td>\n",
       "      <td>1</td>\n",
       "      <td>0</td>\n",
       "      <td>0</td>\n",
       "      <td>1</td>\n",
       "    </tr>\n",
       "    <tr>\n",
       "      <th>657</th>\n",
       "      <td>SONY</td>\n",
       "      <td>4.4</td>\n",
       "      <td>2044</td>\n",
       "      <td>441</td>\n",
       "      <td>27449</td>\n",
       "      <td>31900</td>\n",
       "      <td>Netflix|Youtube</td>\n",
       "      <td>Operating System: Linux based</td>\n",
       "      <td>HD Ready 1366 x 768 Pixels</td>\n",
       "      <td>8 W x 2 Speaker Output</td>\n",
       "      <td>200 Hz Refresh Rate</td>\n",
       "      <td>1</td>\n",
       "      <td>0</td>\n",
       "      <td>0</td>\n",
       "      <td>0</td>\n",
       "    </tr>\n",
       "    <tr>\n",
       "      <th>662</th>\n",
       "      <td>SONY</td>\n",
       "      <td>4.5</td>\n",
       "      <td>6056</td>\n",
       "      <td>1082</td>\n",
       "      <td>34184</td>\n",
       "      <td>68400</td>\n",
       "      <td>Netflix|Prime Video|Youtube</td>\n",
       "      <td>Operating System: Linux based</td>\n",
       "      <td>Ultra HD (4K) 3840 x 2160 Pixels</td>\n",
       "      <td>20 W Speaker Output</td>\n",
       "      <td>50 Hz Refresh Rate</td>\n",
       "      <td>1</td>\n",
       "      <td>1</td>\n",
       "      <td>0</td>\n",
       "      <td>1</td>\n",
       "    </tr>\n",
       "  </tbody>\n",
       "</table>\n",
       "<p>540 rows × 15 columns</p>\n",
       "</div>"
      ],
      "text/plain": [
       "    Product_Name  Stars  Ratings  Reviews  current_price    MRP  \\\n",
       "1          Adsun    3.8     6742      930           8699  21999   \n",
       "2             LG    4.4    38870     3443          16499  21990   \n",
       "3        OnePlus    4.3   101256     9189          16499  21999   \n",
       "4         Xiaomi    4.3     3120      305          15499  24999   \n",
       "5        SAMSUNG    4.4    53639     4811          15999  22900   \n",
       "..           ...    ...      ...      ...            ...    ...   \n",
       "648         Onix    0.0        0        0          17999  19790   \n",
       "655         SONY    4.4     1558      228          22999  27990   \n",
       "656     Micromax    4.1        0        0          49999  69990   \n",
       "657         SONY    4.4     2044      441          27449  31900   \n",
       "662         SONY    4.5     6056     1082          34184  68400   \n",
       "\n",
       "                                        channel  \\\n",
       "1                Netflix|Disney+Hotstar|Youtube   \n",
       "2    Netflix|Prime Video|Disney+Hotstar|Youtube   \n",
       "3    Netflix|Prime Video|Disney+Hotstar|Youtube   \n",
       "4    Netflix|Prime Video|Disney+Hotstar|Youtube   \n",
       "5                Netflix|Disney+Hotstar|Youtube   \n",
       "..                                          ...   \n",
       "648              Netflix|Disney+Hotstar|Youtube   \n",
       "655                 Netflix|Prime Video|Youtube   \n",
       "656              Netflix|Disney+Hotstar|Youtube   \n",
       "657                             Netflix|Youtube   \n",
       "662                 Netflix|Prime Video|Youtube   \n",
       "\n",
       "                    Operating_system                   Picture_quality  \\\n",
       "1    Operating System: Android Based        HD Ready 1366 x 768 Pixels   \n",
       "2            Operating System: WebOS        HD Ready 1366 x 768 Pixels   \n",
       "3          Operating System: Android        HD Ready 1366 x 768 Pixels   \n",
       "4          Operating System: Android        HD Ready 1366 x 768 Pixels   \n",
       "5            Operating System: Tizen        HD Ready 1366 x 768 Pixels   \n",
       "..                               ...                               ...   \n",
       "648        Operating System: Android        HD Ready 1366 x 768 Pixels   \n",
       "655    Operating System: Linux based        HD Ready 1366 x 768 Pixels   \n",
       "656        Operating System: Android  Ultra HD (4K) 3840 x 2160 Pixels   \n",
       "657    Operating System: Linux based        HD Ready 1366 x 768 Pixels   \n",
       "662    Operating System: Linux based  Ultra HD (4K) 3840 x 2160 Pixels   \n",
       "\n",
       "                    Speaker            Frequency  Netflix  Prime Video  Fre  \\\n",
       "1       20 W Speaker Output   60 Hz Refresh Rate        1            0    0   \n",
       "2       10 W Speaker Output   50 Hz Refresh Rate        1            1    0   \n",
       "3       20 W Speaker Output   60 Hz Refresh Rate        1            1    0   \n",
       "4       20 W Speaker Output   60 Hz Refresh Rate        1            1    0   \n",
       "5       20 W Speaker Output   60 Hz Refresh Rate        1            0    0   \n",
       "..                      ...                  ...      ...          ...  ...   \n",
       "648     16 W Speaker Output   60 Hz Refresh Rate        1            0    0   \n",
       "655     30 W Speaker Output   50 Hz Refresh Rate        1            1    0   \n",
       "656     30 W Speaker Output   60 Hz Refresh Rate        1            0    0   \n",
       "657  8 W x 2 Speaker Output  200 Hz Refresh Rate        1            0    0   \n",
       "662     20 W Speaker Output   50 Hz Refresh Rate        1            1    0   \n",
       "\n",
       "     qua  \n",
       "1      0  \n",
       "2      0  \n",
       "3      0  \n",
       "4      0  \n",
       "5      0  \n",
       "..   ...  \n",
       "648    0  \n",
       "655    0  \n",
       "656    1  \n",
       "657    0  \n",
       "662    1  \n",
       "\n",
       "[540 rows x 15 columns]"
      ]
     },
     "execution_count": 114,
     "metadata": {},
     "output_type": "execute_result"
    }
   ],
   "source": [
    "tv_n.i"
   ]
  },
  {
   "cell_type": "code",
   "execution_count": 140,
   "id": "60bd634b",
   "metadata": {},
   "outputs": [],
   "source": [
    "tv_n['ratio1'] = tv_n['Reviews']/tv_n['Ratings']\n",
    "tv_n['ratio2'] = tv_n['current_price']/tv_n['MRP']\n",
    "tv_set = tv_n[['ratio1', 'MRP','ratio2','Netflix','Prime Video','qua','Stars']]"
   ]
  },
  {
   "cell_type": "code",
   "execution_count": 141,
   "id": "593ed774",
   "metadata": {},
   "outputs": [],
   "source": [
    "tv_fin = tv_set.loc[~tv_set.isna().any(axis = 1)]"
   ]
  },
  {
   "cell_type": "code",
   "execution_count": 142,
   "id": "9def7192",
   "metadata": {},
   "outputs": [],
   "source": [
    "from sklearn.ensemble import RandomForestRegressor"
   ]
  },
  {
   "cell_type": "code",
   "execution_count": 143,
   "id": "dc71d670",
   "metadata": {},
   "outputs": [],
   "source": [
    "X_train = tv_fin[['ratio1','MRP','ratio2','Netflix','Prime Video','qua']]\n",
    "y_train = tv_fin['Stars']"
   ]
  },
  {
   "cell_type": "code",
   "execution_count": 153,
   "id": "0694b59e",
   "metadata": {},
   "outputs": [
    {
     "data": {
      "text/plain": [
       "RandomForestRegressor(random_state=123)"
      ]
     },
     "execution_count": 153,
     "metadata": {},
     "output_type": "execute_result"
    }
   ],
   "source": [
    "rf = RandomForestRegressor(random_state = 123) #n_estimators=100)\n",
    "rf.fit(X_train, y_train)"
   ]
  },
  {
   "cell_type": "code",
   "execution_count": 154,
   "id": "8f80c568",
   "metadata": {},
   "outputs": [
    {
     "data": {
      "text/plain": [
       "array([0.31220617, 0.17383963, 0.4446912 , 0.02714087, 0.02400442,\n",
       "       0.01811773])"
      ]
     },
     "execution_count": 154,
     "metadata": {},
     "output_type": "execute_result"
    }
   ],
   "source": [
    "rf.feature_importances_"
   ]
  },
  {
   "cell_type": "code",
   "execution_count": null,
   "id": "8c42660e",
   "metadata": {},
   "outputs": [],
   "source": [
    "rf."
   ]
  }
 ],
 "metadata": {
  "kernelspec": {
   "display_name": "Python 3 (ipykernel)",
   "language": "python",
   "name": "python3"
  },
  "language_info": {
   "codemirror_mode": {
    "name": "ipython",
    "version": 3
   },
   "file_extension": ".py",
   "mimetype": "text/x-python",
   "name": "python",
   "nbconvert_exporter": "python",
   "pygments_lexer": "ipython3",
   "version": "3.9.13"
  }
 },
 "nbformat": 4,
 "nbformat_minor": 5
}
