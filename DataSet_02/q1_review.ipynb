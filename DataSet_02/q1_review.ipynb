{
 "cells": [
  {
   "cell_type": "code",
   "execution_count": 1,
   "id": "34c63afc",
   "metadata": {},
   "outputs": [],
   "source": [
    "import numpy as np\n",
    "import pandas as pd\n",
    "from sklearn.ensemble import RandomForestRegressor"
   ]
  },
  {
   "cell_type": "code",
   "execution_count": 2,
   "id": "b2ada8da",
   "metadata": {},
   "outputs": [],
   "source": [
    "tv = pd.read_csv('./TV.csv')"
   ]
  },
  {
   "cell_type": "code",
   "execution_count": 3,
   "id": "a3233c83",
   "metadata": {},
   "outputs": [
    {
     "data": {
      "text/html": [
       "<div>\n",
       "<style scoped>\n",
       "    .dataframe tbody tr th:only-of-type {\n",
       "        vertical-align: middle;\n",
       "    }\n",
       "\n",
       "    .dataframe tbody tr th {\n",
       "        vertical-align: top;\n",
       "    }\n",
       "\n",
       "    .dataframe thead th {\n",
       "        text-align: right;\n",
       "    }\n",
       "</style>\n",
       "<table border=\"1\" class=\"dataframe\">\n",
       "  <thead>\n",
       "    <tr style=\"text-align: right;\">\n",
       "      <th></th>\n",
       "      <th>Product_Name</th>\n",
       "      <th>Stars</th>\n",
       "      <th>Ratings</th>\n",
       "      <th>Reviews</th>\n",
       "      <th>current_price</th>\n",
       "      <th>MRP</th>\n",
       "      <th>channel</th>\n",
       "      <th>Operating_system</th>\n",
       "      <th>Picture_quality</th>\n",
       "      <th>Speaker</th>\n",
       "      <th>Frequency</th>\n",
       "    </tr>\n",
       "  </thead>\n",
       "  <tbody>\n",
       "    <tr>\n",
       "      <th>0</th>\n",
       "      <td>Croma</td>\n",
       "      <td>4.2</td>\n",
       "      <td>1773</td>\n",
       "      <td>217</td>\n",
       "      <td>7990</td>\n",
       "      <td>20000</td>\n",
       "      <td>HD Ready 1366 x 768 Pixels</td>\n",
       "      <td>20 Speaker Output</td>\n",
       "      <td>60 Hz Refresh Rate</td>\n",
       "      <td>2 x HDMI | 2 x USB</td>\n",
       "      <td>1 Year Warranty</td>\n",
       "    </tr>\n",
       "    <tr>\n",
       "      <th>1</th>\n",
       "      <td>Adsun</td>\n",
       "      <td>3.8</td>\n",
       "      <td>6742</td>\n",
       "      <td>930</td>\n",
       "      <td>8699</td>\n",
       "      <td>21999</td>\n",
       "      <td>Netflix|Disney+Hotstar|Youtube</td>\n",
       "      <td>Operating System: Android Based</td>\n",
       "      <td>HD Ready 1366 x 768 Pixels</td>\n",
       "      <td>20 W Speaker Output</td>\n",
       "      <td>60 Hz Refresh Rate</td>\n",
       "    </tr>\n",
       "    <tr>\n",
       "      <th>2</th>\n",
       "      <td>LG</td>\n",
       "      <td>4.4</td>\n",
       "      <td>38870</td>\n",
       "      <td>3443</td>\n",
       "      <td>16499</td>\n",
       "      <td>21990</td>\n",
       "      <td>Netflix|Prime Video|Disney+Hotstar|Youtube</td>\n",
       "      <td>Operating System: WebOS</td>\n",
       "      <td>HD Ready 1366 x 768 Pixels</td>\n",
       "      <td>10 W Speaker Output</td>\n",
       "      <td>50 Hz Refresh Rate</td>\n",
       "    </tr>\n",
       "    <tr>\n",
       "      <th>3</th>\n",
       "      <td>OnePlus</td>\n",
       "      <td>4.3</td>\n",
       "      <td>101256</td>\n",
       "      <td>9189</td>\n",
       "      <td>16499</td>\n",
       "      <td>21999</td>\n",
       "      <td>Netflix|Prime Video|Disney+Hotstar|Youtube</td>\n",
       "      <td>Operating System: Android</td>\n",
       "      <td>HD Ready 1366 x 768 Pixels</td>\n",
       "      <td>20 W Speaker Output</td>\n",
       "      <td>60 Hz Refresh Rate</td>\n",
       "    </tr>\n",
       "    <tr>\n",
       "      <th>4</th>\n",
       "      <td>Xiaomi</td>\n",
       "      <td>4.3</td>\n",
       "      <td>3120</td>\n",
       "      <td>305</td>\n",
       "      <td>15499</td>\n",
       "      <td>24999</td>\n",
       "      <td>Netflix|Prime Video|Disney+Hotstar|Youtube</td>\n",
       "      <td>Operating System: Android</td>\n",
       "      <td>HD Ready 1366 x 768 Pixels</td>\n",
       "      <td>20 W Speaker Output</td>\n",
       "      <td>60 Hz Refresh Rate</td>\n",
       "    </tr>\n",
       "  </tbody>\n",
       "</table>\n",
       "</div>"
      ],
      "text/plain": [
       "  Product_Name  Stars  Ratings  Reviews  current_price    MRP  \\\n",
       "0        Croma    4.2     1773      217           7990  20000   \n",
       "1        Adsun    3.8     6742      930           8699  21999   \n",
       "2           LG    4.4    38870     3443          16499  21990   \n",
       "3      OnePlus    4.3   101256     9189          16499  21999   \n",
       "4       Xiaomi    4.3     3120      305          15499  24999   \n",
       "\n",
       "                                      channel  \\\n",
       "0                  HD Ready 1366 x 768 Pixels   \n",
       "1              Netflix|Disney+Hotstar|Youtube   \n",
       "2  Netflix|Prime Video|Disney+Hotstar|Youtube   \n",
       "3  Netflix|Prime Video|Disney+Hotstar|Youtube   \n",
       "4  Netflix|Prime Video|Disney+Hotstar|Youtube   \n",
       "\n",
       "                  Operating_system             Picture_quality  \\\n",
       "0                20 Speaker Output          60 Hz Refresh Rate   \n",
       "1  Operating System: Android Based  HD Ready 1366 x 768 Pixels   \n",
       "2          Operating System: WebOS  HD Ready 1366 x 768 Pixels   \n",
       "3        Operating System: Android  HD Ready 1366 x 768 Pixels   \n",
       "4        Operating System: Android  HD Ready 1366 x 768 Pixels   \n",
       "\n",
       "               Speaker           Frequency  \n",
       "0   2 x HDMI | 2 x USB     1 Year Warranty  \n",
       "1  20 W Speaker Output  60 Hz Refresh Rate  \n",
       "2  10 W Speaker Output  50 Hz Refresh Rate  \n",
       "3  20 W Speaker Output  60 Hz Refresh Rate  \n",
       "4  20 W Speaker Output  60 Hz Refresh Rate  "
      ]
     },
     "execution_count": 3,
     "metadata": {},
     "output_type": "execute_result"
    }
   ],
   "source": [
    "tv.head()"
   ]
  },
  {
   "cell_type": "markdown",
   "id": "de0583b1",
   "metadata": {},
   "source": [
    "#q1\n",
    "frequency는 price에 가장 큰 영향을 미친다.\n",
    "데이터 수집 중 frequency 값 중 일부가 picture_quality, speaker 변수에 잘못 입력되었다. frequency 데이터를 취합하여 전체 tv 중 60hz 인 tv 가 몇 대인지 구하라\n",
    "frequency 는 모두 hz로 끝난다.\n",
    "결측치는 분석에서 제외"
   ]
  },
  {
   "cell_type": "code",
   "execution_count": 5,
   "id": "d0264a9d",
   "metadata": {},
   "outputs": [
    {
     "data": {
      "text/plain": [
       "666"
      ]
     },
     "execution_count": 5,
     "metadata": {},
     "output_type": "execute_result"
    }
   ],
   "source": [
    "len(tv)"
   ]
  },
  {
   "cell_type": "code",
   "execution_count": 13,
   "id": "e6bce749",
   "metadata": {},
   "outputs": [
    {
     "data": {
      "text/plain": [
       "510"
      ]
     },
     "execution_count": 13,
     "metadata": {},
     "output_type": "execute_result"
    }
   ],
   "source": [
    "len(tv[tv['Frequency'].str.contains('60 Hz')]) + len(tv[tv['Picture_quality'].str.contains('60 Hz')]) +len(tv[tv['Speaker'].str.contains('60 Hz')])"
   ]
  },
  {
   "cell_type": "markdown",
   "id": "5c3e9f2f",
   "metadata": {},
   "source": [
    "#q2\n",
    "picture quality : HD, 4K, 8K\n",
    "8K 제품군의 평가 stars 평균값과 4k 제품군의 평균 점수와의 평균값 차이의 절대값을 산출\n",
    "picture quality 정보는 operating system, channel, picture quality 변수에 흩어져 있다.\n",
    "결과는 반올림하여 소수점 둘째자리까지 출력"
   ]
  },
  {
   "cell_type": "code",
   "execution_count": 43,
   "id": "3975309d",
   "metadata": {},
   "outputs": [
    {
     "data": {
      "text/plain": [
       "666"
      ]
     },
     "execution_count": 43,
     "metadata": {},
     "output_type": "execute_result"
    }
   ],
   "source": [
    "len(tv)"
   ]
  },
  {
   "cell_type": "code",
   "execution_count": 52,
   "id": "cdba5440",
   "metadata": {},
   "outputs": [
    {
     "data": {
      "text/plain": [
       "array(['60 Hz Refresh Rate', 'HD Ready 1366 x 768 Pixels',\n",
       "       'Ultra HD (4K) 3840 x 2160 Pixels', 'Full HD 1920 x 1080 Pixels',\n",
       "       'Ultra HD (4K) Crystal 4K FE UHD (3840 x 2160) Pixels',\n",
       "       'Full HD 1080 x 1920 Pixels', 'HD Ready 1366 x768 Pixels',\n",
       "       'Ultra HD (4K) 3840×2160 Pixels', 'Full HD 1920x1080 Pixels',\n",
       "       'Ultra HD (4K) 3860 x 2160 Pixels',\n",
       "       'Ultra HD (4K) 3840X2160 Pixels', '24W Speaker Output',\n",
       "       'Ultra HD (4K) 3840 × 2160 Pixels',\n",
       "       'Ultra HD (4K) 3840*2160 Pixels', 'Ultra HD (4K) 3840x2160 Pixels',\n",
       "       '120 Hz Refresh Rate', '100 Hz Refresh Rate',\n",
       "       '20 W Speaker Output', '200 Hz Refresh Rate',\n",
       "       '16 W Speaker Output', '58 Hz Refresh Rate', '40 W Speaker Output',\n",
       "       '50 Hz Refresh Rate', '16W Speaker Output',\n",
       "       'Full HD 1366x814 Pixels', 'Full HD 1366x785 Pixels',\n",
       "       'HD Ready 1366x768 Pixels', 'Full HD 1366x770 Pixels',\n",
       "       'Ultra HD (8K) 7680 x 4320 Pixels', 'Full HD 1366x796 Pixels',\n",
       "       '20 Speaker Output', 'Full HD 1366x768 Pixels',\n",
       "       'Full HD 1366x778 Pixels', 'Full HD 1366x812 Pixels',\n",
       "       'Ultra HD (4K) 3840 � 2160 Pixels', 'Full HD 1366x777 Pixels',\n",
       "       'Full HD 1366x779 Pixels', 'Full HD 1920*1080 Pixels',\n",
       "       'Full HD 1366x799 Pixels', 'Full HD 1366x800 Pixels',\n",
       "       'Full HD 1366x782 Pixels', 'Full HD 1366x769 Pixels',\n",
       "       'Full HD 1366x805 Pixels', 'Full HD 1366x794 Pixels',\n",
       "       'Full HD 1366x811 Pixels', 'Full HD 1366x803 Pixels',\n",
       "       'Full HD 1366x787 Pixels', 'Full HD 1366x783 Pixels',\n",
       "       '60 Hz Refresh Rate for a blur-free picture quality',\n",
       "       'Full HD 1366x775 Pixels', 'Full HD 1366x797 Pixels',\n",
       "       'Full HD 1366x780 Pixels', 'Full HD 1366x786 Pixels',\n",
       "       'Full HD 1366x772 Pixels', 'Full HD 1366x817 Pixels',\n",
       "       'Full HD 1366x792 Pixels', 'Full HD 1366x774 Pixels',\n",
       "       'Full HD 1366x781 Pixels', 'Full HD 1366x798 Pixels',\n",
       "       'Full HD 1366x771 Pixels', 'Full HD 1366x813 Pixels',\n",
       "       '300 Hz Refresh Rate', '16 Speaker Output'], dtype=object)"
      ]
     },
     "execution_count": 52,
     "metadata": {},
     "output_type": "execute_result"
    }
   ],
   "source": [
    "tv['Picture_quality'].unique()"
   ]
  },
  {
   "cell_type": "code",
   "execution_count": 53,
   "id": "0f447d12",
   "metadata": {},
   "outputs": [
    {
     "data": {
      "text/plain": [
       "543"
      ]
     },
     "execution_count": 53,
     "metadata": {},
     "output_type": "execute_result"
    }
   ],
   "source": [
    "len(tv[tv['Picture_quality'].str.contains('Pixels')==True])"
   ]
  },
  {
   "cell_type": "code",
   "execution_count": 50,
   "id": "92adf26a",
   "metadata": {},
   "outputs": [
    {
     "data": {
      "text/plain": [
       "328"
      ]
     },
     "execution_count": 50,
     "metadata": {},
     "output_type": "execute_result"
    }
   ],
   "source": [
    "len(tv[tv['Picture_quality'].str.contains('4K')==True])"
   ]
  },
  {
   "cell_type": "code",
   "execution_count": 54,
   "id": "48effff5",
   "metadata": {},
   "outputs": [
    {
     "data": {
      "text/plain": [
       "1"
      ]
     },
     "execution_count": 54,
     "metadata": {},
     "output_type": "execute_result"
    }
   ],
   "source": [
    "len(tv[tv['Picture_quality'].str.contains('8K')==True])"
   ]
  },
  {
   "cell_type": "code",
   "execution_count": 55,
   "id": "829afaf7",
   "metadata": {},
   "outputs": [
    {
     "data": {
      "text/plain": [
       "24"
      ]
     },
     "execution_count": 55,
     "metadata": {},
     "output_type": "execute_result"
    }
   ],
   "source": [
    "len(tv[tv['Operating_system'].str.contains('Pixels') == True])"
   ]
  },
  {
   "cell_type": "code",
   "execution_count": 56,
   "id": "a34193ed",
   "metadata": {},
   "outputs": [
    {
     "data": {
      "text/plain": [
       "99"
      ]
     },
     "execution_count": 56,
     "metadata": {},
     "output_type": "execute_result"
    }
   ],
   "source": [
    "len(tv[tv['channel'].str.contains('Pixels') == True])"
   ]
  },
  {
   "cell_type": "code",
   "execution_count": 57,
   "id": "c6d96e67",
   "metadata": {},
   "outputs": [
    {
     "data": {
      "text/plain": [
       "666"
      ]
     },
     "execution_count": 57,
     "metadata": {},
     "output_type": "execute_result"
    }
   ],
   "source": [
    "#겹치는 값 없음\n",
    "len(tv[tv['Picture_quality'].str.contains('Pixels')==True]) + len(tv[tv['Operating_system'].str.contains('Pixels') == True]) + len(tv[tv['channel'].str.contains('Pixels') == True])"
   ]
  },
  {
   "cell_type": "code",
   "execution_count": 72,
   "id": "b3728724",
   "metadata": {},
   "outputs": [
    {
     "data": {
      "text/plain": [
       "0"
      ]
     },
     "execution_count": 72,
     "metadata": {},
     "output_type": "execute_result"
    }
   ],
   "source": [
    "tv[tv['Picture_quality'].str.contains('4K')==True]['Stars'].isna().sum(axis = 0)"
   ]
  },
  {
   "cell_type": "code",
   "execution_count": 73,
   "id": "adc09a46",
   "metadata": {},
   "outputs": [
    {
     "data": {
      "text/plain": [
       "0"
      ]
     },
     "execution_count": 73,
     "metadata": {},
     "output_type": "execute_result"
    }
   ],
   "source": [
    "tv[tv['Picture_quality'].str.contains('8K')==True]['Stars'].isna().sum(axis = 0)"
   ]
  },
  {
   "cell_type": "code",
   "execution_count": 76,
   "id": "2c4a8077",
   "metadata": {},
   "outputs": [
    {
     "data": {
      "text/plain": [
       "0"
      ]
     },
     "execution_count": 76,
     "metadata": {},
     "output_type": "execute_result"
    }
   ],
   "source": [
    "tv[tv['Operating_system'].str.contains('4K') == True]['Stars'].isna().sum(axis = 0)"
   ]
  },
  {
   "cell_type": "code",
   "execution_count": 75,
   "id": "16241492",
   "metadata": {},
   "outputs": [
    {
     "data": {
      "text/plain": [
       "0"
      ]
     },
     "execution_count": 75,
     "metadata": {},
     "output_type": "execute_result"
    }
   ],
   "source": [
    "tv[tv['Operating_system'].str.contains('8K') == True]['Stars'].isna().sum(axis = 0)"
   ]
  },
  {
   "cell_type": "code",
   "execution_count": 78,
   "id": "f6542dcd",
   "metadata": {},
   "outputs": [
    {
     "data": {
      "text/plain": [
       "0"
      ]
     },
     "execution_count": 78,
     "metadata": {},
     "output_type": "execute_result"
    }
   ],
   "source": [
    "tv[tv['channel'].str.contains('4K') == True]['Stars'].isna().sum(axis = 0)"
   ]
  },
  {
   "cell_type": "code",
   "execution_count": 79,
   "id": "edeeeb05",
   "metadata": {},
   "outputs": [
    {
     "data": {
      "text/plain": [
       "0"
      ]
     },
     "execution_count": 79,
     "metadata": {},
     "output_type": "execute_result"
    }
   ],
   "source": [
    "tv[tv['channel'].str.contains('8K') == True]['Stars'].isna().sum(axis = 0)"
   ]
  },
  {
   "cell_type": "code",
   "execution_count": 95,
   "id": "24d317be",
   "metadata": {},
   "outputs": [],
   "source": [
    "a = tv[tv['Picture_quality'].str.contains('4K') | tv['channel'].str.contains('4K') | tv['Operating_system'].str.contains('4K')]['Stars'].mean()"
   ]
  },
  {
   "cell_type": "code",
   "execution_count": 96,
   "id": "7b1204aa",
   "metadata": {},
   "outputs": [],
   "source": [
    "b= tv[tv['Picture_quality'].str.contains('8K') | tv['channel'].str.contains('8K') | tv['Operating_system'].str.contains('8K')]['Stars'].mean()"
   ]
  },
  {
   "cell_type": "code",
   "execution_count": 97,
   "id": "027b01e8",
   "metadata": {},
   "outputs": [
    {
     "data": {
      "text/plain": [
       "0.38"
      ]
     },
     "execution_count": 97,
     "metadata": {},
     "output_type": "execute_result"
    }
   ],
   "source": [
    "round(np.abs(np.subtract(a,b)),2)"
   ]
  },
  {
   "cell_type": "markdown",
   "id": "61cb4646",
   "metadata": {},
   "source": [
    "#q3\n",
    "기존변수와 파생변수를 생성 후 해당 변수를 독립변수로 하고 평가점수 stars 를 종속변수로 하여 random forest 분석을 통해 좋은 평가를 받는 제품의 조건을 알아보고자 한다.\n",
    "변수 중요도를 확인하고, 가장 큰 값을 가진 변수를 찾아라\n"
   ]
  },
  {
   "cell_type": "code",
   "execution_count": 122,
   "id": "767fd549",
   "metadata": {},
   "outputs": [],
   "source": [
    "#결측치 제거\n",
    "tv['Reviews'].isna().sum(axis = 0), tv['Ratings'].isna().sum(axis = 0)\n",
    "tv_0 = tv[tv['Ratings'] != 0]\n",
    "tv_1 = tv_0[tv_0['MRP']!=0]\n",
    "tv_2 = tv_1[~tv_1['channel'].str.contains('Pixels') & ~tv_1['channel'].str.contains('Oper')]"
   ]
  },
  {
   "cell_type": "code",
   "execution_count": 127,
   "id": "8a562edd",
   "metadata": {},
   "outputs": [
    {
     "name": "stderr",
     "output_type": "stream",
     "text": [
      "/var/folders/08/qfhf2lxn7wlcym8tkm5j1t640000gn/T/ipykernel_26177/1594596884.py:1: SettingWithCopyWarning: \n",
      "A value is trying to be set on a copy of a slice from a DataFrame.\n",
      "Try using .loc[row_indexer,col_indexer] = value instead\n",
      "\n",
      "See the caveats in the documentation: https://pandas.pydata.org/pandas-docs/stable/user_guide/indexing.html#returning-a-view-versus-a-copy\n",
      "  tv_2['review_ratios'] = tv_2['Reviews']/tv_2['Ratings']\n",
      "/var/folders/08/qfhf2lxn7wlcym8tkm5j1t640000gn/T/ipykernel_26177/1594596884.py:2: SettingWithCopyWarning: \n",
      "A value is trying to be set on a copy of a slice from a DataFrame.\n",
      "Try using .loc[row_indexer,col_indexer] = value instead\n",
      "\n",
      "See the caveats in the documentation: https://pandas.pydata.org/pandas-docs/stable/user_guide/indexing.html#returning-a-view-versus-a-copy\n",
      "  tv_2['sale_rate'] = tv_2['current_price']/tv_2['MRP']\n",
      "/var/folders/08/qfhf2lxn7wlcym8tkm5j1t640000gn/T/ipykernel_26177/1594596884.py:3: SettingWithCopyWarning: \n",
      "A value is trying to be set on a copy of a slice from a DataFrame.\n",
      "Try using .loc[row_indexer,col_indexer] = value instead\n",
      "\n",
      "See the caveats in the documentation: https://pandas.pydata.org/pandas-docs/stable/user_guide/indexing.html#returning-a-view-versus-a-copy\n",
      "  tv_2['netflix'] = tv_2['channel'].str.contains('Netflix') == True\n",
      "/var/folders/08/qfhf2lxn7wlcym8tkm5j1t640000gn/T/ipykernel_26177/1594596884.py:4: SettingWithCopyWarning: \n",
      "A value is trying to be set on a copy of a slice from a DataFrame.\n",
      "Try using .loc[row_indexer,col_indexer] = value instead\n",
      "\n",
      "See the caveats in the documentation: https://pandas.pydata.org/pandas-docs/stable/user_guide/indexing.html#returning-a-view-versus-a-copy\n",
      "  tv_2['prime_video'] = tv_2['channel'].str.contains('Prime Video') == True\n"
     ]
    }
   ],
   "source": [
    "tv_2['review_ratios'] = tv_2['Reviews']/tv_2['Ratings']\n",
    "tv_2['sale_rate'] = tv_2['current_price']/tv_2['MRP']\n",
    "tv_2['netflix'] = tv_2['channel'].str.contains('Netflix') == True\n",
    "tv_2['prime_video'] = tv_2['channel'].str.contains('Prime Video') == True"
   ]
  },
  {
   "cell_type": "code",
   "execution_count": 129,
   "id": "c21af60c",
   "metadata": {},
   "outputs": [
    {
     "name": "stderr",
     "output_type": "stream",
     "text": [
      "/var/folders/08/qfhf2lxn7wlcym8tkm5j1t640000gn/T/ipykernel_26177/825523077.py:1: SettingWithCopyWarning: \n",
      "A value is trying to be set on a copy of a slice from a DataFrame.\n",
      "Try using .loc[row_indexer,col_indexer] = value instead\n",
      "\n",
      "See the caveats in the documentation: https://pandas.pydata.org/pandas-docs/stable/user_guide/indexing.html#returning-a-view-versus-a-copy\n",
      "  tv_2['netflix'] = tv_2['netflix'].astype(int)\n",
      "/var/folders/08/qfhf2lxn7wlcym8tkm5j1t640000gn/T/ipykernel_26177/825523077.py:2: SettingWithCopyWarning: \n",
      "A value is trying to be set on a copy of a slice from a DataFrame.\n",
      "Try using .loc[row_indexer,col_indexer] = value instead\n",
      "\n",
      "See the caveats in the documentation: https://pandas.pydata.org/pandas-docs/stable/user_guide/indexing.html#returning-a-view-versus-a-copy\n",
      "  tv_2['prime_video'] = tv_2['prime_video'].astype(int)\n"
     ]
    }
   ],
   "source": [
    "tv_2['netflix'] = tv_2['netflix'].astype(int)\n",
    "tv_2['prime_video'] = tv_2['prime_video'].astype(int)"
   ]
  },
  {
   "cell_type": "code",
   "execution_count": 130,
   "id": "85361d7f",
   "metadata": {},
   "outputs": [
    {
     "name": "stderr",
     "output_type": "stream",
     "text": [
      "/var/folders/08/qfhf2lxn7wlcym8tkm5j1t640000gn/T/ipykernel_26177/1667785214.py:1: SettingWithCopyWarning: \n",
      "A value is trying to be set on a copy of a slice from a DataFrame.\n",
      "Try using .loc[row_indexer,col_indexer] = value instead\n",
      "\n",
      "See the caveats in the documentation: https://pandas.pydata.org/pandas-docs/stable/user_guide/indexing.html#returning-a-view-versus-a-copy\n",
      "  tv_2['high_quality'] = tv_2['Picture_quality'].str.contains('4K|8K') == True\n"
     ]
    }
   ],
   "source": [
    "tv_2['high_quality'] = tv_2['Picture_quality'].str.contains('4K|8K') == True\n",
    "tv_2['high_quality'] = tv_2['high_quality'].astype(int)"
   ]
  },
  {
   "cell_type": "code",
   "execution_count": 131,
   "id": "7d865c02",
   "metadata": {},
   "outputs": [],
   "source": [
    "tv_f = tv_2[['review_ratios', 'MRP','sale_rate','netflix','prime_video','high_quality','Stars']]"
   ]
  },
  {
   "cell_type": "code",
   "execution_count": 132,
   "id": "aed0ecd0",
   "metadata": {},
   "outputs": [
    {
     "data": {
      "text/html": [
       "<div>\n",
       "<style scoped>\n",
       "    .dataframe tbody tr th:only-of-type {\n",
       "        vertical-align: middle;\n",
       "    }\n",
       "\n",
       "    .dataframe tbody tr th {\n",
       "        vertical-align: top;\n",
       "    }\n",
       "\n",
       "    .dataframe thead th {\n",
       "        text-align: right;\n",
       "    }\n",
       "</style>\n",
       "<table border=\"1\" class=\"dataframe\">\n",
       "  <thead>\n",
       "    <tr style=\"text-align: right;\">\n",
       "      <th></th>\n",
       "      <th>review_ratios</th>\n",
       "      <th>MRP</th>\n",
       "      <th>sale_rate</th>\n",
       "      <th>netflix</th>\n",
       "      <th>prime_video</th>\n",
       "      <th>high_quality</th>\n",
       "      <th>Stars</th>\n",
       "    </tr>\n",
       "  </thead>\n",
       "  <tbody>\n",
       "    <tr>\n",
       "      <th>1</th>\n",
       "      <td>0.137941</td>\n",
       "      <td>21999</td>\n",
       "      <td>0.395427</td>\n",
       "      <td>1</td>\n",
       "      <td>0</td>\n",
       "      <td>False</td>\n",
       "      <td>3.8</td>\n",
       "    </tr>\n",
       "    <tr>\n",
       "      <th>2</th>\n",
       "      <td>0.088577</td>\n",
       "      <td>21990</td>\n",
       "      <td>0.750296</td>\n",
       "      <td>1</td>\n",
       "      <td>1</td>\n",
       "      <td>False</td>\n",
       "      <td>4.4</td>\n",
       "    </tr>\n",
       "    <tr>\n",
       "      <th>3</th>\n",
       "      <td>0.090750</td>\n",
       "      <td>21999</td>\n",
       "      <td>0.749989</td>\n",
       "      <td>1</td>\n",
       "      <td>1</td>\n",
       "      <td>False</td>\n",
       "      <td>4.3</td>\n",
       "    </tr>\n",
       "    <tr>\n",
       "      <th>4</th>\n",
       "      <td>0.097756</td>\n",
       "      <td>24999</td>\n",
       "      <td>0.619985</td>\n",
       "      <td>1</td>\n",
       "      <td>1</td>\n",
       "      <td>False</td>\n",
       "      <td>4.3</td>\n",
       "    </tr>\n",
       "    <tr>\n",
       "      <th>5</th>\n",
       "      <td>0.089692</td>\n",
       "      <td>22900</td>\n",
       "      <td>0.698646</td>\n",
       "      <td>1</td>\n",
       "      <td>0</td>\n",
       "      <td>False</td>\n",
       "      <td>4.4</td>\n",
       "    </tr>\n",
       "    <tr>\n",
       "      <th>...</th>\n",
       "      <td>...</td>\n",
       "      <td>...</td>\n",
       "      <td>...</td>\n",
       "      <td>...</td>\n",
       "      <td>...</td>\n",
       "      <td>...</td>\n",
       "      <td>...</td>\n",
       "    </tr>\n",
       "    <tr>\n",
       "      <th>645</th>\n",
       "      <td>0.158607</td>\n",
       "      <td>19500</td>\n",
       "      <td>0.691795</td>\n",
       "      <td>1</td>\n",
       "      <td>0</td>\n",
       "      <td>False</td>\n",
       "      <td>4.0</td>\n",
       "    </tr>\n",
       "    <tr>\n",
       "      <th>647</th>\n",
       "      <td>0.177431</td>\n",
       "      <td>43990</td>\n",
       "      <td>0.840873</td>\n",
       "      <td>1</td>\n",
       "      <td>1</td>\n",
       "      <td>True</td>\n",
       "      <td>4.4</td>\n",
       "    </tr>\n",
       "    <tr>\n",
       "      <th>655</th>\n",
       "      <td>0.146341</td>\n",
       "      <td>27990</td>\n",
       "      <td>0.821686</td>\n",
       "      <td>1</td>\n",
       "      <td>1</td>\n",
       "      <td>False</td>\n",
       "      <td>4.4</td>\n",
       "    </tr>\n",
       "    <tr>\n",
       "      <th>657</th>\n",
       "      <td>0.215753</td>\n",
       "      <td>31900</td>\n",
       "      <td>0.860470</td>\n",
       "      <td>1</td>\n",
       "      <td>0</td>\n",
       "      <td>False</td>\n",
       "      <td>4.4</td>\n",
       "    </tr>\n",
       "    <tr>\n",
       "      <th>662</th>\n",
       "      <td>0.178666</td>\n",
       "      <td>68400</td>\n",
       "      <td>0.499766</td>\n",
       "      <td>1</td>\n",
       "      <td>1</td>\n",
       "      <td>True</td>\n",
       "      <td>4.5</td>\n",
       "    </tr>\n",
       "  </tbody>\n",
       "</table>\n",
       "<p>197 rows × 7 columns</p>\n",
       "</div>"
      ],
      "text/plain": [
       "     review_ratios    MRP  sale_rate  netflix  prime_video  high_quality  \\\n",
       "1         0.137941  21999   0.395427        1            0         False   \n",
       "2         0.088577  21990   0.750296        1            1         False   \n",
       "3         0.090750  21999   0.749989        1            1         False   \n",
       "4         0.097756  24999   0.619985        1            1         False   \n",
       "5         0.089692  22900   0.698646        1            0         False   \n",
       "..             ...    ...        ...      ...          ...           ...   \n",
       "645       0.158607  19500   0.691795        1            0         False   \n",
       "647       0.177431  43990   0.840873        1            1          True   \n",
       "655       0.146341  27990   0.821686        1            1         False   \n",
       "657       0.215753  31900   0.860470        1            0         False   \n",
       "662       0.178666  68400   0.499766        1            1          True   \n",
       "\n",
       "     Stars  \n",
       "1      3.8  \n",
       "2      4.4  \n",
       "3      4.3  \n",
       "4      4.3  \n",
       "5      4.4  \n",
       "..     ...  \n",
       "645    4.0  \n",
       "647    4.4  \n",
       "655    4.4  \n",
       "657    4.4  \n",
       "662    4.5  \n",
       "\n",
       "[197 rows x 7 columns]"
      ]
     },
     "execution_count": 132,
     "metadata": {},
     "output_type": "execute_result"
    }
   ],
   "source": [
    "tv_f"
   ]
  },
  {
   "cell_type": "code",
   "execution_count": 133,
   "id": "29a63a60",
   "metadata": {},
   "outputs": [],
   "source": [
    "X_train = tv_f[['review_ratios','MRP','sale_rate','netflix','prime_video','high_quality']]\n",
    "y_train = tv_f['Stars']"
   ]
  },
  {
   "cell_type": "code",
   "execution_count": 134,
   "id": "7ea1db06",
   "metadata": {},
   "outputs": [],
   "source": [
    "rf = RandomForestRegressor(random_state = 123)"
   ]
  },
  {
   "cell_type": "code",
   "execution_count": 135,
   "id": "b457278c",
   "metadata": {},
   "outputs": [
    {
     "data": {
      "text/plain": [
       "RandomForestRegressor(random_state=123)"
      ]
     },
     "execution_count": 135,
     "metadata": {},
     "output_type": "execute_result"
    }
   ],
   "source": [
    "rf.fit(X_train,y_train)"
   ]
  },
  {
   "cell_type": "code",
   "execution_count": 140,
   "id": "a9faaaa5",
   "metadata": {},
   "outputs": [
    {
     "data": {
      "text/plain": [
       "array([0.31220617, 0.17383963, 0.4446912 , 0.02714087, 0.02400442,\n",
       "       0.01811773])"
      ]
     },
     "execution_count": 140,
     "metadata": {},
     "output_type": "execute_result"
    }
   ],
   "source": [
    "#rf.predict\n",
    "rf.feature_importances_"
   ]
  },
  {
   "cell_type": "code",
   "execution_count": null,
   "id": "14c90851",
   "metadata": {},
   "outputs": [],
   "source": []
  },
  {
   "cell_type": "code",
   "execution_count": 141,
   "id": "3e3c28a0",
   "metadata": {},
   "outputs": [],
   "source": [
    "#q2\n",
    "gal = pd.read_csv('./galaxy_users.csv')"
   ]
  },
  {
   "cell_type": "code",
   "execution_count": 142,
   "id": "1134e4bd",
   "metadata": {},
   "outputs": [],
   "source": [
    "from sklearn.preprocessing import MinMaxScaler\n",
    "from sklearn.model_selection import train_test_split\n",
    "from sklearn.linear_model import LogisticRegression\n",
    "from sklearn.metrics import f1_score"
   ]
  },
  {
   "cell_type": "markdown",
   "id": "5cf8ca55",
   "metadata": {},
   "source": [
    "#q1. \n",
    "부가서비스를 많이 사용할 수록 제품/브랜드에 관여를 많이 한다는 가설을 세우고 분석하려한다.\n",
    "고객별 부가서비스 사용 현황 통계를 산출\n",
    "부가 서비스 1개 사용하는 사람은 6개 사용하는 사람보다 몇 배나 많은 지 계산하라"
   ]
  },
  {
   "cell_type": "code",
   "execution_count": 144,
   "id": "dd054e56",
   "metadata": {},
   "outputs": [],
   "source": [
    "add_ser = ['OnlineSecurity','OnlineBackup', 'DeviceProtection','TechSupport', 'StreamingTV', 'StreamingMovies']"
   ]
  },
  {
   "cell_type": "code",
   "execution_count": 145,
   "id": "e85f2219",
   "metadata": {},
   "outputs": [
    {
     "data": {
      "text/html": [
       "<div>\n",
       "<style scoped>\n",
       "    .dataframe tbody tr th:only-of-type {\n",
       "        vertical-align: middle;\n",
       "    }\n",
       "\n",
       "    .dataframe tbody tr th {\n",
       "        vertical-align: top;\n",
       "    }\n",
       "\n",
       "    .dataframe thead th {\n",
       "        text-align: right;\n",
       "    }\n",
       "</style>\n",
       "<table border=\"1\" class=\"dataframe\">\n",
       "  <thead>\n",
       "    <tr style=\"text-align: right;\">\n",
       "      <th></th>\n",
       "      <th>OnlineSecurity</th>\n",
       "      <th>OnlineBackup</th>\n",
       "      <th>DeviceProtection</th>\n",
       "      <th>TechSupport</th>\n",
       "      <th>StreamingTV</th>\n",
       "      <th>StreamingMovies</th>\n",
       "    </tr>\n",
       "  </thead>\n",
       "  <tbody>\n",
       "    <tr>\n",
       "      <th>0</th>\n",
       "      <td>No</td>\n",
       "      <td>Yes</td>\n",
       "      <td>No</td>\n",
       "      <td>No</td>\n",
       "      <td>No</td>\n",
       "      <td>No</td>\n",
       "    </tr>\n",
       "    <tr>\n",
       "      <th>1</th>\n",
       "      <td>Yes</td>\n",
       "      <td>No</td>\n",
       "      <td>Yes</td>\n",
       "      <td>No</td>\n",
       "      <td>No</td>\n",
       "      <td>No</td>\n",
       "    </tr>\n",
       "    <tr>\n",
       "      <th>2</th>\n",
       "      <td>Yes</td>\n",
       "      <td>Yes</td>\n",
       "      <td>No</td>\n",
       "      <td>No</td>\n",
       "      <td>No</td>\n",
       "      <td>No</td>\n",
       "    </tr>\n",
       "    <tr>\n",
       "      <th>3</th>\n",
       "      <td>Yes</td>\n",
       "      <td>No</td>\n",
       "      <td>Yes</td>\n",
       "      <td>Yes</td>\n",
       "      <td>No</td>\n",
       "      <td>No</td>\n",
       "    </tr>\n",
       "    <tr>\n",
       "      <th>4</th>\n",
       "      <td>No</td>\n",
       "      <td>No</td>\n",
       "      <td>No</td>\n",
       "      <td>No</td>\n",
       "      <td>No</td>\n",
       "      <td>No</td>\n",
       "    </tr>\n",
       "    <tr>\n",
       "      <th>...</th>\n",
       "      <td>...</td>\n",
       "      <td>...</td>\n",
       "      <td>...</td>\n",
       "      <td>...</td>\n",
       "      <td>...</td>\n",
       "      <td>...</td>\n",
       "    </tr>\n",
       "    <tr>\n",
       "      <th>7027</th>\n",
       "      <td>Yes</td>\n",
       "      <td>No</td>\n",
       "      <td>Yes</td>\n",
       "      <td>Yes</td>\n",
       "      <td>Yes</td>\n",
       "      <td>Yes</td>\n",
       "    </tr>\n",
       "    <tr>\n",
       "      <th>7028</th>\n",
       "      <td>No</td>\n",
       "      <td>Yes</td>\n",
       "      <td>Yes</td>\n",
       "      <td>No</td>\n",
       "      <td>Yes</td>\n",
       "      <td>Yes</td>\n",
       "    </tr>\n",
       "    <tr>\n",
       "      <th>7029</th>\n",
       "      <td>Yes</td>\n",
       "      <td>No</td>\n",
       "      <td>No</td>\n",
       "      <td>No</td>\n",
       "      <td>No</td>\n",
       "      <td>No</td>\n",
       "    </tr>\n",
       "    <tr>\n",
       "      <th>7030</th>\n",
       "      <td>No</td>\n",
       "      <td>No</td>\n",
       "      <td>No</td>\n",
       "      <td>No</td>\n",
       "      <td>No</td>\n",
       "      <td>No</td>\n",
       "    </tr>\n",
       "    <tr>\n",
       "      <th>7031</th>\n",
       "      <td>Yes</td>\n",
       "      <td>No</td>\n",
       "      <td>Yes</td>\n",
       "      <td>Yes</td>\n",
       "      <td>Yes</td>\n",
       "      <td>Yes</td>\n",
       "    </tr>\n",
       "  </tbody>\n",
       "</table>\n",
       "<p>7032 rows × 6 columns</p>\n",
       "</div>"
      ],
      "text/plain": [
       "     OnlineSecurity OnlineBackup DeviceProtection TechSupport StreamingTV  \\\n",
       "0                No          Yes               No          No          No   \n",
       "1               Yes           No              Yes          No          No   \n",
       "2               Yes          Yes               No          No          No   \n",
       "3               Yes           No              Yes         Yes          No   \n",
       "4                No           No               No          No          No   \n",
       "...             ...          ...              ...         ...         ...   \n",
       "7027            Yes           No              Yes         Yes         Yes   \n",
       "7028             No          Yes              Yes          No         Yes   \n",
       "7029            Yes           No               No          No          No   \n",
       "7030             No           No               No          No          No   \n",
       "7031            Yes           No              Yes         Yes         Yes   \n",
       "\n",
       "     StreamingMovies  \n",
       "0                 No  \n",
       "1                 No  \n",
       "2                 No  \n",
       "3                 No  \n",
       "4                 No  \n",
       "...              ...  \n",
       "7027             Yes  \n",
       "7028             Yes  \n",
       "7029              No  \n",
       "7030              No  \n",
       "7031             Yes  \n",
       "\n",
       "[7032 rows x 6 columns]"
      ]
     },
     "execution_count": 145,
     "metadata": {},
     "output_type": "execute_result"
    }
   ],
   "source": [
    "gal.loc[:,add_ser]"
   ]
  },
  {
   "cell_type": "code",
   "execution_count": 157,
   "id": "44b73eab",
   "metadata": {},
   "outputs": [],
   "source": [
    "par = [\"Yes\",\"No\"]"
   ]
  },
  {
   "cell_type": "code",
   "execution_count": 162,
   "id": "ae6e475c",
   "metadata": {},
   "outputs": [
    {
     "data": {
      "text/plain": [
       "7032"
      ]
     },
     "execution_count": 162,
     "metadata": {},
     "output_type": "execute_result"
    }
   ],
   "source": [
    "len(gal['customerID'].unique())"
   ]
  },
  {
   "cell_type": "code",
   "execution_count": 163,
   "id": "58e10475",
   "metadata": {},
   "outputs": [],
   "source": [
    "gal_n = gal[add_ser]"
   ]
  },
  {
   "cell_type": "code",
   "execution_count": 167,
   "id": "b951e83a",
   "metadata": {},
   "outputs": [
    {
     "data": {
      "text/html": [
       "<div>\n",
       "<style scoped>\n",
       "    .dataframe tbody tr th:only-of-type {\n",
       "        vertical-align: middle;\n",
       "    }\n",
       "\n",
       "    .dataframe tbody tr th {\n",
       "        vertical-align: top;\n",
       "    }\n",
       "\n",
       "    .dataframe thead th {\n",
       "        text-align: right;\n",
       "    }\n",
       "</style>\n",
       "<table border=\"1\" class=\"dataframe\">\n",
       "  <thead>\n",
       "    <tr style=\"text-align: right;\">\n",
       "      <th></th>\n",
       "      <th>OnlineSecurity</th>\n",
       "      <th>OnlineBackup</th>\n",
       "      <th>DeviceProtection</th>\n",
       "      <th>TechSupport</th>\n",
       "      <th>StreamingTV</th>\n",
       "      <th>StreamingMovies</th>\n",
       "    </tr>\n",
       "  </thead>\n",
       "  <tbody>\n",
       "    <tr>\n",
       "      <th>0</th>\n",
       "      <td>No</td>\n",
       "      <td>Yes</td>\n",
       "      <td>No</td>\n",
       "      <td>No</td>\n",
       "      <td>No</td>\n",
       "      <td>No</td>\n",
       "    </tr>\n",
       "    <tr>\n",
       "      <th>1</th>\n",
       "      <td>Yes</td>\n",
       "      <td>No</td>\n",
       "      <td>Yes</td>\n",
       "      <td>No</td>\n",
       "      <td>No</td>\n",
       "      <td>No</td>\n",
       "    </tr>\n",
       "    <tr>\n",
       "      <th>2</th>\n",
       "      <td>Yes</td>\n",
       "      <td>Yes</td>\n",
       "      <td>No</td>\n",
       "      <td>No</td>\n",
       "      <td>No</td>\n",
       "      <td>No</td>\n",
       "    </tr>\n",
       "    <tr>\n",
       "      <th>3</th>\n",
       "      <td>Yes</td>\n",
       "      <td>No</td>\n",
       "      <td>Yes</td>\n",
       "      <td>Yes</td>\n",
       "      <td>No</td>\n",
       "      <td>No</td>\n",
       "    </tr>\n",
       "    <tr>\n",
       "      <th>4</th>\n",
       "      <td>No</td>\n",
       "      <td>No</td>\n",
       "      <td>No</td>\n",
       "      <td>No</td>\n",
       "      <td>No</td>\n",
       "      <td>No</td>\n",
       "    </tr>\n",
       "    <tr>\n",
       "      <th>...</th>\n",
       "      <td>...</td>\n",
       "      <td>...</td>\n",
       "      <td>...</td>\n",
       "      <td>...</td>\n",
       "      <td>...</td>\n",
       "      <td>...</td>\n",
       "    </tr>\n",
       "    <tr>\n",
       "      <th>7027</th>\n",
       "      <td>Yes</td>\n",
       "      <td>No</td>\n",
       "      <td>Yes</td>\n",
       "      <td>Yes</td>\n",
       "      <td>Yes</td>\n",
       "      <td>Yes</td>\n",
       "    </tr>\n",
       "    <tr>\n",
       "      <th>7028</th>\n",
       "      <td>No</td>\n",
       "      <td>Yes</td>\n",
       "      <td>Yes</td>\n",
       "      <td>No</td>\n",
       "      <td>Yes</td>\n",
       "      <td>Yes</td>\n",
       "    </tr>\n",
       "    <tr>\n",
       "      <th>7029</th>\n",
       "      <td>Yes</td>\n",
       "      <td>No</td>\n",
       "      <td>No</td>\n",
       "      <td>No</td>\n",
       "      <td>No</td>\n",
       "      <td>No</td>\n",
       "    </tr>\n",
       "    <tr>\n",
       "      <th>7030</th>\n",
       "      <td>No</td>\n",
       "      <td>No</td>\n",
       "      <td>No</td>\n",
       "      <td>No</td>\n",
       "      <td>No</td>\n",
       "      <td>No</td>\n",
       "    </tr>\n",
       "    <tr>\n",
       "      <th>7031</th>\n",
       "      <td>Yes</td>\n",
       "      <td>No</td>\n",
       "      <td>Yes</td>\n",
       "      <td>Yes</td>\n",
       "      <td>Yes</td>\n",
       "      <td>Yes</td>\n",
       "    </tr>\n",
       "  </tbody>\n",
       "</table>\n",
       "<p>7032 rows × 6 columns</p>\n",
       "</div>"
      ],
      "text/plain": [
       "     OnlineSecurity OnlineBackup DeviceProtection TechSupport StreamingTV  \\\n",
       "0                No          Yes               No          No          No   \n",
       "1               Yes           No              Yes          No          No   \n",
       "2               Yes          Yes               No          No          No   \n",
       "3               Yes           No              Yes         Yes          No   \n",
       "4                No           No               No          No          No   \n",
       "...             ...          ...              ...         ...         ...   \n",
       "7027            Yes           No              Yes         Yes         Yes   \n",
       "7028             No          Yes              Yes          No         Yes   \n",
       "7029            Yes           No               No          No          No   \n",
       "7030             No           No               No          No          No   \n",
       "7031            Yes           No              Yes         Yes         Yes   \n",
       "\n",
       "     StreamingMovies  \n",
       "0                 No  \n",
       "1                 No  \n",
       "2                 No  \n",
       "3                 No  \n",
       "4                 No  \n",
       "...              ...  \n",
       "7027             Yes  \n",
       "7028             Yes  \n",
       "7029              No  \n",
       "7030              No  \n",
       "7031             Yes  \n",
       "\n",
       "[7032 rows x 6 columns]"
      ]
     },
     "execution_count": 167,
     "metadata": {},
     "output_type": "execute_result"
    }
   ],
   "source": [
    "gal_n[gal_n.isin(par) == True]"
   ]
  },
  {
   "cell_type": "code",
   "execution_count": 181,
   "id": "11c01646",
   "metadata": {},
   "outputs": [
    {
     "name": "stderr",
     "output_type": "stream",
     "text": [
      "/var/folders/08/qfhf2lxn7wlcym8tkm5j1t640000gn/T/ipykernel_26177/2217578548.py:1: SettingWithCopyWarning: \n",
      "A value is trying to be set on a copy of a slice from a DataFrame.\n",
      "Try using .loc[row_indexer,col_indexer] = value instead\n",
      "\n",
      "See the caveats in the documentation: https://pandas.pydata.org/pandas-docs/stable/user_guide/indexing.html#returning-a-view-versus-a-copy\n",
      "  gal_n['count'] = gal_n.apply(func=lambda x:x==\"Yes\").sum(axis=1)\n"
     ]
    }
   ],
   "source": [
    "gal_n['count'] = gal_n.apply(func=lambda x:x==\"Yes\").sum(axis=1)"
   ]
  },
  {
   "cell_type": "code",
   "execution_count": 188,
   "id": "911f96f7",
   "metadata": {},
   "outputs": [
    {
     "data": {
      "text/plain": [
       "3.4"
      ]
     },
     "execution_count": 188,
     "metadata": {},
     "output_type": "execute_result"
    }
   ],
   "source": [
    "round(len(gal_n[gal_n['count']==1])/len(gal_n[gal_n['count'] == 6]),1)"
   ]
  },
  {
   "cell_type": "markdown",
   "id": "473e3936",
   "metadata": {},
   "source": [
    "#q2\n",
    "근속 월수 tenure\n",
    "월별 청구 금액 MonthlyCharges\n",
    "통신사 사용 월수\n",
    "-> 피어슨 상관분석을 실시하고 그 결과 중 상관계수 절대값이 가장 높은 것을 확인\n"
   ]
  },
  {
   "cell_type": "code",
   "execution_count": 189,
   "id": "4c70552d",
   "metadata": {},
   "outputs": [
    {
     "data": {
      "text/html": [
       "<div>\n",
       "<style scoped>\n",
       "    .dataframe tbody tr th:only-of-type {\n",
       "        vertical-align: middle;\n",
       "    }\n",
       "\n",
       "    .dataframe tbody tr th {\n",
       "        vertical-align: top;\n",
       "    }\n",
       "\n",
       "    .dataframe thead th {\n",
       "        text-align: right;\n",
       "    }\n",
       "</style>\n",
       "<table border=\"1\" class=\"dataframe\">\n",
       "  <thead>\n",
       "    <tr style=\"text-align: right;\">\n",
       "      <th></th>\n",
       "      <th>customerID</th>\n",
       "      <th>gender</th>\n",
       "      <th>SeniorCitizen</th>\n",
       "      <th>Partner</th>\n",
       "      <th>Dependents</th>\n",
       "      <th>tenure</th>\n",
       "      <th>PhoneService</th>\n",
       "      <th>MultipleLines</th>\n",
       "      <th>InternetService</th>\n",
       "      <th>OnlineSecurity</th>\n",
       "      <th>...</th>\n",
       "      <th>DeviceProtection</th>\n",
       "      <th>TechSupport</th>\n",
       "      <th>StreamingTV</th>\n",
       "      <th>StreamingMovies</th>\n",
       "      <th>Contract</th>\n",
       "      <th>PaperlessBilling</th>\n",
       "      <th>PaymentMethod</th>\n",
       "      <th>MonthlyCharges</th>\n",
       "      <th>TotalCharges</th>\n",
       "      <th>Churn</th>\n",
       "    </tr>\n",
       "  </thead>\n",
       "  <tbody>\n",
       "    <tr>\n",
       "      <th>0</th>\n",
       "      <td>7590-VHVEG</td>\n",
       "      <td>Female</td>\n",
       "      <td>0</td>\n",
       "      <td>Yes</td>\n",
       "      <td>No</td>\n",
       "      <td>1</td>\n",
       "      <td>No</td>\n",
       "      <td>No phone service</td>\n",
       "      <td>DSL</td>\n",
       "      <td>No</td>\n",
       "      <td>...</td>\n",
       "      <td>No</td>\n",
       "      <td>No</td>\n",
       "      <td>No</td>\n",
       "      <td>No</td>\n",
       "      <td>Month-to-month</td>\n",
       "      <td>Yes</td>\n",
       "      <td>Electronic check</td>\n",
       "      <td>29.85</td>\n",
       "      <td>29.85</td>\n",
       "      <td>No</td>\n",
       "    </tr>\n",
       "    <tr>\n",
       "      <th>1</th>\n",
       "      <td>5575-GNVDE</td>\n",
       "      <td>Male</td>\n",
       "      <td>0</td>\n",
       "      <td>No</td>\n",
       "      <td>No</td>\n",
       "      <td>34</td>\n",
       "      <td>Yes</td>\n",
       "      <td>No</td>\n",
       "      <td>DSL</td>\n",
       "      <td>Yes</td>\n",
       "      <td>...</td>\n",
       "      <td>Yes</td>\n",
       "      <td>No</td>\n",
       "      <td>No</td>\n",
       "      <td>No</td>\n",
       "      <td>One year</td>\n",
       "      <td>No</td>\n",
       "      <td>Mailed check</td>\n",
       "      <td>56.95</td>\n",
       "      <td>1889.50</td>\n",
       "      <td>No</td>\n",
       "    </tr>\n",
       "    <tr>\n",
       "      <th>2</th>\n",
       "      <td>3668-QPYBK</td>\n",
       "      <td>Male</td>\n",
       "      <td>0</td>\n",
       "      <td>No</td>\n",
       "      <td>No</td>\n",
       "      <td>2</td>\n",
       "      <td>Yes</td>\n",
       "      <td>No</td>\n",
       "      <td>DSL</td>\n",
       "      <td>Yes</td>\n",
       "      <td>...</td>\n",
       "      <td>No</td>\n",
       "      <td>No</td>\n",
       "      <td>No</td>\n",
       "      <td>No</td>\n",
       "      <td>Month-to-month</td>\n",
       "      <td>Yes</td>\n",
       "      <td>Mailed check</td>\n",
       "      <td>53.85</td>\n",
       "      <td>108.15</td>\n",
       "      <td>Yes</td>\n",
       "    </tr>\n",
       "    <tr>\n",
       "      <th>3</th>\n",
       "      <td>7795-CFOCW</td>\n",
       "      <td>Male</td>\n",
       "      <td>0</td>\n",
       "      <td>No</td>\n",
       "      <td>No</td>\n",
       "      <td>45</td>\n",
       "      <td>No</td>\n",
       "      <td>No phone service</td>\n",
       "      <td>DSL</td>\n",
       "      <td>Yes</td>\n",
       "      <td>...</td>\n",
       "      <td>Yes</td>\n",
       "      <td>Yes</td>\n",
       "      <td>No</td>\n",
       "      <td>No</td>\n",
       "      <td>One year</td>\n",
       "      <td>No</td>\n",
       "      <td>Bank transfer (automatic)</td>\n",
       "      <td>42.30</td>\n",
       "      <td>1840.75</td>\n",
       "      <td>No</td>\n",
       "    </tr>\n",
       "    <tr>\n",
       "      <th>4</th>\n",
       "      <td>9237-HQITU</td>\n",
       "      <td>Female</td>\n",
       "      <td>0</td>\n",
       "      <td>No</td>\n",
       "      <td>No</td>\n",
       "      <td>2</td>\n",
       "      <td>Yes</td>\n",
       "      <td>No</td>\n",
       "      <td>Fiber optic</td>\n",
       "      <td>No</td>\n",
       "      <td>...</td>\n",
       "      <td>No</td>\n",
       "      <td>No</td>\n",
       "      <td>No</td>\n",
       "      <td>No</td>\n",
       "      <td>Month-to-month</td>\n",
       "      <td>Yes</td>\n",
       "      <td>Electronic check</td>\n",
       "      <td>70.70</td>\n",
       "      <td>151.65</td>\n",
       "      <td>Yes</td>\n",
       "    </tr>\n",
       "  </tbody>\n",
       "</table>\n",
       "<p>5 rows × 21 columns</p>\n",
       "</div>"
      ],
      "text/plain": [
       "   customerID  gender  SeniorCitizen Partner Dependents  tenure PhoneService  \\\n",
       "0  7590-VHVEG  Female              0     Yes         No       1           No   \n",
       "1  5575-GNVDE    Male              0      No         No      34          Yes   \n",
       "2  3668-QPYBK    Male              0      No         No       2          Yes   \n",
       "3  7795-CFOCW    Male              0      No         No      45           No   \n",
       "4  9237-HQITU  Female              0      No         No       2          Yes   \n",
       "\n",
       "      MultipleLines InternetService OnlineSecurity  ... DeviceProtection  \\\n",
       "0  No phone service             DSL             No  ...               No   \n",
       "1                No             DSL            Yes  ...              Yes   \n",
       "2                No             DSL            Yes  ...               No   \n",
       "3  No phone service             DSL            Yes  ...              Yes   \n",
       "4                No     Fiber optic             No  ...               No   \n",
       "\n",
       "  TechSupport StreamingTV StreamingMovies        Contract PaperlessBilling  \\\n",
       "0          No          No              No  Month-to-month              Yes   \n",
       "1          No          No              No        One year               No   \n",
       "2          No          No              No  Month-to-month              Yes   \n",
       "3         Yes          No              No        One year               No   \n",
       "4          No          No              No  Month-to-month              Yes   \n",
       "\n",
       "               PaymentMethod MonthlyCharges  TotalCharges  Churn  \n",
       "0           Electronic check          29.85         29.85     No  \n",
       "1               Mailed check          56.95       1889.50     No  \n",
       "2               Mailed check          53.85        108.15    Yes  \n",
       "3  Bank transfer (automatic)          42.30       1840.75     No  \n",
       "4           Electronic check          70.70        151.65    Yes  \n",
       "\n",
       "[5 rows x 21 columns]"
      ]
     },
     "execution_count": 189,
     "metadata": {},
     "output_type": "execute_result"
    }
   ],
   "source": [
    "gal.head()"
   ]
  },
  {
   "cell_type": "code",
   "execution_count": 190,
   "id": "a1605a7f",
   "metadata": {},
   "outputs": [
    {
     "data": {
      "text/plain": [
       "Index(['customerID', 'gender', 'SeniorCitizen', 'Partner', 'Dependents',\n",
       "       'tenure', 'PhoneService', 'MultipleLines', 'InternetService',\n",
       "       'OnlineSecurity', 'OnlineBackup', 'DeviceProtection', 'TechSupport',\n",
       "       'StreamingTV', 'StreamingMovies', 'Contract', 'PaperlessBilling',\n",
       "       'PaymentMethod', 'MonthlyCharges', 'TotalCharges', 'Churn'],\n",
       "      dtype='object')"
      ]
     },
     "execution_count": 190,
     "metadata": {},
     "output_type": "execute_result"
    }
   ],
   "source": [
    "gal.columns"
   ]
  },
  {
   "cell_type": "code",
   "execution_count": 191,
   "id": "e0937660",
   "metadata": {},
   "outputs": [],
   "source": [
    "gal['ChargeMonths'] = gal['TotalCharges']/gal['MonthlyCharges']"
   ]
  },
  {
   "cell_type": "code",
   "execution_count": 195,
   "id": "4417c811",
   "metadata": {},
   "outputs": [
    {
     "data": {
      "text/html": [
       "<div>\n",
       "<style scoped>\n",
       "    .dataframe tbody tr th:only-of-type {\n",
       "        vertical-align: middle;\n",
       "    }\n",
       "\n",
       "    .dataframe tbody tr th {\n",
       "        vertical-align: top;\n",
       "    }\n",
       "\n",
       "    .dataframe thead th {\n",
       "        text-align: right;\n",
       "    }\n",
       "</style>\n",
       "<table border=\"1\" class=\"dataframe\">\n",
       "  <thead>\n",
       "    <tr style=\"text-align: right;\">\n",
       "      <th></th>\n",
       "      <th>tenure</th>\n",
       "      <th>MonthlyCharges</th>\n",
       "      <th>ChargeMonths</th>\n",
       "    </tr>\n",
       "  </thead>\n",
       "  <tbody>\n",
       "    <tr>\n",
       "      <th>tenure</th>\n",
       "      <td>1.000</td>\n",
       "      <td>0.247</td>\n",
       "      <td>0.999</td>\n",
       "    </tr>\n",
       "    <tr>\n",
       "      <th>MonthlyCharges</th>\n",
       "      <td>0.247</td>\n",
       "      <td>1.000</td>\n",
       "      <td>0.247</td>\n",
       "    </tr>\n",
       "    <tr>\n",
       "      <th>ChargeMonths</th>\n",
       "      <td>0.999</td>\n",
       "      <td>0.247</td>\n",
       "      <td>1.000</td>\n",
       "    </tr>\n",
       "  </tbody>\n",
       "</table>\n",
       "</div>"
      ],
      "text/plain": [
       "                tenure  MonthlyCharges  ChargeMonths\n",
       "tenure           1.000           0.247         0.999\n",
       "MonthlyCharges   0.247           1.000         0.247\n",
       "ChargeMonths     0.999           0.247         1.000"
      ]
     },
     "execution_count": 195,
     "metadata": {},
     "output_type": "execute_result"
    }
   ],
   "source": [
    "round(gal[['tenure','MonthlyCharges','ChargeMonths']].corr(method='pearson').abs(),3)"
   ]
  },
  {
   "cell_type": "code",
   "execution_count": null,
   "id": "32a7388c",
   "metadata": {},
   "outputs": [],
   "source": [
    "#q3\n",
    "고객 이탈 여부 churn 을 종속변수로 하는 모델을 만들어보고자 한다.\n",
    "데이터 분할 후 정규화를 실시하여 로지스틱 회귀분석을 실시하고,\n",
    "해당 모델을 기준점 삼아 모델을 개선하고자 한다.\n",
    "주어진 독립변수를 활용하여 f1-score로 모델을 평가하시오"
   ]
  },
  {
   "cell_type": "code",
   "execution_count": 196,
   "id": "a9d23c2e",
   "metadata": {},
   "outputs": [
    {
     "data": {
      "text/plain": [
       "Index(['customerID', 'gender', 'SeniorCitizen', 'Partner', 'Dependents',\n",
       "       'tenure', 'PhoneService', 'MultipleLines', 'InternetService',\n",
       "       'OnlineSecurity', 'OnlineBackup', 'DeviceProtection', 'TechSupport',\n",
       "       'StreamingTV', 'StreamingMovies', 'Contract', 'PaperlessBilling',\n",
       "       'PaymentMethod', 'MonthlyCharges', 'TotalCharges', 'Churn',\n",
       "       'ChargeMonths'],\n",
       "      dtype='object')"
      ]
     },
     "execution_count": 196,
     "metadata": {},
     "output_type": "execute_result"
    }
   ],
   "source": [
    "gal.columns"
   ]
  },
  {
   "cell_type": "code",
   "execution_count": 197,
   "id": "07441904",
   "metadata": {},
   "outputs": [],
   "source": [
    "cols = ['SeniorCitizen','Partner','Dependents','tenure','MonthlyCharges','TotalCharges','OnlineSecurity','OnlineBackup','DeviceProtection','TechSupport','StreamingMovies','PaperlessBilling','Churn']"
   ]
  },
  {
   "cell_type": "code",
   "execution_count": 203,
   "id": "4395690d",
   "metadata": {},
   "outputs": [],
   "source": [
    "gal.loc[:,gal.dtypes.eq(object)] = gal.loc[:,gal.dtypes.eq(object)].applymap(lambda x: 1 if x == 'Yes' else(0 if x == 'No' else -1))"
   ]
  },
  {
   "cell_type": "code",
   "execution_count": 233,
   "id": "bb9b1bfd",
   "metadata": {},
   "outputs": [],
   "source": [
    "gal_3 = gal[cols]"
   ]
  },
  {
   "cell_type": "code",
   "execution_count": 235,
   "id": "4ff32ae4",
   "metadata": {},
   "outputs": [],
   "source": [
    "train, test = train_test_split(gal_3,train_size=0.7, random_state=123)"
   ]
  },
  {
   "cell_type": "code",
   "execution_count": 236,
   "id": "a135b885",
   "metadata": {},
   "outputs": [],
   "source": [
    "model = MinMaxScaler().fit(train)\n",
    "train_m = model.transform(train)\n",
    "test_m = model.transform(test)"
   ]
  },
  {
   "cell_type": "code",
   "execution_count": 238,
   "id": "6834e2b4",
   "metadata": {},
   "outputs": [],
   "source": [
    "train_df = pd.DataFrame(train_m, columns = train.columns )"
   ]
  },
  {
   "cell_type": "code",
   "execution_count": 244,
   "id": "bddf36f3",
   "metadata": {},
   "outputs": [
    {
     "name": "stderr",
     "output_type": "stream",
     "text": [
      "/Users/cherylkim/opt/anaconda3/lib/python3.9/site-packages/sklearn/base.py:450: UserWarning: X does not have valid feature names, but LogisticRegression was fitted with feature names\n",
      "  warnings.warn(\n"
     ]
    }
   ],
   "source": [
    "lr = LogisticRegression(random_state = 123)\n",
    "lr.fit(X=train_df.iloc[:,:-1], y = train_df.iloc[:,-1])\n",
    "pred = lr.predict(test_m[:,:-1])"
   ]
  },
  {
   "cell_type": "code",
   "execution_count": null,
   "id": "69e358eb",
   "metadata": {},
   "outputs": [],
   "source": [
    "(f1_score(y_true = arr_test_nor[:, 0], \n",
    "               y_pred = pred), 2)"
   ]
  },
  {
   "cell_type": "code",
   "execution_count": 246,
   "id": "e1fae660",
   "metadata": {},
   "outputs": [
    {
     "data": {
      "text/plain": [
       "0.55"
      ]
     },
     "execution_count": 246,
     "metadata": {},
     "output_type": "execute_result"
    }
   ],
   "source": [
    "round(f1_score(y_true = test_m[:,-1], y_pred=pred),2)"
   ]
  },
  {
   "cell_type": "code",
   "execution_count": 247,
   "id": "73a5a14a",
   "metadata": {},
   "outputs": [],
   "source": [
    "#q3\n",
    "mob = pd.read_csv('./mobiles.csv')"
   ]
  },
  {
   "cell_type": "code",
   "execution_count": 249,
   "id": "e476b3f9",
   "metadata": {},
   "outputs": [],
   "source": [
    "from sklearn.model_selection import train_test_split\n",
    "from sklearn.neighbors import KNeighborsRegressor\n",
    "from sklearn.metrics import f1_score, mean_squared_error\n",
    "from sklearn.preprocessing import MinMaxScaler"
   ]
  },
  {
   "cell_type": "code",
   "execution_count": null,
   "id": "8f4ea986",
   "metadata": {},
   "outputs": [],
   "source": [
    "#q1\n",
    "성능지표 = Rom/32 + ram/2 + (num_rear_camera + num_front_camera) + 배터리용량/1000\n",
    "평균으로부터 2표준편차보다 큰 값 = > 이상치\n",
    "판매지수 sales를 기준으로 이상치라고판단되는 제품을 주목받는 제품이라고 할 때, 해당 제품들의 성능지표의 평균을 산출하시오"
   ]
  },
  {
   "cell_type": "code",
   "execution_count": 254,
   "id": "c783946c",
   "metadata": {},
   "outputs": [
    {
     "data": {
      "text/plain": [
       "146.5515012927322"
      ]
     },
     "execution_count": 254,
     "metadata": {},
     "output_type": "execute_result"
    }
   ],
   "source": [
    "mean = mob['sales'].mean()\n",
    "std = mob['sales'].std()\n",
    "out = mean + 2*std\n",
    "out"
   ]
  },
  {
   "cell_type": "code",
   "execution_count": 255,
   "id": "5d3d212e",
   "metadata": {},
   "outputs": [],
   "source": [
    "mob_out = mob[mob['sales']>out]"
   ]
  },
  {
   "cell_type": "code",
   "execution_count": 257,
   "id": "dcc43988",
   "metadata": {},
   "outputs": [
    {
     "name": "stderr",
     "output_type": "stream",
     "text": [
      "/var/folders/08/qfhf2lxn7wlcym8tkm5j1t640000gn/T/ipykernel_26177/2970832007.py:1: SettingWithCopyWarning: \n",
      "A value is trying to be set on a copy of a slice from a DataFrame.\n",
      "Try using .loc[row_indexer,col_indexer] = value instead\n",
      "\n",
      "See the caveats in the documentation: https://pandas.pydata.org/pandas-docs/stable/user_guide/indexing.html#returning-a-view-versus-a-copy\n",
      "  mob_out['index'] = mob_out['ROM']/32 + mob_out['RAM']/2 + mob_out['num_rear_camera'] + mob_out['num_front_camera'] + mob_out['battery_capacity']/1000\n"
     ]
    }
   ],
   "source": [
    "mob_out['index'] = mob_out['ROM']/32 + mob_out['RAM']/2 + mob_out['num_rear_camera'] + mob_out['num_front_camera'] + mob_out['battery_capacity']/1000"
   ]
  },
  {
   "cell_type": "code",
   "execution_count": 258,
   "id": "ecaa30c4",
   "metadata": {},
   "outputs": [
    {
     "data": {
      "text/plain": [
       "11.01"
      ]
     },
     "execution_count": 258,
     "metadata": {},
     "output_type": "execute_result"
    }
   ],
   "source": [
    "round(mob_out['index'].mean(),2)"
   ]
  },
  {
   "cell_type": "code",
   "execution_count": null,
   "id": "e07d64e5",
   "metadata": {},
   "outputs": [],
   "source": [
    "#q2\n",
    "sales 와 상관계수가 가장 높은 변수\n"
   ]
  },
  {
   "cell_type": "code",
   "execution_count": 261,
   "id": "3903e43f",
   "metadata": {},
   "outputs": [],
   "source": [
    "mob_2 = mob[mob['num_rear_camera']!=1]\n",
    "mob_2 = mob_2[['battery_capacity','ratings','num_of_ratings','sales_price','discount_percent','sales']]"
   ]
  },
  {
   "cell_type": "code",
   "execution_count": 275,
   "id": "9697c265",
   "metadata": {},
   "outputs": [
    {
     "data": {
      "text/plain": [
       "'sales_price'"
      ]
     },
     "execution_count": 275,
     "metadata": {},
     "output_type": "execute_result"
    }
   ],
   "source": [
    "mob_2.corr(method='pearson').abs().loc[:,'battery_capacity'][1:].idxmax()"
   ]
  },
  {
   "cell_type": "code",
   "execution_count": null,
   "id": "ad7b4f43",
   "metadata": {},
   "outputs": [],
   "source": [
    "#q3\n",
    "sales 를 예측하기 위해 knn 알고리즘을 사용\n",
    "이웃의 개수를 바꿔가면서 가장 성능이 좋은 모델을 확보하려 한다\n",
    "rmse 를 기준으로 가장 성능이 좋은 모델을 확인하고, 해당 모델의 k를 구하라\n",
    "독립변수 : 판매지수를 제외한 모든 변수\n",
    "종속변수 : 판매지수"
   ]
  },
  {
   "cell_type": "code",
   "execution_count": 279,
   "id": "4f48124d",
   "metadata": {},
   "outputs": [],
   "source": [
    "mob3 = pd.get_dummies(mob,columns=['screen_size'],drop_first=True)"
   ]
  },
  {
   "cell_type": "code",
   "execution_count": 289,
   "id": "c575581a",
   "metadata": {},
   "outputs": [],
   "source": [
    "mob3 = mob3.set_index('sales').reset_index()"
   ]
  },
  {
   "cell_type": "code",
   "execution_count": 290,
   "id": "d66ffbf8",
   "metadata": {},
   "outputs": [],
   "source": [
    "train, test = train_test_split(mob3, train_size = 0.8, random_state=123)\n",
    "scaler = MinMaxScaler().fit(train)\n",
    "train_sc = scaler.transform(train)\n",
    "test_sc = scaler.transform(test)"
   ]
  },
  {
   "cell_type": "code",
   "execution_count": 291,
   "id": "75f53758",
   "metadata": {},
   "outputs": [
    {
     "data": {
      "text/plain": [
       "array([[1.19438034e-02, 4.92063492e-01, 2.72727273e-01, ...,\n",
       "        0.00000000e+00, 0.00000000e+00, 0.00000000e+00],\n",
       "       [3.64387222e-04, 4.76190476e-02, 9.09090909e-02, ...,\n",
       "        0.00000000e+00, 0.00000000e+00, 0.00000000e+00],\n",
       "       [2.04461719e-03, 4.92063492e-01, 1.00000000e+00, ...,\n",
       "        0.00000000e+00, 0.00000000e+00, 0.00000000e+00],\n",
       "       ...,\n",
       "       [3.07704765e-03, 2.38095238e-01, 2.72727273e-01, ...,\n",
       "        1.00000000e+00, 0.00000000e+00, 0.00000000e+00],\n",
       "       [9.89918620e-03, 2.38095238e-01, 6.36363636e-01, ...,\n",
       "        0.00000000e+00, 0.00000000e+00, 0.00000000e+00],\n",
       "       [8.82019515e-02, 4.76190476e-02, 1.81818182e-01, ...,\n",
       "        0.00000000e+00, 0.00000000e+00, 0.00000000e+00]])"
      ]
     },
     "execution_count": 291,
     "metadata": {},
     "output_type": "execute_result"
    }
   ],
   "source": [
    "test_sc"
   ]
  },
  {
   "cell_type": "code",
   "execution_count": 298,
   "id": "5d1c465f",
   "metadata": {},
   "outputs": [
    {
     "data": {
      "text/plain": [
       "0.08186682309005447"
      ]
     },
     "execution_count": 298,
     "metadata": {},
     "output_type": "execute_result"
    }
   ],
   "source": [
    "nei = [3,5,7,9,11]\n",
    "k = nei[0]\n",
    "knn = KNeighborsRegressor(n_neighbors=k)\n",
    "knn.fit(X = train_sc[:,1:] ,y=train_sc[:,0])\n",
    "pred = knn.predict(test_sc[:,1:])\n",
    "rmse = mean_squared_error(y_true =test_sc[:,0] , y_pred=pred)**0.5\n",
    "rmse"
   ]
  },
  {
   "cell_type": "code",
   "execution_count": 300,
   "id": "0c8d746c",
   "metadata": {},
   "outputs": [],
   "source": [
    "rmse_list = []\n",
    "for n in nei : \n",
    "    knn = KNeighborsRegressor(n_neighbors=n)\n",
    "    knn.fit(X = train_sc[:,1:], y = train_sc[:,0])\n",
    "    pred = knn.predict(test_sc[:,1:])\n",
    "    rmse = mean_squared_error(y_true=test_sc[:,0], y_pred = pred) ** 0.5\n",
    "    rmse_list = rmse_list + [rmse]"
   ]
  },
  {
   "cell_type": "code",
   "execution_count": 305,
   "id": "79892b5a",
   "metadata": {},
   "outputs": [
    {
     "data": {
      "text/plain": [
       "0.08186682309005447"
      ]
     },
     "execution_count": 305,
     "metadata": {},
     "output_type": "execute_result"
    }
   ],
   "source": [
    "min(rmse_list\n",
    ")"
   ]
  },
  {
   "cell_type": "code",
   "execution_count": 307,
   "id": "bdc2efab",
   "metadata": {},
   "outputs": [
    {
     "data": {
      "text/plain": [
       "3"
      ]
     },
     "execution_count": 307,
     "metadata": {},
     "output_type": "execute_result"
    }
   ],
   "source": [
    "pd.Series(rmse_list,index=nei).idxmin()"
   ]
  },
  {
   "cell_type": "code",
   "execution_count": 100,
   "id": "bd1f1300",
   "metadata": {},
   "outputs": [],
   "source": [
    "#q4\n",
    "import pandas as pd\n",
    "import numpy as np\n",
    "pos = pd.read_csv('./sales_pos.csv')"
   ]
  },
  {
   "cell_type": "code",
   "execution_count": 101,
   "id": "208e53f6",
   "metadata": {},
   "outputs": [],
   "source": [
    "from sklearn.preprocessing import MinMaxScaler\n",
    "from sklearn.cluster import KMeans\n",
    "from sklearn.metrics import silhouette_score"
   ]
  },
  {
   "cell_type": "code",
   "execution_count": 5,
   "id": "697d5c8e",
   "metadata": {},
   "outputs": [
    {
     "ename": "SyntaxError",
     "evalue": "invalid syntax (4238647922.py, line 2)",
     "output_type": "error",
     "traceback": [
      "\u001b[0;36m  File \u001b[0;32m\"/var/folders/08/qfhf2lxn7wlcym8tkm5j1t640000gn/T/ipykernel_32759/4238647922.py\"\u001b[0;36m, line \u001b[0;32m2\u001b[0m\n\u001b[0;31m    매출액이 가장 큰 상품을 확인하고, 해당 상품을 가장 많이 구매하는 직업을 확인하라\u001b[0m\n\u001b[0m         ^\u001b[0m\n\u001b[0;31mSyntaxError\u001b[0m\u001b[0;31m:\u001b[0m invalid syntax\n"
     ]
    }
   ],
   "source": [
    "#q1\n",
    "매출액이 가장 큰 상품을 확인하고, 해당 상품을 가장 많이 구매하는 직업을 확인하라"
   ]
  },
  {
   "cell_type": "code",
   "execution_count": 102,
   "id": "0cac62c5",
   "metadata": {},
   "outputs": [
    {
     "data": {
      "text/plain": [
       "'P00025442'"
      ]
     },
     "execution_count": 102,
     "metadata": {},
     "output_type": "execute_result"
    }
   ],
   "source": [
    "pos.groupby('prod')['purchase'].sum().idxmax()"
   ]
  },
  {
   "cell_type": "code",
   "execution_count": 103,
   "id": "3ec3af93",
   "metadata": {},
   "outputs": [
    {
     "data": {
      "text/plain": [
       "4"
      ]
     },
     "execution_count": 103,
     "metadata": {},
     "output_type": "execute_result"
    }
   ],
   "source": [
    "pos[pos['prod']=='P00025442'].groupby(['job'])['purchase'].sum().idxmax()"
   ]
  },
  {
   "cell_type": "code",
   "execution_count": null,
   "id": "fffbabab",
   "metadata": {},
   "outputs": [],
   "source": [
    "#q2\n",
    "martial 여부에 따라 구매하는 물품의 종류가 많이 차이나는 지 확인하고자 한다.\n",
    "신혼부부 26-35 그룹을 대상으로 각 고객의 구매물품 카테고리 개수를 산출하고 결혼여부별로 평균값의 차이를 산출하시오\n",
    "결측치는 0으로 대치\n",
    "결측치 포함하여 푸시오"
   ]
  },
  {
   "cell_type": "code",
   "execution_count": 104,
   "id": "273887d7",
   "metadata": {},
   "outputs": [],
   "source": [
    "pos['prod_cat2']=pos['prod_cat2'].fillna(0.0)\n",
    "pos['prod_cat3']=pos['prod_cat3'].fillna(0.0)"
   ]
  },
  {
   "cell_type": "code",
   "execution_count": 105,
   "id": "a7b65370",
   "metadata": {},
   "outputs": [],
   "source": [
    "pos['prod_cat'] = pos['prod_cat1'].astype(int).astype(str) + '-' + pos['prod_cat2'].astype(int).astype(str) +'-' + pos['prod_cat3'].astype(int).astype(str)"
   ]
  },
  {
   "cell_type": "code",
   "execution_count": 106,
   "id": "899b81fa",
   "metadata": {},
   "outputs": [
    {
     "data": {
      "text/plain": [
       "user           int64\n",
       "prod          object\n",
       "gender        object\n",
       "age_group     object\n",
       "job            int64\n",
       "city          object\n",
       "marital        int64\n",
       "prod_cat1      int64\n",
       "prod_cat2    float64\n",
       "prod_cat3    float64\n",
       "purchase       int64\n",
       "prod_cat      object\n",
       "dtype: object"
      ]
     },
     "execution_count": 106,
     "metadata": {},
     "output_type": "execute_result"
    }
   ],
   "source": [
    "pos.dtypes"
   ]
  },
  {
   "cell_type": "code",
   "execution_count": 107,
   "id": "34fd5026",
   "metadata": {},
   "outputs": [
    {
     "data": {
      "text/plain": [
       "21"
      ]
     },
     "execution_count": 107,
     "metadata": {},
     "output_type": "execute_result"
    }
   ],
   "source": [
    "len(pos[pos['user']==1]['prod_cat'].unique())"
   ]
  },
  {
   "cell_type": "code",
   "execution_count": 108,
   "id": "659e49a8",
   "metadata": {},
   "outputs": [],
   "source": [
    "pos_age =pos[pos['age_group']=='26-35']"
   ]
  },
  {
   "cell_type": "code",
   "execution_count": 109,
   "id": "1854f9f4",
   "metadata": {},
   "outputs": [],
   "source": [
    "pos_2 = pos_age.groupby(['marital','user'])['prod_cat'].nunique().reset_index()"
   ]
  },
  {
   "cell_type": "code",
   "execution_count": 110,
   "id": "d085a67d",
   "metadata": {},
   "outputs": [
    {
     "data": {
      "text/plain": [
       "marital\n",
       "0    41.663183\n",
       "1    41.792336\n",
       "Name: prod_cat, dtype: float64"
      ]
     },
     "execution_count": 110,
     "metadata": {},
     "output_type": "execute_result"
    }
   ],
   "source": [
    "pos_2.groupby('marital')['prod_cat'].mean()"
   ]
  },
  {
   "cell_type": "code",
   "execution_count": null,
   "id": "6a830d90",
   "metadata": {},
   "outputs": [],
   "source": [
    "#q3\n",
    "고객 5891명을 군집화하여 각 군집별로 마케팅전략을 수립하고자 한다. \n",
    "독립변수 성별, 나이, 직업, 도시, 결혼여부, 구매 상품 종류수, 총 구매금액\n",
    "k-means 군집분석을 실시하고 7개 군집으로 분석했을 때 sihouette score를 산출하시오\n"
   ]
  },
  {
   "cell_type": "code",
   "execution_count": 111,
   "id": "2daba475",
   "metadata": {},
   "outputs": [],
   "source": [
    "pur_n = pos.groupby('user')['prod_cat'].nunique()"
   ]
  },
  {
   "cell_type": "code",
   "execution_count": 112,
   "id": "acd43804",
   "metadata": {},
   "outputs": [],
   "source": [
    "pur_tot = pos.groupby('user')['purchase'].sum()"
   ]
  },
  {
   "cell_type": "code",
   "execution_count": 113,
   "id": "c2748a6e",
   "metadata": {},
   "outputs": [],
   "source": [
    "pos3 = pos[['user','prod','gender','age_group','job','city','marital']]"
   ]
  },
  {
   "cell_type": "code",
   "execution_count": 114,
   "id": "c2416682",
   "metadata": {},
   "outputs": [
    {
     "name": "stderr",
     "output_type": "stream",
     "text": [
      "/var/folders/08/qfhf2lxn7wlcym8tkm5j1t640000gn/T/ipykernel_32759/4142731900.py:1: SettingWithCopyWarning: \n",
      "A value is trying to be set on a copy of a slice from a DataFrame.\n",
      "Try using .loc[row_indexer,col_indexer] = value instead\n",
      "\n",
      "See the caveats in the documentation: https://pandas.pydata.org/pandas-docs/stable/user_guide/indexing.html#returning-a-view-versus-a-copy\n",
      "  pos3['gender'] = pos3['gender'].replace({'F':0,'M':1})\n"
     ]
    },
    {
     "data": {
      "text/plain": [
       "0          0-17\n",
       "1          0-17\n",
       "2          0-17\n",
       "3          0-17\n",
       "4           55+\n",
       "          ...  \n",
       "550063    51-55\n",
       "550064    26-35\n",
       "550065    26-35\n",
       "550066      55+\n",
       "550067    46-50\n",
       "Name: age_group, Length: 550068, dtype: object"
      ]
     },
     "execution_count": 114,
     "metadata": {},
     "output_type": "execute_result"
    }
   ],
   "source": [
    "pos3['gender'] = pos3['gender'].replace({'F':0,'M':1})\n",
    "pos3['age_group']  "
   ]
  },
  {
   "cell_type": "code",
   "execution_count": 115,
   "id": "f409b3d4",
   "metadata": {},
   "outputs": [
    {
     "data": {
      "text/plain": [
       "array(['0-17', '18-25', '26-35', '36-45', '46-50', '51-55', '55+'],\n",
       "      dtype=object)"
      ]
     },
     "execution_count": 115,
     "metadata": {},
     "output_type": "execute_result"
    }
   ],
   "source": [
    "uni = pos['age_group'].unique()\n",
    "uni.sort()\n",
    "uni"
   ]
  },
  {
   "cell_type": "code",
   "execution_count": 116,
   "id": "f2e8fe38",
   "metadata": {},
   "outputs": [
    {
     "data": {
      "text/plain": [
       "0-17     0\n",
       "18-25    1\n",
       "26-35    2\n",
       "36-45    3\n",
       "46-50    4\n",
       "51-55    5\n",
       "55+      6\n",
       "dtype: int64"
      ]
     },
     "execution_count": 116,
     "metadata": {},
     "output_type": "execute_result"
    }
   ],
   "source": [
    "ser = pd.Series(range(7), index=uni)\n",
    "ser"
   ]
  },
  {
   "cell_type": "code",
   "execution_count": 117,
   "id": "12e5ec48",
   "metadata": {},
   "outputs": [
    {
     "name": "stderr",
     "output_type": "stream",
     "text": [
      "/var/folders/08/qfhf2lxn7wlcym8tkm5j1t640000gn/T/ipykernel_32759/3325567264.py:1: SettingWithCopyWarning: \n",
      "A value is trying to be set on a copy of a slice from a DataFrame.\n",
      "Try using .loc[row_indexer,col_indexer] = value instead\n",
      "\n",
      "See the caveats in the documentation: https://pandas.pydata.org/pandas-docs/stable/user_guide/indexing.html#returning-a-view-versus-a-copy\n",
      "  pos3['age_group'] = pos3['age_group'].replace(ser)\n"
     ]
    }
   ],
   "source": [
    "pos3['age_group'] = pos3['age_group'].replace(ser)"
   ]
  },
  {
   "cell_type": "code",
   "execution_count": 122,
   "id": "cdaa7ee4",
   "metadata": {},
   "outputs": [],
   "source": [
    "pos3=pos3.drop(columns='prod')"
   ]
  },
  {
   "cell_type": "code",
   "execution_count": 124,
   "id": "332a7aae",
   "metadata": {},
   "outputs": [],
   "source": [
    "pos3 = pos3.drop_duplicates()"
   ]
  },
  {
   "cell_type": "code",
   "execution_count": 130,
   "id": "da2b0ba2",
   "metadata": {},
   "outputs": [],
   "source": [
    "pos3_set = pos3.set_index('user')"
   ]
  },
  {
   "cell_type": "code",
   "execution_count": 136,
   "id": "e623f075",
   "metadata": {},
   "outputs": [],
   "source": [
    "pos3_new = pd.concat([pos3_set, pur_n],axis=1)"
   ]
  },
  {
   "cell_type": "code",
   "execution_count": 135,
   "id": "f3f4554f",
   "metadata": {},
   "outputs": [
    {
     "data": {
      "text/plain": [
       "user\n",
       "1        21\n",
       "2        37\n",
       "3        18\n",
       "4        13\n",
       "5        43\n",
       "       ... \n",
       "6036    123\n",
       "6037     48\n",
       "6038      9\n",
       "6039     40\n",
       "6040     60\n",
       "Name: prod_cat, Length: 5891, dtype: int64"
      ]
     },
     "execution_count": 135,
     "metadata": {},
     "output_type": "execute_result"
    }
   ],
   "source": [
    "pur_n"
   ]
  },
  {
   "cell_type": "code",
   "execution_count": 142,
   "id": "6a979f4f",
   "metadata": {},
   "outputs": [],
   "source": [
    "pos3_new_new = pd.concat([pos3_new,pur_tot],axis = 1).reset_index()"
   ]
  },
  {
   "cell_type": "code",
   "execution_count": 144,
   "id": "ac638f97",
   "metadata": {},
   "outputs": [],
   "source": [
    "pos3_f = pd.get_dummies(pos3_new_new,columns=['job','city'])"
   ]
  },
  {
   "cell_type": "code",
   "execution_count": 149,
   "id": "31162d3f",
   "metadata": {},
   "outputs": [],
   "source": [
    "pos3_f = pos3_f.drop(columns=['user'])"
   ]
  },
  {
   "cell_type": "code",
   "execution_count": 151,
   "id": "e67e3afb",
   "metadata": {},
   "outputs": [
    {
     "data": {
      "text/plain": [
       "29"
      ]
     },
     "execution_count": 151,
     "metadata": {},
     "output_type": "execute_result"
    }
   ],
   "source": [
    "len(pos3_f.columns)"
   ]
  },
  {
   "cell_type": "code",
   "execution_count": 152,
   "id": "5b2a8ad5",
   "metadata": {},
   "outputs": [],
   "source": [
    "scaler = MinMaxScaler().fit(pos3_f)\n",
    "pos3_f_sc = scaler.transform(pos3_f)"
   ]
  },
  {
   "cell_type": "code",
   "execution_count": 154,
   "id": "10f7618c",
   "metadata": {},
   "outputs": [],
   "source": [
    "km = KMeans(n_clusters=7, random_state=123)"
   ]
  },
  {
   "cell_type": "code",
   "execution_count": 155,
   "id": "0527533a",
   "metadata": {},
   "outputs": [
    {
     "data": {
      "text/plain": [
       "KMeans(n_clusters=7, random_state=123)"
      ]
     },
     "execution_count": 155,
     "metadata": {},
     "output_type": "execute_result"
    }
   ],
   "source": [
    "km.fit(pos3_f_sc)"
   ]
  },
  {
   "cell_type": "code",
   "execution_count": null,
   "id": "7cb9d53c",
   "metadata": {},
   "outputs": [],
   "source": [
    "km."
   ]
  },
  {
   "cell_type": "code",
   "execution_count": 157,
   "id": "64b7f2af",
   "metadata": {},
   "outputs": [
    {
     "data": {
      "text/plain": [
       "0.18"
      ]
     },
     "execution_count": 157,
     "metadata": {},
     "output_type": "execute_result"
    }
   ],
   "source": [
    "round(silhouette_score(X=pos3_f_sc, labels=km.labels_),2)"
   ]
  },
  {
   "cell_type": "code",
   "execution_count": null,
   "id": "3f381d5a",
   "metadata": {},
   "outputs": [],
   "source": []
  },
  {
   "cell_type": "code",
   "execution_count": 202,
   "id": "1a97f982",
   "metadata": {},
   "outputs": [],
   "source": [
    "#q5\n",
    "card = pd.read_csv('./card_cust.csv')"
   ]
  },
  {
   "cell_type": "code",
   "execution_count": 160,
   "id": "0746e90d",
   "metadata": {},
   "outputs": [],
   "source": [
    "from sklearn.preprocessing import StandardScaler\n",
    "from sklearn.cluster import KMeans\n",
    "from sklearn.metrics import silhouette_score\n",
    "from sklearn.tree import DecisionTreeRegressor"
   ]
  },
  {
   "cell_type": "code",
   "execution_count": 161,
   "id": "8244cd2d",
   "metadata": {},
   "outputs": [
    {
     "data": {
      "text/html": [
       "<div>\n",
       "<style scoped>\n",
       "    .dataframe tbody tr th:only-of-type {\n",
       "        vertical-align: middle;\n",
       "    }\n",
       "\n",
       "    .dataframe tbody tr th {\n",
       "        vertical-align: top;\n",
       "    }\n",
       "\n",
       "    .dataframe thead th {\n",
       "        text-align: right;\n",
       "    }\n",
       "</style>\n",
       "<table border=\"1\" class=\"dataframe\">\n",
       "  <thead>\n",
       "    <tr style=\"text-align: right;\">\n",
       "      <th></th>\n",
       "      <th>CUST_ID</th>\n",
       "      <th>BALANCE</th>\n",
       "      <th>BALANCE_FREQUENCY</th>\n",
       "      <th>PURCHASES</th>\n",
       "      <th>ONEOFF_PURCHASES</th>\n",
       "      <th>INSTALLMENTS_PURCHASES</th>\n",
       "      <th>CASH_ADVANCE</th>\n",
       "      <th>PURCHASES_FREQUENCY</th>\n",
       "      <th>ONEOFF_PURCHASES_FREQUENCY</th>\n",
       "      <th>PURCHASES_INSTALLMENTS_FREQUENCY</th>\n",
       "      <th>CASH_ADVANCE_FREQUENCY</th>\n",
       "      <th>CASH_ADVANCE_TRX</th>\n",
       "      <th>PURCHASES_TRX</th>\n",
       "      <th>CREDIT_LIMIT</th>\n",
       "      <th>PAYMENTS</th>\n",
       "      <th>MINIMUM_PAYMENTS</th>\n",
       "      <th>PRC_FULL_PAYMENT</th>\n",
       "      <th>TENURE</th>\n",
       "    </tr>\n",
       "  </thead>\n",
       "  <tbody>\n",
       "    <tr>\n",
       "      <th>0</th>\n",
       "      <td>10001</td>\n",
       "      <td>40.900749</td>\n",
       "      <td>0.818182</td>\n",
       "      <td>95.40</td>\n",
       "      <td>0.00</td>\n",
       "      <td>95.4</td>\n",
       "      <td>0.000000</td>\n",
       "      <td>0.166667</td>\n",
       "      <td>0.000000</td>\n",
       "      <td>0.083333</td>\n",
       "      <td>0.000000</td>\n",
       "      <td>0.0</td>\n",
       "      <td>2.0</td>\n",
       "      <td>1000.0</td>\n",
       "      <td>201.802084</td>\n",
       "      <td>139.509787</td>\n",
       "      <td>0.000000</td>\n",
       "      <td>12.0</td>\n",
       "    </tr>\n",
       "    <tr>\n",
       "      <th>1</th>\n",
       "      <td>10002</td>\n",
       "      <td>3202.467416</td>\n",
       "      <td>0.909091</td>\n",
       "      <td>0.00</td>\n",
       "      <td>0.00</td>\n",
       "      <td>0.0</td>\n",
       "      <td>6442.945483</td>\n",
       "      <td>0.000000</td>\n",
       "      <td>0.000000</td>\n",
       "      <td>0.000000</td>\n",
       "      <td>0.250000</td>\n",
       "      <td>4.0</td>\n",
       "      <td>0.0</td>\n",
       "      <td>7000.0</td>\n",
       "      <td>4103.032597</td>\n",
       "      <td>1072.340217</td>\n",
       "      <td>0.222222</td>\n",
       "      <td>12.0</td>\n",
       "    </tr>\n",
       "    <tr>\n",
       "      <th>2</th>\n",
       "      <td>10003</td>\n",
       "      <td>2495.148862</td>\n",
       "      <td>1.000000</td>\n",
       "      <td>773.17</td>\n",
       "      <td>773.17</td>\n",
       "      <td>0.0</td>\n",
       "      <td>0.000000</td>\n",
       "      <td>1.000000</td>\n",
       "      <td>1.000000</td>\n",
       "      <td>0.000000</td>\n",
       "      <td>0.000000</td>\n",
       "      <td>0.0</td>\n",
       "      <td>12.0</td>\n",
       "      <td>7500.0</td>\n",
       "      <td>622.066742</td>\n",
       "      <td>627.284787</td>\n",
       "      <td>0.000000</td>\n",
       "      <td>12.0</td>\n",
       "    </tr>\n",
       "    <tr>\n",
       "      <th>3</th>\n",
       "      <td>10004</td>\n",
       "      <td>1666.670542</td>\n",
       "      <td>0.636364</td>\n",
       "      <td>1499.00</td>\n",
       "      <td>1499.00</td>\n",
       "      <td>0.0</td>\n",
       "      <td>205.788017</td>\n",
       "      <td>0.083333</td>\n",
       "      <td>0.083333</td>\n",
       "      <td>0.000000</td>\n",
       "      <td>0.083333</td>\n",
       "      <td>1.0</td>\n",
       "      <td>1.0</td>\n",
       "      <td>7500.0</td>\n",
       "      <td>0.000000</td>\n",
       "      <td>NaN</td>\n",
       "      <td>0.000000</td>\n",
       "      <td>12.0</td>\n",
       "    </tr>\n",
       "    <tr>\n",
       "      <th>4</th>\n",
       "      <td>10005</td>\n",
       "      <td>817.714335</td>\n",
       "      <td>1.000000</td>\n",
       "      <td>16.00</td>\n",
       "      <td>16.00</td>\n",
       "      <td>0.0</td>\n",
       "      <td>0.000000</td>\n",
       "      <td>0.083333</td>\n",
       "      <td>0.083333</td>\n",
       "      <td>0.000000</td>\n",
       "      <td>0.000000</td>\n",
       "      <td>0.0</td>\n",
       "      <td>1.0</td>\n",
       "      <td>1200.0</td>\n",
       "      <td>678.334763</td>\n",
       "      <td>244.791237</td>\n",
       "      <td>0.000000</td>\n",
       "      <td>12.0</td>\n",
       "    </tr>\n",
       "  </tbody>\n",
       "</table>\n",
       "</div>"
      ],
      "text/plain": [
       "   CUST_ID      BALANCE  BALANCE_FREQUENCY  PURCHASES  ONEOFF_PURCHASES  \\\n",
       "0    10001    40.900749           0.818182      95.40              0.00   \n",
       "1    10002  3202.467416           0.909091       0.00              0.00   \n",
       "2    10003  2495.148862           1.000000     773.17            773.17   \n",
       "3    10004  1666.670542           0.636364    1499.00           1499.00   \n",
       "4    10005   817.714335           1.000000      16.00             16.00   \n",
       "\n",
       "   INSTALLMENTS_PURCHASES  CASH_ADVANCE  PURCHASES_FREQUENCY  \\\n",
       "0                    95.4      0.000000             0.166667   \n",
       "1                     0.0   6442.945483             0.000000   \n",
       "2                     0.0      0.000000             1.000000   \n",
       "3                     0.0    205.788017             0.083333   \n",
       "4                     0.0      0.000000             0.083333   \n",
       "\n",
       "   ONEOFF_PURCHASES_FREQUENCY  PURCHASES_INSTALLMENTS_FREQUENCY  \\\n",
       "0                    0.000000                          0.083333   \n",
       "1                    0.000000                          0.000000   \n",
       "2                    1.000000                          0.000000   \n",
       "3                    0.083333                          0.000000   \n",
       "4                    0.083333                          0.000000   \n",
       "\n",
       "   CASH_ADVANCE_FREQUENCY  CASH_ADVANCE_TRX  PURCHASES_TRX  CREDIT_LIMIT  \\\n",
       "0                0.000000               0.0            2.0        1000.0   \n",
       "1                0.250000               4.0            0.0        7000.0   \n",
       "2                0.000000               0.0           12.0        7500.0   \n",
       "3                0.083333               1.0            1.0        7500.0   \n",
       "4                0.000000               0.0            1.0        1200.0   \n",
       "\n",
       "      PAYMENTS  MINIMUM_PAYMENTS  PRC_FULL_PAYMENT  TENURE  \n",
       "0   201.802084        139.509787          0.000000    12.0  \n",
       "1  4103.032597       1072.340217          0.222222    12.0  \n",
       "2   622.066742        627.284787          0.000000    12.0  \n",
       "3     0.000000               NaN          0.000000    12.0  \n",
       "4   678.334763        244.791237          0.000000    12.0  "
      ]
     },
     "execution_count": 161,
     "metadata": {},
     "output_type": "execute_result"
    }
   ],
   "source": [
    "#q1\n",
    "card.head()"
   ]
  },
  {
   "cell_type": "code",
   "execution_count": null,
   "id": "0045160a",
   "metadata": {},
   "outputs": [],
   "source": [
    "balancer ㅏ 많을 수록, tenure 길 수록 credit_limit 이 높을 것으로 예상\n",
    "tenure 별로 balance , credit limit 간 피어슨 상관푼석을 실시하고, 이 중 가장 큰 상관계수를 구하시오"
   ]
  },
  {
   "cell_type": "code",
   "execution_count": 164,
   "id": "3774f13d",
   "metadata": {},
   "outputs": [
    {
     "data": {
      "text/html": [
       "<div>\n",
       "<style scoped>\n",
       "    .dataframe tbody tr th:only-of-type {\n",
       "        vertical-align: middle;\n",
       "    }\n",
       "\n",
       "    .dataframe tbody tr th {\n",
       "        vertical-align: top;\n",
       "    }\n",
       "\n",
       "    .dataframe thead th {\n",
       "        text-align: right;\n",
       "    }\n",
       "</style>\n",
       "<table border=\"1\" class=\"dataframe\">\n",
       "  <thead>\n",
       "    <tr style=\"text-align: right;\">\n",
       "      <th></th>\n",
       "      <th></th>\n",
       "      <th>BALANCE</th>\n",
       "      <th>CREDIT_LIMIT</th>\n",
       "    </tr>\n",
       "    <tr>\n",
       "      <th>TENURE</th>\n",
       "      <th></th>\n",
       "      <th></th>\n",
       "      <th></th>\n",
       "    </tr>\n",
       "  </thead>\n",
       "  <tbody>\n",
       "    <tr>\n",
       "      <th rowspan=\"2\" valign=\"top\">6.0</th>\n",
       "      <th>BALANCE</th>\n",
       "      <td>1.000000</td>\n",
       "      <td>0.868056</td>\n",
       "    </tr>\n",
       "    <tr>\n",
       "      <th>CREDIT_LIMIT</th>\n",
       "      <td>0.868056</td>\n",
       "      <td>1.000000</td>\n",
       "    </tr>\n",
       "    <tr>\n",
       "      <th rowspan=\"2\" valign=\"top\">7.0</th>\n",
       "      <th>BALANCE</th>\n",
       "      <td>1.000000</td>\n",
       "      <td>0.948405</td>\n",
       "    </tr>\n",
       "    <tr>\n",
       "      <th>CREDIT_LIMIT</th>\n",
       "      <td>0.948405</td>\n",
       "      <td>1.000000</td>\n",
       "    </tr>\n",
       "    <tr>\n",
       "      <th rowspan=\"2\" valign=\"top\">8.0</th>\n",
       "      <th>BALANCE</th>\n",
       "      <td>1.000000</td>\n",
       "      <td>0.820696</td>\n",
       "    </tr>\n",
       "    <tr>\n",
       "      <th>CREDIT_LIMIT</th>\n",
       "      <td>0.820696</td>\n",
       "      <td>1.000000</td>\n",
       "    </tr>\n",
       "    <tr>\n",
       "      <th rowspan=\"2\" valign=\"top\">9.0</th>\n",
       "      <th>BALANCE</th>\n",
       "      <td>1.000000</td>\n",
       "      <td>0.085474</td>\n",
       "    </tr>\n",
       "    <tr>\n",
       "      <th>CREDIT_LIMIT</th>\n",
       "      <td>0.085474</td>\n",
       "      <td>1.000000</td>\n",
       "    </tr>\n",
       "    <tr>\n",
       "      <th rowspan=\"2\" valign=\"top\">10.0</th>\n",
       "      <th>BALANCE</th>\n",
       "      <td>1.000000</td>\n",
       "      <td>0.291482</td>\n",
       "    </tr>\n",
       "    <tr>\n",
       "      <th>CREDIT_LIMIT</th>\n",
       "      <td>0.291482</td>\n",
       "      <td>1.000000</td>\n",
       "    </tr>\n",
       "    <tr>\n",
       "      <th rowspan=\"2\" valign=\"top\">11.0</th>\n",
       "      <th>BALANCE</th>\n",
       "      <td>1.000000</td>\n",
       "      <td>0.380360</td>\n",
       "    </tr>\n",
       "    <tr>\n",
       "      <th>CREDIT_LIMIT</th>\n",
       "      <td>0.380360</td>\n",
       "      <td>1.000000</td>\n",
       "    </tr>\n",
       "    <tr>\n",
       "      <th rowspan=\"2\" valign=\"top\">12.0</th>\n",
       "      <th>BALANCE</th>\n",
       "      <td>1.000000</td>\n",
       "      <td>0.460833</td>\n",
       "    </tr>\n",
       "    <tr>\n",
       "      <th>CREDIT_LIMIT</th>\n",
       "      <td>0.460833</td>\n",
       "      <td>1.000000</td>\n",
       "    </tr>\n",
       "  </tbody>\n",
       "</table>\n",
       "</div>"
      ],
      "text/plain": [
       "                      BALANCE  CREDIT_LIMIT\n",
       "TENURE                                     \n",
       "6.0    BALANCE       1.000000      0.868056\n",
       "       CREDIT_LIMIT  0.868056      1.000000\n",
       "7.0    BALANCE       1.000000      0.948405\n",
       "       CREDIT_LIMIT  0.948405      1.000000\n",
       "8.0    BALANCE       1.000000      0.820696\n",
       "       CREDIT_LIMIT  0.820696      1.000000\n",
       "9.0    BALANCE       1.000000      0.085474\n",
       "       CREDIT_LIMIT  0.085474      1.000000\n",
       "10.0   BALANCE       1.000000      0.291482\n",
       "       CREDIT_LIMIT  0.291482      1.000000\n",
       "11.0   BALANCE       1.000000      0.380360\n",
       "       CREDIT_LIMIT  0.380360      1.000000\n",
       "12.0   BALANCE       1.000000      0.460833\n",
       "       CREDIT_LIMIT  0.460833      1.000000"
      ]
     },
     "execution_count": 164,
     "metadata": {},
     "output_type": "execute_result"
    }
   ],
   "source": [
    "card.groupby('TENURE')[['BALANCE','CREDIT_LIMIT']].corr(method='pearson')"
   ]
  },
  {
   "cell_type": "code",
   "execution_count": null,
   "id": "eae52606",
   "metadata": {},
   "outputs": [],
   "source": [
    "#q2\n",
    "일시불 구매 금액이 높은 고객군을 도출하려고 한다.\n",
    "단계1 : 고객 id 를 제외한 모든 변수 17개에 대해 z-score standardiziation \n",
    "단계2 : 표준화된 변수들에 대해 k-means 군집 분석 수행. 이 때 군집수는 2-5개 중 k-means silhouette ㅡㄹ 통해 구한 최적의 k로 설정\n",
    "단계3 : 단계 2에서 도출한 각 군집 별로 ONEOFF_PURCHASES의 평균을 계산\n",
    "-> 군집 별 ONEOFF_PURCHASESㅇ의 평균 중 가장 큰 값은 얼마?"
   ]
  },
  {
   "cell_type": "code",
   "execution_count": 169,
   "id": "bbd3fa96",
   "metadata": {},
   "outputs": [
    {
     "data": {
      "text/plain": [
       "18"
      ]
     },
     "execution_count": 169,
     "metadata": {},
     "output_type": "execute_result"
    }
   ],
   "source": [
    "len(card.columns)"
   ]
  },
  {
   "cell_type": "code",
   "execution_count": 216,
   "id": "de46a0eb",
   "metadata": {},
   "outputs": [],
   "source": [
    "card2 = card.drop(columns='CUST_ID')"
   ]
  },
  {
   "cell_type": "code",
   "execution_count": 220,
   "id": "67ada37b",
   "metadata": {},
   "outputs": [],
   "source": [
    "scaler = StandardScaler().fit(card2)\n",
    "scaler_tr = scaler.transform(card2)\n"
   ]
  },
  {
   "cell_type": "code",
   "execution_count": 221,
   "id": "bebfb6ad",
   "metadata": {},
   "outputs": [],
   "source": [
    "card2_tr_nor = pd.DataFrame(scaler_tr, columns=card2.columns)"
   ]
  },
  {
   "cell_type": "code",
   "execution_count": 222,
   "id": "a8e0d20d",
   "metadata": {},
   "outputs": [],
   "source": [
    "card2_tr_nor = card2_tr_nor.dropna()"
   ]
  },
  {
   "cell_type": "code",
   "execution_count": null,
   "id": "d93ce02e",
   "metadata": {},
   "outputs": [],
   "source": []
  },
  {
   "cell_type": "code",
   "execution_count": 223,
   "id": "7739e333",
   "metadata": {},
   "outputs": [],
   "source": [
    "si_scores =[]\n",
    "for n in range(2,6):\n",
    "    km = KMeans(n_clusters=n, random_state=1234)\n",
    "    km.fit(card2_tr_nor)\n",
    "    sc = silhouette_score(X=card2_tr_nor,labels=km.labels_)\n",
    "    si_scores = si_scores + [sc]"
   ]
  },
  {
   "cell_type": "code",
   "execution_count": 224,
   "id": "42041e96",
   "metadata": {},
   "outputs": [
    {
     "data": {
      "text/plain": [
       "2"
      ]
     },
     "execution_count": 224,
     "metadata": {},
     "output_type": "execute_result"
    }
   ],
   "source": [
    "si_list = pd.Series(si_scores,index=[2,3,4,5])\n",
    "k = si_list.idxmax()\n",
    "k"
   ]
  },
  {
   "cell_type": "code",
   "execution_count": 225,
   "id": "367686cf",
   "metadata": {},
   "outputs": [
    {
     "data": {
      "text/plain": [
       "KMeans(n_clusters=2, random_state=1234)"
      ]
     },
     "execution_count": 225,
     "metadata": {},
     "output_type": "execute_result"
    }
   ],
   "source": [
    "best_model = KMeans(n_clusters=k, random_state = 1234)\n",
    "best_model.fit(card2_tr_nor)"
   ]
  },
  {
   "cell_type": "code",
   "execution_count": 226,
   "id": "f226f3aa",
   "metadata": {},
   "outputs": [
    {
     "data": {
      "text/plain": [
       "array([[4.09007490e+01, 8.18182000e-01, 9.54000000e+01, ...,\n",
       "        1.39509787e+02, 0.00000000e+00, 1.20000000e+01],\n",
       "       [3.20246742e+03, 9.09091000e-01, 0.00000000e+00, ...,\n",
       "        1.07234022e+03, 2.22222000e-01, 1.20000000e+01],\n",
       "       [2.49514886e+03, 1.00000000e+00, 7.73170000e+02, ...,\n",
       "        6.27284787e+02, 0.00000000e+00, 1.20000000e+01],\n",
       "       ...,\n",
       "       [2.28506873e+03, 1.00000000e+00, 0.00000000e+00, ...,\n",
       "        1.00326521e+03, 0.00000000e+00, 1.20000000e+01],\n",
       "       [2.92875670e+03, 1.00000000e+00, 1.60920000e+02, ...,\n",
       "        1.09847983e+03, 0.00000000e+00, 1.20000000e+01],\n",
       "       [1.46017858e+03, 1.00000000e+00, 9.37960000e+02, ...,\n",
       "        1.32085529e+03, 0.00000000e+00, 1.20000000e+01]])"
      ]
     },
     "execution_count": 226,
     "metadata": {},
     "output_type": "execute_result"
    }
   ],
   "source": [
    "scaler.inverse_transform(card2_tr_nor)"
   ]
  },
  {
   "cell_type": "code",
   "execution_count": 227,
   "id": "e972bce7",
   "metadata": {},
   "outputs": [],
   "source": [
    "card2_org = scaler.inverse_transform(card2_tr_nor)"
   ]
  },
  {
   "cell_type": "code",
   "execution_count": 228,
   "id": "88cd1b65",
   "metadata": {},
   "outputs": [
    {
     "ename": "IndexError",
     "evalue": "only integers, slices (`:`), ellipsis (`...`), numpy.newaxis (`None`) and integer or boolean arrays are valid indices",
     "output_type": "error",
     "traceback": [
      "\u001b[0;31m---------------------------------------------------------------------------\u001b[0m",
      "\u001b[0;31mIndexError\u001b[0m                                Traceback (most recent call last)",
      "\u001b[0;32m/var/folders/08/qfhf2lxn7wlcym8tkm5j1t640000gn/T/ipykernel_32759/3577994826.py\u001b[0m in \u001b[0;36m<module>\u001b[0;34m\u001b[0m\n\u001b[0;32m----> 1\u001b[0;31m \u001b[0mcard2_org\u001b[0m\u001b[0;34m[\u001b[0m\u001b[0;34m'cluster'\u001b[0m\u001b[0;34m]\u001b[0m \u001b[0;34m=\u001b[0m \u001b[0mbest_model\u001b[0m\u001b[0;34m.\u001b[0m\u001b[0mlabels_\u001b[0m\u001b[0;34m\u001b[0m\u001b[0;34m\u001b[0m\u001b[0m\n\u001b[0m",
      "\u001b[0;31mIndexError\u001b[0m: only integers, slices (`:`), ellipsis (`...`), numpy.newaxis (`None`) and integer or boolean arrays are valid indices"
     ]
    }
   ],
   "source": []
  },
  {
   "cell_type": "code",
   "execution_count": 232,
   "id": "881c3d73",
   "metadata": {},
   "outputs": [],
   "source": [
    "card2_org = pd.DataFrame(card2_org,columns=card2.columns)"
   ]
  },
  {
   "cell_type": "code",
   "execution_count": 233,
   "id": "0cac9757",
   "metadata": {},
   "outputs": [],
   "source": [
    "card2_org['cluster'] = best_model.labels_"
   ]
  },
  {
   "cell_type": "code",
   "execution_count": 236,
   "id": "a7a65f77",
   "metadata": {},
   "outputs": [
    {
     "data": {
      "text/plain": [
       "4026.56"
      ]
     },
     "execution_count": 236,
     "metadata": {},
     "output_type": "execute_result"
    }
   ],
   "source": [
    "round(card2_org.groupby('cluster')['ONEOFF_PURCHASES'].mean().max(),2)"
   ]
  },
  {
   "cell_type": "code",
   "execution_count": null,
   "id": "0739311b",
   "metadata": {},
   "outputs": [],
   "source": [
    "#q3\n",
    "1. 고객 아이디가 4의 배수가 아닌 데이터를 트레인셋, 4의 배수인 데이터를 테스트셋으로 분할\n",
    "2. 트레인셋으로 의사결정나무 회귀모델을 학습\n",
    "- 독립변수 16개, 고객 아이디, 일시불 구매 총액을 제외한 모든 변수\n",
    "- 종속변수:일시불 구매총액\n",
    "3. 생성된 모델을 테스트셋에 적용하여 일시불 구매 총액을 예측\n",
    "3에서 얻은 예측 결과를 평가하기 위해 B를 계산한 값? B = (1/NSUM(PRED-TRUE)**2)**0.5"
   ]
  },
  {
   "cell_type": "code",
   "execution_count": 255,
   "id": "1151d8b2",
   "metadata": {},
   "outputs": [],
   "source": [
    "card = pd.read_csv('./card_cust.csv')"
   ]
  },
  {
   "cell_type": "code",
   "execution_count": 263,
   "id": "dd73aa39",
   "metadata": {},
   "outputs": [],
   "source": [
    "card[\"MINIMUM_PAYMENTS\"] = card[\"MINIMUM_PAYMENTS\"].fillna(card[\"MINIMUM_PAYMENTS\"].mean())"
   ]
  },
  {
   "cell_type": "code",
   "execution_count": 264,
   "id": "9a20ac2e",
   "metadata": {},
   "outputs": [],
   "source": [
    "train = card[card['CUST_ID']%4!=0]\n",
    "test = card[card['CUST_ID']%4==0]"
   ]
  },
  {
   "cell_type": "code",
   "execution_count": 265,
   "id": "ad1622ac",
   "metadata": {},
   "outputs": [],
   "source": [
    "train = train.set_index('ONEOFF_PURCHASES').reset_index()\n",
    "test = test.set_index('ONEOFF_PURCHASES').reset_index()"
   ]
  },
  {
   "cell_type": "code",
   "execution_count": 266,
   "id": "a2343d56",
   "metadata": {},
   "outputs": [],
   "source": [
    "tree = DecisionTreeRegressor(random_state=1234)"
   ]
  },
  {
   "cell_type": "code",
   "execution_count": 268,
   "id": "ce554e89",
   "metadata": {},
   "outputs": [
    {
     "data": {
      "text/plain": [
       "DecisionTreeRegressor(random_state=1234)"
      ]
     },
     "execution_count": 268,
     "metadata": {},
     "output_type": "execute_result"
    }
   ],
   "source": [
    "tree.fit(X=train.iloc[:,2:], y=train.iloc[:,0])"
   ]
  },
  {
   "cell_type": "code",
   "execution_count": 271,
   "id": "37a5b0a9",
   "metadata": {},
   "outputs": [],
   "source": [
    "prd = tree.predict(test.iloc[:,2:])"
   ]
  },
  {
   "cell_type": "code",
   "execution_count": 279,
   "id": "ee1a302d",
   "metadata": {},
   "outputs": [
    {
     "data": {
      "text/plain": [
       "1039.2"
      ]
     },
     "execution_count": 279,
     "metadata": {},
     "output_type": "execute_result"
    }
   ],
   "source": [
    "round((((prd - test.iloc[:,0])**2).sum()/248)**0.5,1)"
   ]
  },
  {
   "cell_type": "code",
   "execution_count": 280,
   "id": "90cba56c",
   "metadata": {},
   "outputs": [],
   "source": [
    "#q6\n",
    "edu = pd.read_csv('./edu_enrollees.csv')"
   ]
  },
  {
   "cell_type": "code",
   "execution_count": 281,
   "id": "b77a6943",
   "metadata": {},
   "outputs": [],
   "source": [
    "from sklearn.linear_model import LogisticRegression\n",
    "from sklearn.neighbors import KNeighborsClassifier"
   ]
  },
  {
   "cell_type": "code",
   "execution_count": 289,
   "id": "ad866475",
   "metadata": {},
   "outputs": [
    {
     "name": "stderr",
     "output_type": "stream",
     "text": [
      "/var/folders/08/qfhf2lxn7wlcym8tkm5j1t640000gn/T/ipykernel_32759/685829809.py:5: SettingWithCopyWarning: \n",
      "A value is trying to be set on a copy of a slice from a DataFrame.\n",
      "Try using .loc[row_indexer,col_indexer] = value instead\n",
      "\n",
      "See the caveats in the documentation: https://pandas.pydata.org/pandas-docs/stable/user_guide/indexing.html#returning-a-view-versus-a-copy\n",
      "  edu4['experience'] = edu4['experience'].astype(int)\n"
     ]
    }
   ],
   "source": [
    "edu1 = edu.drop(columns=['city','company_size','company_type'])\n",
    "edu2 = edu1.dropna()\n",
    "edu3 = edu2[edu2['experience'] != '>20']\n",
    "edu4 = edu3[edu3['experience'] != '<1']\n",
    "edu4['experience'] = edu4['experience'].astype(int)\n",
    "edu5 = edu4[edu4['last_new_job'] != '>4' ]\n",
    "edu6 = edu5[edu5['last_new_job'] != 'never']"
   ]
  },
  {
   "cell_type": "code",
   "execution_count": 290,
   "id": "f658232f",
   "metadata": {},
   "outputs": [],
   "source": [
    "base = edu6.copy()"
   ]
  },
  {
   "cell_type": "code",
   "execution_count": 313,
   "id": "66470cf8",
   "metadata": {},
   "outputs": [],
   "source": [
    "B = pd.crosstab(base['relevant_experience'],base['target'],normalize=0)[1.0]['Has relevant experience']\n",
    "A = pd.crosstab(base['relevant_experience'],base['target'],normalize=0)[1.0]['No relevant experience']"
   ]
  },
  {
   "cell_type": "code",
   "execution_count": 314,
   "id": "f00b76d1",
   "metadata": {},
   "outputs": [
    {
     "data": {
      "text/plain": [
       "1.77"
      ]
     },
     "execution_count": 314,
     "metadata": {},
     "output_type": "execute_result"
    }
   ],
   "source": [
    "round(A / B,2)"
   ]
  },
  {
   "cell_type": "code",
   "execution_count": 315,
   "id": "13ddc3e5",
   "metadata": {},
   "outputs": [],
   "source": [
    "#q2\n"
   ]
  },
  {
   "cell_type": "code",
   "execution_count": 320,
   "id": "e67d3867",
   "metadata": {},
   "outputs": [
    {
     "data": {
      "text/html": [
       "<div>\n",
       "<style scoped>\n",
       "    .dataframe tbody tr th:only-of-type {\n",
       "        vertical-align: middle;\n",
       "    }\n",
       "\n",
       "    .dataframe tbody tr th {\n",
       "        vertical-align: top;\n",
       "    }\n",
       "\n",
       "    .dataframe thead th {\n",
       "        text-align: right;\n",
       "    }\n",
       "</style>\n",
       "<table border=\"1\" class=\"dataframe\">\n",
       "  <thead>\n",
       "    <tr style=\"text-align: right;\">\n",
       "      <th></th>\n",
       "      <th>enrollee_id</th>\n",
       "      <th>city_development_index</th>\n",
       "      <th>gender</th>\n",
       "      <th>relevant_experience</th>\n",
       "      <th>enrolled_university</th>\n",
       "      <th>education_level</th>\n",
       "      <th>major_discipline</th>\n",
       "      <th>experience</th>\n",
       "      <th>last_new_job</th>\n",
       "      <th>training_hours</th>\n",
       "      <th>target</th>\n",
       "      <th>Xgrp</th>\n",
       "    </tr>\n",
       "  </thead>\n",
       "  <tbody>\n",
       "    <tr>\n",
       "      <th>8</th>\n",
       "      <td>27107.0</td>\n",
       "      <td>0.920</td>\n",
       "      <td>Male</td>\n",
       "      <td>Has relevant experience</td>\n",
       "      <td>no_enrollment</td>\n",
       "      <td>Graduate</td>\n",
       "      <td>STEM</td>\n",
       "      <td>7</td>\n",
       "      <td>1</td>\n",
       "      <td>46.0</td>\n",
       "      <td>1.0</td>\n",
       "      <td>train</td>\n",
       "    </tr>\n",
       "    <tr>\n",
       "      <th>11</th>\n",
       "      <td>23853.0</td>\n",
       "      <td>0.920</td>\n",
       "      <td>Male</td>\n",
       "      <td>Has relevant experience</td>\n",
       "      <td>no_enrollment</td>\n",
       "      <td>Graduate</td>\n",
       "      <td>STEM</td>\n",
       "      <td>5</td>\n",
       "      <td>1</td>\n",
       "      <td>108.0</td>\n",
       "      <td>0.0</td>\n",
       "      <td>train</td>\n",
       "    </tr>\n",
       "    <tr>\n",
       "      <th>19</th>\n",
       "      <td>11399.0</td>\n",
       "      <td>0.827</td>\n",
       "      <td>Female</td>\n",
       "      <td>Has relevant experience</td>\n",
       "      <td>no_enrollment</td>\n",
       "      <td>Graduate</td>\n",
       "      <td>Arts</td>\n",
       "      <td>4</td>\n",
       "      <td>1</td>\n",
       "      <td>132.0</td>\n",
       "      <td>1.0</td>\n",
       "      <td>train</td>\n",
       "    </tr>\n",
       "    <tr>\n",
       "      <th>20</th>\n",
       "      <td>31972.0</td>\n",
       "      <td>0.843</td>\n",
       "      <td>Male</td>\n",
       "      <td>Has relevant experience</td>\n",
       "      <td>no_enrollment</td>\n",
       "      <td>Masters</td>\n",
       "      <td>STEM</td>\n",
       "      <td>11</td>\n",
       "      <td>1</td>\n",
       "      <td>68.0</td>\n",
       "      <td>0.0</td>\n",
       "      <td>train</td>\n",
       "    </tr>\n",
       "    <tr>\n",
       "      <th>21</th>\n",
       "      <td>19061.0</td>\n",
       "      <td>0.926</td>\n",
       "      <td>Male</td>\n",
       "      <td>Has relevant experience</td>\n",
       "      <td>no_enrollment</td>\n",
       "      <td>Masters</td>\n",
       "      <td>STEM</td>\n",
       "      <td>11</td>\n",
       "      <td>2</td>\n",
       "      <td>50.0</td>\n",
       "      <td>0.0</td>\n",
       "      <td>train</td>\n",
       "    </tr>\n",
       "  </tbody>\n",
       "</table>\n",
       "</div>"
      ],
      "text/plain": [
       "    enrollee_id  city_development_index  gender      relevant_experience  \\\n",
       "8       27107.0                   0.920    Male  Has relevant experience   \n",
       "11      23853.0                   0.920    Male  Has relevant experience   \n",
       "19      11399.0                   0.827  Female  Has relevant experience   \n",
       "20      31972.0                   0.843    Male  Has relevant experience   \n",
       "21      19061.0                   0.926    Male  Has relevant experience   \n",
       "\n",
       "   enrolled_university education_level major_discipline  experience  \\\n",
       "8        no_enrollment        Graduate             STEM           7   \n",
       "11       no_enrollment        Graduate             STEM           5   \n",
       "19       no_enrollment        Graduate             Arts           4   \n",
       "20       no_enrollment         Masters             STEM          11   \n",
       "21       no_enrollment         Masters             STEM          11   \n",
       "\n",
       "   last_new_job  training_hours  target   Xgrp  \n",
       "8             1            46.0     1.0  train  \n",
       "11            1           108.0     0.0  train  \n",
       "19            1           132.0     1.0  train  \n",
       "20            1            68.0     0.0  train  \n",
       "21            2            50.0     0.0  train  "
      ]
     },
     "execution_count": 320,
     "metadata": {},
     "output_type": "execute_result"
    }
   ],
   "source": [
    "base.head()"
   ]
  },
  {
   "cell_type": "code",
   "execution_count": 323,
   "id": "471b98d3",
   "metadata": {},
   "outputs": [
    {
     "data": {
      "text/plain": [
       "Index(['gender_Female', 'gender_Male', 'gender_Other',\n",
       "       'relevant_experience_Has relevant experience',\n",
       "       'relevant_experience_No relevant experience',\n",
       "       'enrolled_university_Full time course',\n",
       "       'enrolled_university_Part time course',\n",
       "       'enrolled_university_no_enrollment', 'education_level_Graduate',\n",
       "       'education_level_Masters', 'education_level_Phd',\n",
       "       'major_discipline_Arts', 'major_discipline_Business Degree',\n",
       "       'major_discipline_Humanities', 'major_discipline_No Major',\n",
       "       'major_discipline_Other', 'major_discipline_STEM'],\n",
       "      dtype='object')"
      ]
     },
     "execution_count": 323,
     "metadata": {},
     "output_type": "execute_result"
    }
   ],
   "source": [
    "base_or = base.loc[:,'gender':'major_discipline']\n",
    "base_dum = pd.get_dummies(base_or, columns = base_or.columns)\n",
    "base_dum.columns"
   ]
  },
  {
   "cell_type": "code",
   "execution_count": 325,
   "id": "8e9d89cb",
   "metadata": {},
   "outputs": [
    {
     "data": {
      "text/html": [
       "<div>\n",
       "<style scoped>\n",
       "    .dataframe tbody tr th:only-of-type {\n",
       "        vertical-align: middle;\n",
       "    }\n",
       "\n",
       "    .dataframe tbody tr th {\n",
       "        vertical-align: top;\n",
       "    }\n",
       "\n",
       "    .dataframe thead th {\n",
       "        text-align: right;\n",
       "    }\n",
       "</style>\n",
       "<table border=\"1\" class=\"dataframe\">\n",
       "  <thead>\n",
       "    <tr style=\"text-align: right;\">\n",
       "      <th></th>\n",
       "      <th>gender_Female</th>\n",
       "      <th>gender_Male</th>\n",
       "      <th>relevant_experience_Has relevant experience</th>\n",
       "      <th>enrolled_university_Full time course</th>\n",
       "      <th>enrolled_university_Part time course</th>\n",
       "      <th>education_level_Graduate</th>\n",
       "      <th>education_level_Masters</th>\n",
       "      <th>major_discipline_Arts</th>\n",
       "      <th>major_discipline_Business Degree</th>\n",
       "      <th>major_discipline_Humanities</th>\n",
       "      <th>major_discipline_No Major</th>\n",
       "      <th>major_discipline_Other</th>\n",
       "    </tr>\n",
       "  </thead>\n",
       "  <tbody>\n",
       "    <tr>\n",
       "      <th>8</th>\n",
       "      <td>0</td>\n",
       "      <td>1</td>\n",
       "      <td>1</td>\n",
       "      <td>0</td>\n",
       "      <td>0</td>\n",
       "      <td>1</td>\n",
       "      <td>0</td>\n",
       "      <td>0</td>\n",
       "      <td>0</td>\n",
       "      <td>0</td>\n",
       "      <td>0</td>\n",
       "      <td>0</td>\n",
       "    </tr>\n",
       "    <tr>\n",
       "      <th>11</th>\n",
       "      <td>0</td>\n",
       "      <td>1</td>\n",
       "      <td>1</td>\n",
       "      <td>0</td>\n",
       "      <td>0</td>\n",
       "      <td>1</td>\n",
       "      <td>0</td>\n",
       "      <td>0</td>\n",
       "      <td>0</td>\n",
       "      <td>0</td>\n",
       "      <td>0</td>\n",
       "      <td>0</td>\n",
       "    </tr>\n",
       "    <tr>\n",
       "      <th>19</th>\n",
       "      <td>1</td>\n",
       "      <td>0</td>\n",
       "      <td>1</td>\n",
       "      <td>0</td>\n",
       "      <td>0</td>\n",
       "      <td>1</td>\n",
       "      <td>0</td>\n",
       "      <td>1</td>\n",
       "      <td>0</td>\n",
       "      <td>0</td>\n",
       "      <td>0</td>\n",
       "      <td>0</td>\n",
       "    </tr>\n",
       "    <tr>\n",
       "      <th>20</th>\n",
       "      <td>0</td>\n",
       "      <td>1</td>\n",
       "      <td>1</td>\n",
       "      <td>0</td>\n",
       "      <td>0</td>\n",
       "      <td>0</td>\n",
       "      <td>1</td>\n",
       "      <td>0</td>\n",
       "      <td>0</td>\n",
       "      <td>0</td>\n",
       "      <td>0</td>\n",
       "      <td>0</td>\n",
       "    </tr>\n",
       "    <tr>\n",
       "      <th>21</th>\n",
       "      <td>0</td>\n",
       "      <td>1</td>\n",
       "      <td>1</td>\n",
       "      <td>0</td>\n",
       "      <td>0</td>\n",
       "      <td>0</td>\n",
       "      <td>1</td>\n",
       "      <td>0</td>\n",
       "      <td>0</td>\n",
       "      <td>0</td>\n",
       "      <td>0</td>\n",
       "      <td>0</td>\n",
       "    </tr>\n",
       "    <tr>\n",
       "      <th>...</th>\n",
       "      <td>...</td>\n",
       "      <td>...</td>\n",
       "      <td>...</td>\n",
       "      <td>...</td>\n",
       "      <td>...</td>\n",
       "      <td>...</td>\n",
       "      <td>...</td>\n",
       "      <td>...</td>\n",
       "      <td>...</td>\n",
       "      <td>...</td>\n",
       "      <td>...</td>\n",
       "      <td>...</td>\n",
       "    </tr>\n",
       "    <tr>\n",
       "      <th>19149</th>\n",
       "      <td>0</td>\n",
       "      <td>1</td>\n",
       "      <td>1</td>\n",
       "      <td>0</td>\n",
       "      <td>0</td>\n",
       "      <td>0</td>\n",
       "      <td>1</td>\n",
       "      <td>0</td>\n",
       "      <td>0</td>\n",
       "      <td>0</td>\n",
       "      <td>0</td>\n",
       "      <td>0</td>\n",
       "    </tr>\n",
       "    <tr>\n",
       "      <th>19150</th>\n",
       "      <td>1</td>\n",
       "      <td>0</td>\n",
       "      <td>1</td>\n",
       "      <td>0</td>\n",
       "      <td>0</td>\n",
       "      <td>1</td>\n",
       "      <td>0</td>\n",
       "      <td>0</td>\n",
       "      <td>0</td>\n",
       "      <td>0</td>\n",
       "      <td>0</td>\n",
       "      <td>0</td>\n",
       "    </tr>\n",
       "    <tr>\n",
       "      <th>19152</th>\n",
       "      <td>1</td>\n",
       "      <td>0</td>\n",
       "      <td>1</td>\n",
       "      <td>0</td>\n",
       "      <td>0</td>\n",
       "      <td>1</td>\n",
       "      <td>0</td>\n",
       "      <td>0</td>\n",
       "      <td>0</td>\n",
       "      <td>1</td>\n",
       "      <td>0</td>\n",
       "      <td>0</td>\n",
       "    </tr>\n",
       "    <tr>\n",
       "      <th>19153</th>\n",
       "      <td>0</td>\n",
       "      <td>1</td>\n",
       "      <td>0</td>\n",
       "      <td>0</td>\n",
       "      <td>0</td>\n",
       "      <td>1</td>\n",
       "      <td>0</td>\n",
       "      <td>0</td>\n",
       "      <td>0</td>\n",
       "      <td>1</td>\n",
       "      <td>0</td>\n",
       "      <td>0</td>\n",
       "    </tr>\n",
       "    <tr>\n",
       "      <th>19154</th>\n",
       "      <td>0</td>\n",
       "      <td>1</td>\n",
       "      <td>1</td>\n",
       "      <td>0</td>\n",
       "      <td>0</td>\n",
       "      <td>1</td>\n",
       "      <td>0</td>\n",
       "      <td>0</td>\n",
       "      <td>0</td>\n",
       "      <td>0</td>\n",
       "      <td>0</td>\n",
       "      <td>0</td>\n",
       "    </tr>\n",
       "  </tbody>\n",
       "</table>\n",
       "<p>7522 rows × 12 columns</p>\n",
       "</div>"
      ],
      "text/plain": [
       "       gender_Female  gender_Male  \\\n",
       "8                  0            1   \n",
       "11                 0            1   \n",
       "19                 1            0   \n",
       "20                 0            1   \n",
       "21                 0            1   \n",
       "...              ...          ...   \n",
       "19149              0            1   \n",
       "19150              1            0   \n",
       "19152              1            0   \n",
       "19153              0            1   \n",
       "19154              0            1   \n",
       "\n",
       "       relevant_experience_Has relevant experience  \\\n",
       "8                                                1   \n",
       "11                                               1   \n",
       "19                                               1   \n",
       "20                                               1   \n",
       "21                                               1   \n",
       "...                                            ...   \n",
       "19149                                            1   \n",
       "19150                                            1   \n",
       "19152                                            1   \n",
       "19153                                            0   \n",
       "19154                                            1   \n",
       "\n",
       "       enrolled_university_Full time course  \\\n",
       "8                                         0   \n",
       "11                                        0   \n",
       "19                                        0   \n",
       "20                                        0   \n",
       "21                                        0   \n",
       "...                                     ...   \n",
       "19149                                     0   \n",
       "19150                                     0   \n",
       "19152                                     0   \n",
       "19153                                     0   \n",
       "19154                                     0   \n",
       "\n",
       "       enrolled_university_Part time course  education_level_Graduate  \\\n",
       "8                                         0                         1   \n",
       "11                                        0                         1   \n",
       "19                                        0                         1   \n",
       "20                                        0                         0   \n",
       "21                                        0                         0   \n",
       "...                                     ...                       ...   \n",
       "19149                                     0                         0   \n",
       "19150                                     0                         1   \n",
       "19152                                     0                         1   \n",
       "19153                                     0                         1   \n",
       "19154                                     0                         1   \n",
       "\n",
       "       education_level_Masters  major_discipline_Arts  \\\n",
       "8                            0                      0   \n",
       "11                           0                      0   \n",
       "19                           0                      1   \n",
       "20                           1                      0   \n",
       "21                           1                      0   \n",
       "...                        ...                    ...   \n",
       "19149                        1                      0   \n",
       "19150                        0                      0   \n",
       "19152                        0                      0   \n",
       "19153                        0                      0   \n",
       "19154                        0                      0   \n",
       "\n",
       "       major_discipline_Business Degree  major_discipline_Humanities  \\\n",
       "8                                     0                            0   \n",
       "11                                    0                            0   \n",
       "19                                    0                            0   \n",
       "20                                    0                            0   \n",
       "21                                    0                            0   \n",
       "...                                 ...                          ...   \n",
       "19149                                 0                            0   \n",
       "19150                                 0                            0   \n",
       "19152                                 0                            1   \n",
       "19153                                 0                            1   \n",
       "19154                                 0                            0   \n",
       "\n",
       "       major_discipline_No Major  major_discipline_Other  \n",
       "8                              0                       0  \n",
       "11                             0                       0  \n",
       "19                             0                       0  \n",
       "20                             0                       0  \n",
       "21                             0                       0  \n",
       "...                          ...                     ...  \n",
       "19149                          0                       0  \n",
       "19150                          0                       0  \n",
       "19152                          0                       0  \n",
       "19153                          0                       0  \n",
       "19154                          0                       0  \n",
       "\n",
       "[7522 rows x 12 columns]"
      ]
     },
     "execution_count": 325,
     "metadata": {},
     "output_type": "execute_result"
    }
   ],
   "source": [
    "base_dum_dr = base_dum.drop(columns=base_dum.columns[[2,4,7,10,16]])\n",
    "base_dum_dr"
   ]
  },
  {
   "cell_type": "code",
   "execution_count": 331,
   "id": "40181b68",
   "metadata": {},
   "outputs": [],
   "source": [
    "col2 = ['city_development_index','experience','last_new_job','training_hours']\n",
    "col1 = ['target','Xgrp']\n",
    "df_job2 = pd.concat([base[col1 + col2], base_dum_dr],axis =1)"
   ]
  },
  {
   "cell_type": "code",
   "execution_count": 332,
   "id": "e7dc74d7",
   "metadata": {},
   "outputs": [
    {
     "data": {
      "text/html": [
       "<div>\n",
       "<style scoped>\n",
       "    .dataframe tbody tr th:only-of-type {\n",
       "        vertical-align: middle;\n",
       "    }\n",
       "\n",
       "    .dataframe tbody tr th {\n",
       "        vertical-align: top;\n",
       "    }\n",
       "\n",
       "    .dataframe thead th {\n",
       "        text-align: right;\n",
       "    }\n",
       "</style>\n",
       "<table border=\"1\" class=\"dataframe\">\n",
       "  <thead>\n",
       "    <tr style=\"text-align: right;\">\n",
       "      <th></th>\n",
       "      <th>target</th>\n",
       "      <th>Xgrp</th>\n",
       "      <th>city_development_index</th>\n",
       "      <th>experience</th>\n",
       "      <th>last_new_job</th>\n",
       "      <th>training_hours</th>\n",
       "      <th>gender_Female</th>\n",
       "      <th>gender_Male</th>\n",
       "      <th>relevant_experience_Has relevant experience</th>\n",
       "      <th>enrolled_university_Full time course</th>\n",
       "      <th>enrolled_university_Part time course</th>\n",
       "      <th>education_level_Graduate</th>\n",
       "      <th>education_level_Masters</th>\n",
       "      <th>major_discipline_Arts</th>\n",
       "      <th>major_discipline_Business Degree</th>\n",
       "      <th>major_discipline_Humanities</th>\n",
       "      <th>major_discipline_No Major</th>\n",
       "      <th>major_discipline_Other</th>\n",
       "    </tr>\n",
       "  </thead>\n",
       "  <tbody>\n",
       "    <tr>\n",
       "      <th>8</th>\n",
       "      <td>1.0</td>\n",
       "      <td>train</td>\n",
       "      <td>0.920</td>\n",
       "      <td>7</td>\n",
       "      <td>1</td>\n",
       "      <td>46.0</td>\n",
       "      <td>0</td>\n",
       "      <td>1</td>\n",
       "      <td>1</td>\n",
       "      <td>0</td>\n",
       "      <td>0</td>\n",
       "      <td>1</td>\n",
       "      <td>0</td>\n",
       "      <td>0</td>\n",
       "      <td>0</td>\n",
       "      <td>0</td>\n",
       "      <td>0</td>\n",
       "      <td>0</td>\n",
       "    </tr>\n",
       "    <tr>\n",
       "      <th>11</th>\n",
       "      <td>0.0</td>\n",
       "      <td>train</td>\n",
       "      <td>0.920</td>\n",
       "      <td>5</td>\n",
       "      <td>1</td>\n",
       "      <td>108.0</td>\n",
       "      <td>0</td>\n",
       "      <td>1</td>\n",
       "      <td>1</td>\n",
       "      <td>0</td>\n",
       "      <td>0</td>\n",
       "      <td>1</td>\n",
       "      <td>0</td>\n",
       "      <td>0</td>\n",
       "      <td>0</td>\n",
       "      <td>0</td>\n",
       "      <td>0</td>\n",
       "      <td>0</td>\n",
       "    </tr>\n",
       "    <tr>\n",
       "      <th>19</th>\n",
       "      <td>1.0</td>\n",
       "      <td>train</td>\n",
       "      <td>0.827</td>\n",
       "      <td>4</td>\n",
       "      <td>1</td>\n",
       "      <td>132.0</td>\n",
       "      <td>1</td>\n",
       "      <td>0</td>\n",
       "      <td>1</td>\n",
       "      <td>0</td>\n",
       "      <td>0</td>\n",
       "      <td>1</td>\n",
       "      <td>0</td>\n",
       "      <td>1</td>\n",
       "      <td>0</td>\n",
       "      <td>0</td>\n",
       "      <td>0</td>\n",
       "      <td>0</td>\n",
       "    </tr>\n",
       "    <tr>\n",
       "      <th>20</th>\n",
       "      <td>0.0</td>\n",
       "      <td>train</td>\n",
       "      <td>0.843</td>\n",
       "      <td>11</td>\n",
       "      <td>1</td>\n",
       "      <td>68.0</td>\n",
       "      <td>0</td>\n",
       "      <td>1</td>\n",
       "      <td>1</td>\n",
       "      <td>0</td>\n",
       "      <td>0</td>\n",
       "      <td>0</td>\n",
       "      <td>1</td>\n",
       "      <td>0</td>\n",
       "      <td>0</td>\n",
       "      <td>0</td>\n",
       "      <td>0</td>\n",
       "      <td>0</td>\n",
       "    </tr>\n",
       "    <tr>\n",
       "      <th>21</th>\n",
       "      <td>0.0</td>\n",
       "      <td>train</td>\n",
       "      <td>0.926</td>\n",
       "      <td>11</td>\n",
       "      <td>2</td>\n",
       "      <td>50.0</td>\n",
       "      <td>0</td>\n",
       "      <td>1</td>\n",
       "      <td>1</td>\n",
       "      <td>0</td>\n",
       "      <td>0</td>\n",
       "      <td>0</td>\n",
       "      <td>1</td>\n",
       "      <td>0</td>\n",
       "      <td>0</td>\n",
       "      <td>0</td>\n",
       "      <td>0</td>\n",
       "      <td>0</td>\n",
       "    </tr>\n",
       "    <tr>\n",
       "      <th>...</th>\n",
       "      <td>...</td>\n",
       "      <td>...</td>\n",
       "      <td>...</td>\n",
       "      <td>...</td>\n",
       "      <td>...</td>\n",
       "      <td>...</td>\n",
       "      <td>...</td>\n",
       "      <td>...</td>\n",
       "      <td>...</td>\n",
       "      <td>...</td>\n",
       "      <td>...</td>\n",
       "      <td>...</td>\n",
       "      <td>...</td>\n",
       "      <td>...</td>\n",
       "      <td>...</td>\n",
       "      <td>...</td>\n",
       "      <td>...</td>\n",
       "      <td>...</td>\n",
       "    </tr>\n",
       "    <tr>\n",
       "      <th>19149</th>\n",
       "      <td>1.0</td>\n",
       "      <td>test</td>\n",
       "      <td>0.920</td>\n",
       "      <td>9</td>\n",
       "      <td>1</td>\n",
       "      <td>36.0</td>\n",
       "      <td>0</td>\n",
       "      <td>1</td>\n",
       "      <td>1</td>\n",
       "      <td>0</td>\n",
       "      <td>0</td>\n",
       "      <td>0</td>\n",
       "      <td>1</td>\n",
       "      <td>0</td>\n",
       "      <td>0</td>\n",
       "      <td>0</td>\n",
       "      <td>0</td>\n",
       "      <td>0</td>\n",
       "    </tr>\n",
       "    <tr>\n",
       "      <th>19150</th>\n",
       "      <td>0.0</td>\n",
       "      <td>test</td>\n",
       "      <td>0.920</td>\n",
       "      <td>10</td>\n",
       "      <td>3</td>\n",
       "      <td>23.0</td>\n",
       "      <td>1</td>\n",
       "      <td>0</td>\n",
       "      <td>1</td>\n",
       "      <td>0</td>\n",
       "      <td>0</td>\n",
       "      <td>1</td>\n",
       "      <td>0</td>\n",
       "      <td>0</td>\n",
       "      <td>0</td>\n",
       "      <td>0</td>\n",
       "      <td>0</td>\n",
       "      <td>0</td>\n",
       "    </tr>\n",
       "    <tr>\n",
       "      <th>19152</th>\n",
       "      <td>0.0</td>\n",
       "      <td>test</td>\n",
       "      <td>0.920</td>\n",
       "      <td>7</td>\n",
       "      <td>1</td>\n",
       "      <td>25.0</td>\n",
       "      <td>1</td>\n",
       "      <td>0</td>\n",
       "      <td>1</td>\n",
       "      <td>0</td>\n",
       "      <td>0</td>\n",
       "      <td>1</td>\n",
       "      <td>0</td>\n",
       "      <td>0</td>\n",
       "      <td>0</td>\n",
       "      <td>1</td>\n",
       "      <td>0</td>\n",
       "      <td>0</td>\n",
       "    </tr>\n",
       "    <tr>\n",
       "      <th>19153</th>\n",
       "      <td>1.0</td>\n",
       "      <td>test</td>\n",
       "      <td>0.878</td>\n",
       "      <td>14</td>\n",
       "      <td>1</td>\n",
       "      <td>42.0</td>\n",
       "      <td>0</td>\n",
       "      <td>1</td>\n",
       "      <td>0</td>\n",
       "      <td>0</td>\n",
       "      <td>0</td>\n",
       "      <td>1</td>\n",
       "      <td>0</td>\n",
       "      <td>0</td>\n",
       "      <td>0</td>\n",
       "      <td>1</td>\n",
       "      <td>0</td>\n",
       "      <td>0</td>\n",
       "    </tr>\n",
       "    <tr>\n",
       "      <th>19154</th>\n",
       "      <td>1.0</td>\n",
       "      <td>test</td>\n",
       "      <td>0.920</td>\n",
       "      <td>14</td>\n",
       "      <td>4</td>\n",
       "      <td>52.0</td>\n",
       "      <td>0</td>\n",
       "      <td>1</td>\n",
       "      <td>1</td>\n",
       "      <td>0</td>\n",
       "      <td>0</td>\n",
       "      <td>1</td>\n",
       "      <td>0</td>\n",
       "      <td>0</td>\n",
       "      <td>0</td>\n",
       "      <td>0</td>\n",
       "      <td>0</td>\n",
       "      <td>0</td>\n",
       "    </tr>\n",
       "  </tbody>\n",
       "</table>\n",
       "<p>7522 rows × 18 columns</p>\n",
       "</div>"
      ],
      "text/plain": [
       "       target   Xgrp  city_development_index  experience last_new_job  \\\n",
       "8         1.0  train                   0.920           7            1   \n",
       "11        0.0  train                   0.920           5            1   \n",
       "19        1.0  train                   0.827           4            1   \n",
       "20        0.0  train                   0.843          11            1   \n",
       "21        0.0  train                   0.926          11            2   \n",
       "...       ...    ...                     ...         ...          ...   \n",
       "19149     1.0   test                   0.920           9            1   \n",
       "19150     0.0   test                   0.920          10            3   \n",
       "19152     0.0   test                   0.920           7            1   \n",
       "19153     1.0   test                   0.878          14            1   \n",
       "19154     1.0   test                   0.920          14            4   \n",
       "\n",
       "       training_hours  gender_Female  gender_Male  \\\n",
       "8                46.0              0            1   \n",
       "11              108.0              0            1   \n",
       "19              132.0              1            0   \n",
       "20               68.0              0            1   \n",
       "21               50.0              0            1   \n",
       "...               ...            ...          ...   \n",
       "19149            36.0              0            1   \n",
       "19150            23.0              1            0   \n",
       "19152            25.0              1            0   \n",
       "19153            42.0              0            1   \n",
       "19154            52.0              0            1   \n",
       "\n",
       "       relevant_experience_Has relevant experience  \\\n",
       "8                                                1   \n",
       "11                                               1   \n",
       "19                                               1   \n",
       "20                                               1   \n",
       "21                                               1   \n",
       "...                                            ...   \n",
       "19149                                            1   \n",
       "19150                                            1   \n",
       "19152                                            1   \n",
       "19153                                            0   \n",
       "19154                                            1   \n",
       "\n",
       "       enrolled_university_Full time course  \\\n",
       "8                                         0   \n",
       "11                                        0   \n",
       "19                                        0   \n",
       "20                                        0   \n",
       "21                                        0   \n",
       "...                                     ...   \n",
       "19149                                     0   \n",
       "19150                                     0   \n",
       "19152                                     0   \n",
       "19153                                     0   \n",
       "19154                                     0   \n",
       "\n",
       "       enrolled_university_Part time course  education_level_Graduate  \\\n",
       "8                                         0                         1   \n",
       "11                                        0                         1   \n",
       "19                                        0                         1   \n",
       "20                                        0                         0   \n",
       "21                                        0                         0   \n",
       "...                                     ...                       ...   \n",
       "19149                                     0                         0   \n",
       "19150                                     0                         1   \n",
       "19152                                     0                         1   \n",
       "19153                                     0                         1   \n",
       "19154                                     0                         1   \n",
       "\n",
       "       education_level_Masters  major_discipline_Arts  \\\n",
       "8                            0                      0   \n",
       "11                           0                      0   \n",
       "19                           0                      1   \n",
       "20                           1                      0   \n",
       "21                           1                      0   \n",
       "...                        ...                    ...   \n",
       "19149                        1                      0   \n",
       "19150                        0                      0   \n",
       "19152                        0                      0   \n",
       "19153                        0                      0   \n",
       "19154                        0                      0   \n",
       "\n",
       "       major_discipline_Business Degree  major_discipline_Humanities  \\\n",
       "8                                     0                            0   \n",
       "11                                    0                            0   \n",
       "19                                    0                            0   \n",
       "20                                    0                            0   \n",
       "21                                    0                            0   \n",
       "...                                 ...                          ...   \n",
       "19149                                 0                            0   \n",
       "19150                                 0                            0   \n",
       "19152                                 0                            1   \n",
       "19153                                 0                            1   \n",
       "19154                                 0                            0   \n",
       "\n",
       "       major_discipline_No Major  major_discipline_Other  \n",
       "8                              0                       0  \n",
       "11                             0                       0  \n",
       "19                             0                       0  \n",
       "20                             0                       0  \n",
       "21                             0                       0  \n",
       "...                          ...                     ...  \n",
       "19149                          0                       0  \n",
       "19150                          0                       0  \n",
       "19152                          0                       0  \n",
       "19153                          0                       0  \n",
       "19154                          0                       0  \n",
       "\n",
       "[7522 rows x 18 columns]"
      ]
     },
     "execution_count": 332,
     "metadata": {},
     "output_type": "execute_result"
    }
   ],
   "source": [
    "독립변수 16개 : target, Xgrp 제외\n",
    "종속변수 : target\n",
    "-> 상수항 intercept 포함한 로지스틱 회귀분석 수행\n",
    "상수항을 제외한 나머지 변수들에 대한 odds ratio 중 가장 큰 값을 기술"
   ]
  },
  {
   "cell_type": "code",
   "execution_count": 336,
   "id": "678987ca",
   "metadata": {},
   "outputs": [],
   "source": [
    "lr = LogisticRegression(C=100000,max_iter=1000, solver='liblinear',random_state=123,fit_intercept=True)"
   ]
  },
  {
   "cell_type": "code",
   "execution_count": 337,
   "id": "907a1e44",
   "metadata": {},
   "outputs": [
    {
     "data": {
      "text/plain": [
       "LogisticRegression(C=100000, max_iter=1000, random_state=123,\n",
       "                   solver='liblinear')"
      ]
     },
     "execution_count": 337,
     "metadata": {},
     "output_type": "execute_result"
    }
   ],
   "source": [
    "lr.fit(X=df_job2.iloc[:,2:],y=df_job2.iloc[:,0])"
   ]
  },
  {
   "cell_type": "code",
   "execution_count": 339,
   "id": "b263af6b",
   "metadata": {},
   "outputs": [
    {
     "data": {
      "text/plain": [
       "array([[-6.17027459e+00, -2.86947767e-02,  9.40010959e-02,\n",
       "        -9.42300801e-04, -2.17187479e-01, -1.86998706e-01,\n",
       "        -7.69008071e-01,  5.13270671e-01, -2.90445589e-01,\n",
       "         2.22930314e-01, -7.78751713e-02,  2.84976114e-01,\n",
       "         1.17005475e-01,  2.46530336e-01,  4.01781704e-01,\n",
       "        -4.42323720e-01]])"
      ]
     },
     "execution_count": 339,
     "metadata": {},
     "output_type": "execute_result"
    }
   ],
   "source": [
    "lr.coef_"
   ]
  },
  {
   "cell_type": "code",
   "execution_count": 340,
   "id": "7a009a3b",
   "metadata": {},
   "outputs": [
    {
     "data": {
      "text/plain": [
       "array([4.56272809])"
      ]
     },
     "execution_count": 340,
     "metadata": {},
     "output_type": "execute_result"
    }
   ],
   "source": [
    "lr.intercept_"
   ]
  },
  {
   "cell_type": "code",
   "execution_count": 341,
   "id": "ae42e151",
   "metadata": {},
   "outputs": [
    {
     "data": {
      "text/html": [
       "<div>\n",
       "<style scoped>\n",
       "    .dataframe tbody tr th:only-of-type {\n",
       "        vertical-align: middle;\n",
       "    }\n",
       "\n",
       "    .dataframe tbody tr th {\n",
       "        vertical-align: top;\n",
       "    }\n",
       "\n",
       "    .dataframe thead th {\n",
       "        text-align: right;\n",
       "    }\n",
       "</style>\n",
       "<table border=\"1\" class=\"dataframe\">\n",
       "  <thead>\n",
       "    <tr style=\"text-align: right;\">\n",
       "      <th></th>\n",
       "      <th>city_development_index</th>\n",
       "      <th>experience</th>\n",
       "      <th>last_new_job</th>\n",
       "      <th>training_hours</th>\n",
       "      <th>gender_Female</th>\n",
       "      <th>gender_Male</th>\n",
       "      <th>relevant_experience_Has relevant experience</th>\n",
       "      <th>enrolled_university_Full time course</th>\n",
       "      <th>enrolled_university_Part time course</th>\n",
       "      <th>education_level_Graduate</th>\n",
       "      <th>education_level_Masters</th>\n",
       "      <th>major_discipline_Arts</th>\n",
       "      <th>major_discipline_Business Degree</th>\n",
       "      <th>major_discipline_Humanities</th>\n",
       "      <th>major_discipline_No Major</th>\n",
       "      <th>major_discipline_Other</th>\n",
       "    </tr>\n",
       "  </thead>\n",
       "  <tbody>\n",
       "    <tr>\n",
       "      <th>0</th>\n",
       "      <td>-6.170275</td>\n",
       "      <td>-0.028695</td>\n",
       "      <td>0.094001</td>\n",
       "      <td>-0.000942</td>\n",
       "      <td>-0.217187</td>\n",
       "      <td>-0.186999</td>\n",
       "      <td>-0.769008</td>\n",
       "      <td>0.513271</td>\n",
       "      <td>-0.290446</td>\n",
       "      <td>0.22293</td>\n",
       "      <td>-0.077875</td>\n",
       "      <td>0.284976</td>\n",
       "      <td>0.117005</td>\n",
       "      <td>0.24653</td>\n",
       "      <td>0.401782</td>\n",
       "      <td>-0.442324</td>\n",
       "    </tr>\n",
       "  </tbody>\n",
       "</table>\n",
       "</div>"
      ],
      "text/plain": [
       "   city_development_index  experience  last_new_job  training_hours  \\\n",
       "0               -6.170275   -0.028695      0.094001       -0.000942   \n",
       "\n",
       "   gender_Female  gender_Male  relevant_experience_Has relevant experience  \\\n",
       "0      -0.217187    -0.186999                                    -0.769008   \n",
       "\n",
       "   enrolled_university_Full time course  enrolled_university_Part time course  \\\n",
       "0                              0.513271                             -0.290446   \n",
       "\n",
       "   education_level_Graduate  education_level_Masters  major_discipline_Arts  \\\n",
       "0                   0.22293                -0.077875               0.284976   \n",
       "\n",
       "   major_discipline_Business Degree  major_discipline_Humanities  \\\n",
       "0                          0.117005                      0.24653   \n",
       "\n",
       "   major_discipline_No Major  major_discipline_Other  \n",
       "0                   0.401782               -0.442324  "
      ]
     },
     "execution_count": 341,
     "metadata": {},
     "output_type": "execute_result"
    }
   ],
   "source": [
    "pd.DataFrame(lr.coef_,columns=df_job2.columns[2:])"
   ]
  },
  {
   "cell_type": "code",
   "execution_count": 343,
   "id": "8f593ee9",
   "metadata": {},
   "outputs": [
    {
     "data": {
      "text/plain": [
       "1.6707"
      ]
     },
     "execution_count": 343,
     "metadata": {},
     "output_type": "execute_result"
    }
   ],
   "source": [
    "round(np.exp(lr.coef_).max(), 4) # 1.67"
   ]
  },
  {
   "cell_type": "code",
   "execution_count": null,
   "id": "fd2c2225",
   "metadata": {},
   "outputs": [],
   "source": [
    "#q3"
   ]
  },
  {
   "cell_type": "code",
   "execution_count": 345,
   "id": "63176cc9",
   "metadata": {},
   "outputs": [],
   "source": [
    "train = df_job2.loc[df_job2['Xgrp']=='train',]\n",
    "test = df_job2.loc[df_job2['Xgrp']=='test',]"
   ]
  },
  {
   "cell_type": "code",
   "execution_count": null,
   "id": "07cf6b68",
   "metadata": {},
   "outputs": [],
   "source": [
    "종속변수 : target\n",
    "독립변수 : 16개\n",
    "knn학습 -> euclidean 거리 기준 가장 가까운 5개 데이터의 target 활용하여 예측"
   ]
  },
  {
   "cell_type": "code",
   "execution_count": 346,
   "id": "b8884deb",
   "metadata": {},
   "outputs": [],
   "source": [
    "knn = KNeighborsClassifier(n_neighbors=5)"
   ]
  },
  {
   "cell_type": "code",
   "execution_count": 348,
   "id": "f64e3b4e",
   "metadata": {},
   "outputs": [
    {
     "data": {
      "text/plain": [
       "KNeighborsClassifier()"
      ]
     },
     "execution_count": 348,
     "metadata": {},
     "output_type": "execute_result"
    }
   ],
   "source": [
    "knn.fit(X = train.drop(columns=['target','Xgrp']), y=train['target'])"
   ]
  },
  {
   "cell_type": "code",
   "execution_count": 350,
   "id": "91b41425",
   "metadata": {},
   "outputs": [
    {
     "name": "stderr",
     "output_type": "stream",
     "text": [
      "/Users/cherylkim/opt/anaconda3/lib/python3.9/site-packages/sklearn/neighbors/_classification.py:228: FutureWarning: Unlike other reduction functions (e.g. `skew`, `kurtosis`), the default behavior of `mode` typically preserves the axis it acts along. In SciPy 1.11.0, this behavior will change: the default value of `keepdims` will become False, the `axis` over which the statistic is taken will be eliminated, and the value None will no longer be accepted. Set `keepdims` to True or False to avoid this warning.\n",
      "  mode, _ = stats.mode(_y[neigh_ind, k], axis=1)\n"
     ]
    }
   ],
   "source": [
    "pred = knn.predict(test.drop(columns=['target','Xgrp']))"
   ]
  },
  {
   "cell_type": "code",
   "execution_count": 353,
   "id": "50942e14",
   "metadata": {},
   "outputs": [],
   "source": [
    "df_tab = pd.crosstab(test['target'],pred)"
   ]
  },
  {
   "cell_type": "code",
   "execution_count": null,
   "id": "972655b9",
   "metadata": {},
   "outputs": [],
   "source": [
    "round(df_tab.values.diagonal().sum() / df_tab.values.sum(), 2)"
   ]
  },
  {
   "cell_type": "code",
   "execution_count": 355,
   "id": "355629d1",
   "metadata": {},
   "outputs": [
    {
     "data": {
      "text/html": [
       "<div>\n",
       "<style scoped>\n",
       "    .dataframe tbody tr th:only-of-type {\n",
       "        vertical-align: middle;\n",
       "    }\n",
       "\n",
       "    .dataframe tbody tr th {\n",
       "        vertical-align: top;\n",
       "    }\n",
       "\n",
       "    .dataframe thead th {\n",
       "        text-align: right;\n",
       "    }\n",
       "</style>\n",
       "<table border=\"1\" class=\"dataframe\">\n",
       "  <thead>\n",
       "    <tr style=\"text-align: right;\">\n",
       "      <th>col_0</th>\n",
       "      <th>0.0</th>\n",
       "      <th>1.0</th>\n",
       "    </tr>\n",
       "    <tr>\n",
       "      <th>target</th>\n",
       "      <th></th>\n",
       "      <th></th>\n",
       "    </tr>\n",
       "  </thead>\n",
       "  <tbody>\n",
       "    <tr>\n",
       "      <th>0.0</th>\n",
       "      <td>1897</td>\n",
       "      <td>195</td>\n",
       "    </tr>\n",
       "    <tr>\n",
       "      <th>1.0</th>\n",
       "      <td>616</td>\n",
       "      <td>108</td>\n",
       "    </tr>\n",
       "  </tbody>\n",
       "</table>\n",
       "</div>"
      ],
      "text/plain": [
       "col_0    0.0  1.0\n",
       "target           \n",
       "0.0     1897  195\n",
       "1.0      616  108"
      ]
     },
     "execution_count": 355,
     "metadata": {},
     "output_type": "execute_result"
    }
   ],
   "source": [
    "df_tab"
   ]
  },
  {
   "cell_type": "code",
   "execution_count": 357,
   "id": "896d14ff",
   "metadata": {},
   "outputs": [
    {
     "data": {
      "text/plain": [
       "2005"
      ]
     },
     "execution_count": 357,
     "metadata": {},
     "output_type": "execute_result"
    }
   ],
   "source": [
    "df_tab.values.diagonal().sum()"
   ]
  },
  {
   "cell_type": "code",
   "execution_count": null,
   "id": "bac8de1f",
   "metadata": {},
   "outputs": [],
   "source": []
  }
 ],
 "metadata": {
  "kernelspec": {
   "display_name": "Python 3 (ipykernel)",
   "language": "python",
   "name": "python3"
  },
  "language_info": {
   "codemirror_mode": {
    "name": "ipython",
    "version": 3
   },
   "file_extension": ".py",
   "mimetype": "text/x-python",
   "name": "python",
   "nbconvert_exporter": "python",
   "pygments_lexer": "ipython3",
   "version": "3.9.13"
  }
 },
 "nbformat": 4,
 "nbformat_minor": 5
}
