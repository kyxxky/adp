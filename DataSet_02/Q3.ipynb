{
 "cells": [
  {
   "cell_type": "code",
   "execution_count": 1,
   "id": "af48a67f",
   "metadata": {},
   "outputs": [],
   "source": [
    "import numpy as np\n",
    "import pandas as pd"
   ]
  },
  {
   "cell_type": "code",
   "execution_count": 2,
   "id": "178f1eaf",
   "metadata": {},
   "outputs": [],
   "source": [
    "from sklearn.preprocessing import MinMaxScaler\n",
    "from sklearn.model_selection import train_test_split\n",
    "from sklearn.neighbors import KNeighborsRegressor\n",
    "from sklearn.metrics import mean_squared_error"
   ]
  },
  {
   "cell_type": "code",
   "execution_count": 3,
   "id": "3b3bb8ea",
   "metadata": {},
   "outputs": [
    {
     "data": {
      "text/html": [
       "<div>\n",
       "<style scoped>\n",
       "    .dataframe tbody tr th:only-of-type {\n",
       "        vertical-align: middle;\n",
       "    }\n",
       "\n",
       "    .dataframe tbody tr th {\n",
       "        vertical-align: top;\n",
       "    }\n",
       "\n",
       "    .dataframe thead th {\n",
       "        text-align: right;\n",
       "    }\n",
       "</style>\n",
       "<table border=\"1\" class=\"dataframe\">\n",
       "  <thead>\n",
       "    <tr style=\"text-align: right;\">\n",
       "      <th></th>\n",
       "      <th>screen_size</th>\n",
       "      <th>ROM</th>\n",
       "      <th>RAM</th>\n",
       "      <th>num_rear_camera</th>\n",
       "      <th>num_front_camera</th>\n",
       "      <th>battery_capacity</th>\n",
       "      <th>ratings</th>\n",
       "      <th>num_of_ratings</th>\n",
       "      <th>sales_price</th>\n",
       "      <th>discount_percent</th>\n",
       "      <th>sales</th>\n",
       "    </tr>\n",
       "  </thead>\n",
       "  <tbody>\n",
       "    <tr>\n",
       "      <th>0</th>\n",
       "      <td>Very Small</td>\n",
       "      <td>64</td>\n",
       "      <td>2</td>\n",
       "      <td>1</td>\n",
       "      <td>1</td>\n",
       "      <td>1800</td>\n",
       "      <td>4.5</td>\n",
       "      <td>38645</td>\n",
       "      <td>32999</td>\n",
       "      <td>0.17</td>\n",
       "      <td>127.52</td>\n",
       "    </tr>\n",
       "    <tr>\n",
       "      <th>1</th>\n",
       "      <td>Small</td>\n",
       "      <td>64</td>\n",
       "      <td>4</td>\n",
       "      <td>2</td>\n",
       "      <td>1</td>\n",
       "      <td>2815</td>\n",
       "      <td>4.5</td>\n",
       "      <td>244</td>\n",
       "      <td>57149</td>\n",
       "      <td>0.04</td>\n",
       "      <td>1.39</td>\n",
       "    </tr>\n",
       "    <tr>\n",
       "      <th>2</th>\n",
       "      <td>Very Small</td>\n",
       "      <td>64</td>\n",
       "      <td>2</td>\n",
       "      <td>1</td>\n",
       "      <td>1</td>\n",
       "      <td>1800</td>\n",
       "      <td>4.5</td>\n",
       "      <td>38645</td>\n",
       "      <td>32999</td>\n",
       "      <td>0.17</td>\n",
       "      <td>127.52</td>\n",
       "    </tr>\n",
       "    <tr>\n",
       "      <th>3</th>\n",
       "      <td>Medium</td>\n",
       "      <td>64</td>\n",
       "      <td>3</td>\n",
       "      <td>1</td>\n",
       "      <td>1</td>\n",
       "      <td>2942</td>\n",
       "      <td>4.6</td>\n",
       "      <td>5366</td>\n",
       "      <td>42999</td>\n",
       "      <td>0.10</td>\n",
       "      <td>23.07</td>\n",
       "    </tr>\n",
       "    <tr>\n",
       "      <th>4</th>\n",
       "      <td>Medium</td>\n",
       "      <td>128</td>\n",
       "      <td>4</td>\n",
       "      <td>2</td>\n",
       "      <td>1</td>\n",
       "      <td>2815</td>\n",
       "      <td>4.6</td>\n",
       "      <td>745</td>\n",
       "      <td>69149</td>\n",
       "      <td>0.02</td>\n",
       "      <td>5.15</td>\n",
       "    </tr>\n",
       "  </tbody>\n",
       "</table>\n",
       "</div>"
      ],
      "text/plain": [
       "  screen_size  ROM  RAM  num_rear_camera  num_front_camera  battery_capacity  \\\n",
       "0  Very Small   64    2                1                 1              1800   \n",
       "1       Small   64    4                2                 1              2815   \n",
       "2  Very Small   64    2                1                 1              1800   \n",
       "3      Medium   64    3                1                 1              2942   \n",
       "4      Medium  128    4                2                 1              2815   \n",
       "\n",
       "   ratings  num_of_ratings  sales_price  discount_percent   sales  \n",
       "0      4.5           38645        32999              0.17  127.52  \n",
       "1      4.5             244        57149              0.04    1.39  \n",
       "2      4.5           38645        32999              0.17  127.52  \n",
       "3      4.6            5366        42999              0.10   23.07  \n",
       "4      4.6             745        69149              0.02    5.15  "
      ]
     },
     "execution_count": 3,
     "metadata": {},
     "output_type": "execute_result"
    }
   ],
   "source": [
    "df = pd.read_csv(\"mobiles.csv\")\n",
    "df.head()"
   ]
  },
  {
   "cell_type": "code",
   "execution_count": 4,
   "id": "c982f1c2",
   "metadata": {},
   "outputs": [],
   "source": [
    "#Q1"
   ]
  },
  {
   "cell_type": "code",
   "execution_count": 6,
   "id": "e87f281c",
   "metadata": {},
   "outputs": [],
   "source": [
    "#1 sales 이상치 구하기"
   ]
  },
  {
   "cell_type": "code",
   "execution_count": 11,
   "id": "2305ebe1",
   "metadata": {},
   "outputs": [
    {
     "data": {
      "text/html": [
       "<div>\n",
       "<style scoped>\n",
       "    .dataframe tbody tr th:only-of-type {\n",
       "        vertical-align: middle;\n",
       "    }\n",
       "\n",
       "    .dataframe tbody tr th {\n",
       "        vertical-align: top;\n",
       "    }\n",
       "\n",
       "    .dataframe thead th {\n",
       "        text-align: right;\n",
       "    }\n",
       "</style>\n",
       "<table border=\"1\" class=\"dataframe\">\n",
       "  <thead>\n",
       "    <tr style=\"text-align: right;\">\n",
       "      <th></th>\n",
       "      <th>screen_size</th>\n",
       "      <th>ROM</th>\n",
       "      <th>RAM</th>\n",
       "      <th>num_rear_camera</th>\n",
       "      <th>num_front_camera</th>\n",
       "      <th>battery_capacity</th>\n",
       "      <th>ratings</th>\n",
       "      <th>num_of_ratings</th>\n",
       "      <th>sales_price</th>\n",
       "      <th>discount_percent</th>\n",
       "      <th>sales</th>\n",
       "    </tr>\n",
       "  </thead>\n",
       "  <tbody>\n",
       "  </tbody>\n",
       "</table>\n",
       "</div>"
      ],
      "text/plain": [
       "Empty DataFrame\n",
       "Columns: [screen_size, ROM, RAM, num_rear_camera, num_front_camera, battery_capacity, ratings, num_of_ratings, sales_price, discount_percent, sales]\n",
       "Index: []"
      ]
     },
     "execution_count": 11,
     "metadata": {},
     "output_type": "execute_result"
    }
   ],
   "source": [
    "df[df['sales'].isna()]"
   ]
  },
  {
   "cell_type": "code",
   "execution_count": 18,
   "id": "f00ad01b",
   "metadata": {},
   "outputs": [],
   "source": [
    "avg = df['sales'].mean()\n",
    "std = df['sales'].std()"
   ]
  },
  {
   "cell_type": "code",
   "execution_count": 20,
   "id": "e3dd56a0",
   "metadata": {},
   "outputs": [],
   "source": [
    "df_1 = df[df['sales'] > avg + 2*std]"
   ]
  },
  {
   "cell_type": "code",
   "execution_count": 89,
   "id": "96dfe7a2",
   "metadata": {},
   "outputs": [
    {
     "data": {
      "text/html": [
       "<div>\n",
       "<style scoped>\n",
       "    .dataframe tbody tr th:only-of-type {\n",
       "        vertical-align: middle;\n",
       "    }\n",
       "\n",
       "    .dataframe tbody tr th {\n",
       "        vertical-align: top;\n",
       "    }\n",
       "\n",
       "    .dataframe thead th {\n",
       "        text-align: right;\n",
       "    }\n",
       "</style>\n",
       "<table border=\"1\" class=\"dataframe\">\n",
       "  <thead>\n",
       "    <tr style=\"text-align: right;\">\n",
       "      <th></th>\n",
       "      <th>screen_size</th>\n",
       "      <th>ROM</th>\n",
       "      <th>RAM</th>\n",
       "      <th>num_rear_camera</th>\n",
       "      <th>num_front_camera</th>\n",
       "      <th>battery_capacity</th>\n",
       "      <th>ratings</th>\n",
       "      <th>num_of_ratings</th>\n",
       "      <th>sales_price</th>\n",
       "      <th>discount_percent</th>\n",
       "      <th>sales</th>\n",
       "    </tr>\n",
       "  </thead>\n",
       "  <tbody>\n",
       "    <tr>\n",
       "      <th>0</th>\n",
       "      <td>Medium</td>\n",
       "      <td>128</td>\n",
       "      <td>6</td>\n",
       "      <td>2</td>\n",
       "      <td>1</td>\n",
       "      <td>4000</td>\n",
       "      <td>4.6</td>\n",
       "      <td>122001</td>\n",
       "      <td>18999</td>\n",
       "      <td>0.09</td>\n",
       "      <td>231.79</td>\n",
       "    </tr>\n",
       "    <tr>\n",
       "      <th>1</th>\n",
       "      <td>Large</td>\n",
       "      <td>128</td>\n",
       "      <td>6</td>\n",
       "      <td>4</td>\n",
       "      <td>2</td>\n",
       "      <td>4500</td>\n",
       "      <td>4.5</td>\n",
       "      <td>267028</td>\n",
       "      <td>15999</td>\n",
       "      <td>0.20</td>\n",
       "      <td>427.22</td>\n",
       "    </tr>\n",
       "    <tr>\n",
       "      <th>2</th>\n",
       "      <td>Large</td>\n",
       "      <td>32</td>\n",
       "      <td>2</td>\n",
       "      <td>2</td>\n",
       "      <td>1</td>\n",
       "      <td>5000</td>\n",
       "      <td>4.4</td>\n",
       "      <td>223672</td>\n",
       "      <td>7499</td>\n",
       "      <td>0.16</td>\n",
       "      <td>167.73</td>\n",
       "    </tr>\n",
       "    <tr>\n",
       "      <th>3</th>\n",
       "      <td>Large</td>\n",
       "      <td>32</td>\n",
       "      <td>2</td>\n",
       "      <td>2</td>\n",
       "      <td>1</td>\n",
       "      <td>5000</td>\n",
       "      <td>4.4</td>\n",
       "      <td>223672</td>\n",
       "      <td>7499</td>\n",
       "      <td>0.16</td>\n",
       "      <td>167.73</td>\n",
       "    </tr>\n",
       "    <tr>\n",
       "      <th>4</th>\n",
       "      <td>Medium</td>\n",
       "      <td>16</td>\n",
       "      <td>2</td>\n",
       "      <td>2</td>\n",
       "      <td>1</td>\n",
       "      <td>4000</td>\n",
       "      <td>4.4</td>\n",
       "      <td>226996</td>\n",
       "      <td>6499</td>\n",
       "      <td>0.07</td>\n",
       "      <td>147.52</td>\n",
       "    </tr>\n",
       "    <tr>\n",
       "      <th>5</th>\n",
       "      <td>Medium</td>\n",
       "      <td>32</td>\n",
       "      <td>2</td>\n",
       "      <td>2</td>\n",
       "      <td>1</td>\n",
       "      <td>4000</td>\n",
       "      <td>4.4</td>\n",
       "      <td>226996</td>\n",
       "      <td>6999</td>\n",
       "      <td>0.12</td>\n",
       "      <td>158.87</td>\n",
       "    </tr>\n",
       "    <tr>\n",
       "      <th>6</th>\n",
       "      <td>Medium</td>\n",
       "      <td>16</td>\n",
       "      <td>2</td>\n",
       "      <td>2</td>\n",
       "      <td>1</td>\n",
       "      <td>4000</td>\n",
       "      <td>4.4</td>\n",
       "      <td>226996</td>\n",
       "      <td>6499</td>\n",
       "      <td>0.07</td>\n",
       "      <td>147.52</td>\n",
       "    </tr>\n",
       "    <tr>\n",
       "      <th>7</th>\n",
       "      <td>Medium</td>\n",
       "      <td>64</td>\n",
       "      <td>4</td>\n",
       "      <td>2</td>\n",
       "      <td>2</td>\n",
       "      <td>4000</td>\n",
       "      <td>4.5</td>\n",
       "      <td>125016</td>\n",
       "      <td>12459</td>\n",
       "      <td>0.22</td>\n",
       "      <td>155.76</td>\n",
       "    </tr>\n",
       "    <tr>\n",
       "      <th>8</th>\n",
       "      <td>Medium</td>\n",
       "      <td>64</td>\n",
       "      <td>6</td>\n",
       "      <td>2</td>\n",
       "      <td>1</td>\n",
       "      <td>4000</td>\n",
       "      <td>4.5</td>\n",
       "      <td>129661</td>\n",
       "      <td>13500</td>\n",
       "      <td>0.20</td>\n",
       "      <td>175.04</td>\n",
       "    </tr>\n",
       "    <tr>\n",
       "      <th>9</th>\n",
       "      <td>Small</td>\n",
       "      <td>32</td>\n",
       "      <td>3</td>\n",
       "      <td>1</td>\n",
       "      <td>1</td>\n",
       "      <td>4100</td>\n",
       "      <td>4.4</td>\n",
       "      <td>642373</td>\n",
       "      <td>8565</td>\n",
       "      <td>0.04</td>\n",
       "      <td>550.19</td>\n",
       "    </tr>\n",
       "    <tr>\n",
       "      <th>10</th>\n",
       "      <td>Medium</td>\n",
       "      <td>64</td>\n",
       "      <td>4</td>\n",
       "      <td>1</td>\n",
       "      <td>1</td>\n",
       "      <td>4000</td>\n",
       "      <td>4.4</td>\n",
       "      <td>357064</td>\n",
       "      <td>10999</td>\n",
       "      <td>0.04</td>\n",
       "      <td>392.73</td>\n",
       "    </tr>\n",
       "    <tr>\n",
       "      <th>11</th>\n",
       "      <td>Medium</td>\n",
       "      <td>64</td>\n",
       "      <td>4</td>\n",
       "      <td>2</td>\n",
       "      <td>1</td>\n",
       "      <td>4000</td>\n",
       "      <td>4.5</td>\n",
       "      <td>141177</td>\n",
       "      <td>14450</td>\n",
       "      <td>0.03</td>\n",
       "      <td>204.00</td>\n",
       "    </tr>\n",
       "    <tr>\n",
       "      <th>12</th>\n",
       "      <td>Medium</td>\n",
       "      <td>64</td>\n",
       "      <td>6</td>\n",
       "      <td>2</td>\n",
       "      <td>1</td>\n",
       "      <td>4000</td>\n",
       "      <td>4.5</td>\n",
       "      <td>129661</td>\n",
       "      <td>13400</td>\n",
       "      <td>0.13</td>\n",
       "      <td>173.75</td>\n",
       "    </tr>\n",
       "    <tr>\n",
       "      <th>13</th>\n",
       "      <td>Medium</td>\n",
       "      <td>64</td>\n",
       "      <td>4</td>\n",
       "      <td>2</td>\n",
       "      <td>2</td>\n",
       "      <td>4000</td>\n",
       "      <td>4.5</td>\n",
       "      <td>125016</td>\n",
       "      <td>13990</td>\n",
       "      <td>0.12</td>\n",
       "      <td>174.90</td>\n",
       "    </tr>\n",
       "    <tr>\n",
       "      <th>14</th>\n",
       "      <td>Medium</td>\n",
       "      <td>64</td>\n",
       "      <td>4</td>\n",
       "      <td>2</td>\n",
       "      <td>1</td>\n",
       "      <td>4000</td>\n",
       "      <td>4.5</td>\n",
       "      <td>141177</td>\n",
       "      <td>12900</td>\n",
       "      <td>0.04</td>\n",
       "      <td>182.12</td>\n",
       "    </tr>\n",
       "    <tr>\n",
       "      <th>15</th>\n",
       "      <td>Small</td>\n",
       "      <td>64</td>\n",
       "      <td>4</td>\n",
       "      <td>2</td>\n",
       "      <td>1</td>\n",
       "      <td>3080</td>\n",
       "      <td>4.4</td>\n",
       "      <td>470905</td>\n",
       "      <td>10490</td>\n",
       "      <td>0.25</td>\n",
       "      <td>493.98</td>\n",
       "    </tr>\n",
       "  </tbody>\n",
       "</table>\n",
       "</div>"
      ],
      "text/plain": [
       "   screen_size  ROM  RAM  num_rear_camera  num_front_camera  battery_capacity  \\\n",
       "0       Medium  128    6                2                 1              4000   \n",
       "1        Large  128    6                4                 2              4500   \n",
       "2        Large   32    2                2                 1              5000   \n",
       "3        Large   32    2                2                 1              5000   \n",
       "4       Medium   16    2                2                 1              4000   \n",
       "5       Medium   32    2                2                 1              4000   \n",
       "6       Medium   16    2                2                 1              4000   \n",
       "7       Medium   64    4                2                 2              4000   \n",
       "8       Medium   64    6                2                 1              4000   \n",
       "9        Small   32    3                1                 1              4100   \n",
       "10      Medium   64    4                1                 1              4000   \n",
       "11      Medium   64    4                2                 1              4000   \n",
       "12      Medium   64    6                2                 1              4000   \n",
       "13      Medium   64    4                2                 2              4000   \n",
       "14      Medium   64    4                2                 1              4000   \n",
       "15       Small   64    4                2                 1              3080   \n",
       "\n",
       "    ratings  num_of_ratings  sales_price  discount_percent   sales  \n",
       "0       4.6          122001        18999              0.09  231.79  \n",
       "1       4.5          267028        15999              0.20  427.22  \n",
       "2       4.4          223672         7499              0.16  167.73  \n",
       "3       4.4          223672         7499              0.16  167.73  \n",
       "4       4.4          226996         6499              0.07  147.52  \n",
       "5       4.4          226996         6999              0.12  158.87  \n",
       "6       4.4          226996         6499              0.07  147.52  \n",
       "7       4.5          125016        12459              0.22  155.76  \n",
       "8       4.5          129661        13500              0.20  175.04  \n",
       "9       4.4          642373         8565              0.04  550.19  \n",
       "10      4.4          357064        10999              0.04  392.73  \n",
       "11      4.5          141177        14450              0.03  204.00  \n",
       "12      4.5          129661        13400              0.13  173.75  \n",
       "13      4.5          125016        13990              0.12  174.90  \n",
       "14      4.5          141177        12900              0.04  182.12  \n",
       "15      4.4          470905        10490              0.25  493.98  "
      ]
     },
     "execution_count": 89,
     "metadata": {},
     "output_type": "execute_result"
    }
   ],
   "source": [
    "df.loc[df['sales'] > avg + 2*std,].reset_index(drop=True)"
   ]
  },
  {
   "cell_type": "code",
   "execution_count": 22,
   "id": "40d808e7",
   "metadata": {},
   "outputs": [
    {
     "data": {
      "text/plain": [
       "11.01125"
      ]
     },
     "execution_count": 22,
     "metadata": {},
     "output_type": "execute_result"
    }
   ],
   "source": [
    "(df_1['ROM']/32 + df_1['RAM']/2 + df_1['num_rear_camera'] + df_1['num_front_camera'] + df_1['battery_capacity']/1000).mean()"
   ]
  },
  {
   "cell_type": "code",
   "execution_count": 23,
   "id": "e86d7152",
   "metadata": {},
   "outputs": [],
   "source": [
    "#Q2"
   ]
  },
  {
   "cell_type": "code",
   "execution_count": 24,
   "id": "21cef34d",
   "metadata": {},
   "outputs": [],
   "source": [
    "#df.corr(method=pearson)"
   ]
  },
  {
   "cell_type": "code",
   "execution_count": 92,
   "id": "75d29fdc",
   "metadata": {},
   "outputs": [
    {
     "data": {
      "text/plain": [
       "array([1, 2, 3, 4])"
      ]
     },
     "execution_count": 92,
     "metadata": {},
     "output_type": "execute_result"
    }
   ],
   "source": [
    "df['num_rear_camera'].unique()"
   ]
  },
  {
   "cell_type": "code",
   "execution_count": 93,
   "id": "e6b44251",
   "metadata": {},
   "outputs": [
    {
     "data": {
      "text/html": [
       "<div>\n",
       "<style scoped>\n",
       "    .dataframe tbody tr th:only-of-type {\n",
       "        vertical-align: middle;\n",
       "    }\n",
       "\n",
       "    .dataframe tbody tr th {\n",
       "        vertical-align: top;\n",
       "    }\n",
       "\n",
       "    .dataframe thead th {\n",
       "        text-align: right;\n",
       "    }\n",
       "</style>\n",
       "<table border=\"1\" class=\"dataframe\">\n",
       "  <thead>\n",
       "    <tr style=\"text-align: right;\">\n",
       "      <th></th>\n",
       "      <th>battery_capacity</th>\n",
       "      <th>ratings</th>\n",
       "      <th>num_of_ratings</th>\n",
       "      <th>sales</th>\n",
       "    </tr>\n",
       "  </thead>\n",
       "  <tbody>\n",
       "    <tr>\n",
       "      <th>1</th>\n",
       "      <td>2815</td>\n",
       "      <td>4.5</td>\n",
       "      <td>244</td>\n",
       "      <td>1.39</td>\n",
       "    </tr>\n",
       "    <tr>\n",
       "      <th>4</th>\n",
       "      <td>2815</td>\n",
       "      <td>4.6</td>\n",
       "      <td>745</td>\n",
       "      <td>5.15</td>\n",
       "    </tr>\n",
       "    <tr>\n",
       "      <th>5</th>\n",
       "      <td>2815</td>\n",
       "      <td>4.6</td>\n",
       "      <td>745</td>\n",
       "      <td>4.78</td>\n",
       "    </tr>\n",
       "    <tr>\n",
       "      <th>6</th>\n",
       "      <td>2815</td>\n",
       "      <td>4.6</td>\n",
       "      <td>745</td>\n",
       "      <td>5.15</td>\n",
       "    </tr>\n",
       "    <tr>\n",
       "      <th>7</th>\n",
       "      <td>2815</td>\n",
       "      <td>4.6</td>\n",
       "      <td>745</td>\n",
       "      <td>4.78</td>\n",
       "    </tr>\n",
       "  </tbody>\n",
       "</table>\n",
       "</div>"
      ],
      "text/plain": [
       "   battery_capacity  ratings  num_of_ratings  sales\n",
       "1              2815      4.5             244   1.39\n",
       "4              2815      4.6             745   5.15\n",
       "5              2815      4.6             745   4.78\n",
       "6              2815      4.6             745   5.15\n",
       "7              2815      4.6             745   4.78"
      ]
     },
     "execution_count": 93,
     "metadata": {},
     "output_type": "execute_result"
    }
   ],
   "source": [
    "df_2 = df.loc[df['num_rear_camera']!=1,('battery_capacity','ratings','num_of_ratings','sales')]\n",
    "df_2.head()"
   ]
  },
  {
   "cell_type": "code",
   "execution_count": 100,
   "id": "96007a98",
   "metadata": {},
   "outputs": [
    {
     "data": {
      "text/plain": [
       "0.95"
      ]
     },
     "execution_count": 100,
     "metadata": {},
     "output_type": "execute_result"
    }
   ],
   "source": [
    "df_2.corr(method = 'pearson').replace(1,np.nan).loc['sales',:].abs().round(2).max()"
   ]
  },
  {
   "cell_type": "code",
   "execution_count": 105,
   "id": "58f71695",
   "metadata": {},
   "outputs": [
    {
     "data": {
      "text/html": [
       "<div>\n",
       "<style scoped>\n",
       "    .dataframe tbody tr th:only-of-type {\n",
       "        vertical-align: middle;\n",
       "    }\n",
       "\n",
       "    .dataframe tbody tr th {\n",
       "        vertical-align: top;\n",
       "    }\n",
       "\n",
       "    .dataframe thead th {\n",
       "        text-align: right;\n",
       "    }\n",
       "</style>\n",
       "<table border=\"1\" class=\"dataframe\">\n",
       "  <thead>\n",
       "    <tr style=\"text-align: right;\">\n",
       "      <th></th>\n",
       "      <th>index</th>\n",
       "      <th>variable</th>\n",
       "      <th>value</th>\n",
       "    </tr>\n",
       "  </thead>\n",
       "  <tbody>\n",
       "    <tr>\n",
       "      <th>0</th>\n",
       "      <td>battery_capacity</td>\n",
       "      <td>sales</td>\n",
       "      <td>0.03</td>\n",
       "    </tr>\n",
       "    <tr>\n",
       "      <th>1</th>\n",
       "      <td>num_of_ratings</td>\n",
       "      <td>sales</td>\n",
       "      <td>0.95</td>\n",
       "    </tr>\n",
       "    <tr>\n",
       "      <th>2</th>\n",
       "      <td>ratings</td>\n",
       "      <td>sales</td>\n",
       "      <td>0.23</td>\n",
       "    </tr>\n",
       "    <tr>\n",
       "      <th>3</th>\n",
       "      <td>sales</td>\n",
       "      <td>ratings</td>\n",
       "      <td>0.95</td>\n",
       "    </tr>\n",
       "  </tbody>\n",
       "</table>\n",
       "</div>"
      ],
      "text/plain": [
       "              index variable  value\n",
       "0  battery_capacity    sales   0.03\n",
       "1    num_of_ratings    sales   0.95\n",
       "2           ratings    sales   0.23\n",
       "3             sales  ratings   0.95"
      ]
     },
     "execution_count": 105,
     "metadata": {},
     "output_type": "execute_result"
    }
   ],
   "source": [
    "df_22 = df_2.corr(method = 'pearson').reset_index().melt(id_vars = 'index')\n",
    "df_22.loc[df_22['index']!=df_22['variable']].groupby('index').max().round(2).reset_index()"
   ]
  },
  {
   "cell_type": "code",
   "execution_count": 35,
   "id": "12e84bf5",
   "metadata": {},
   "outputs": [],
   "source": [
    "#Q3"
   ]
  },
  {
   "cell_type": "code",
   "execution_count": 36,
   "id": "d9548c35",
   "metadata": {},
   "outputs": [],
   "source": [
    "#K-NN RMSE 기준 가장 성능이 좋은 모델, 모델의 k개수"
   ]
  },
  {
   "cell_type": "code",
   "execution_count": 37,
   "id": "3b0748ac",
   "metadata": {},
   "outputs": [
    {
     "data": {
      "text/html": [
       "<div>\n",
       "<style scoped>\n",
       "    .dataframe tbody tr th:only-of-type {\n",
       "        vertical-align: middle;\n",
       "    }\n",
       "\n",
       "    .dataframe tbody tr th {\n",
       "        vertical-align: top;\n",
       "    }\n",
       "\n",
       "    .dataframe thead th {\n",
       "        text-align: right;\n",
       "    }\n",
       "</style>\n",
       "<table border=\"1\" class=\"dataframe\">\n",
       "  <thead>\n",
       "    <tr style=\"text-align: right;\">\n",
       "      <th></th>\n",
       "      <th>screen_size</th>\n",
       "      <th>ROM</th>\n",
       "      <th>RAM</th>\n",
       "      <th>num_rear_camera</th>\n",
       "      <th>num_front_camera</th>\n",
       "      <th>battery_capacity</th>\n",
       "      <th>ratings</th>\n",
       "      <th>num_of_ratings</th>\n",
       "      <th>sales_price</th>\n",
       "      <th>discount_percent</th>\n",
       "      <th>sales</th>\n",
       "    </tr>\n",
       "  </thead>\n",
       "  <tbody>\n",
       "    <tr>\n",
       "      <th>0</th>\n",
       "      <td>Very Small</td>\n",
       "      <td>64</td>\n",
       "      <td>2</td>\n",
       "      <td>1</td>\n",
       "      <td>1</td>\n",
       "      <td>1800</td>\n",
       "      <td>4.5</td>\n",
       "      <td>38645</td>\n",
       "      <td>32999</td>\n",
       "      <td>0.17</td>\n",
       "      <td>127.52</td>\n",
       "    </tr>\n",
       "    <tr>\n",
       "      <th>1</th>\n",
       "      <td>Small</td>\n",
       "      <td>64</td>\n",
       "      <td>4</td>\n",
       "      <td>2</td>\n",
       "      <td>1</td>\n",
       "      <td>2815</td>\n",
       "      <td>4.5</td>\n",
       "      <td>244</td>\n",
       "      <td>57149</td>\n",
       "      <td>0.04</td>\n",
       "      <td>1.39</td>\n",
       "    </tr>\n",
       "    <tr>\n",
       "      <th>2</th>\n",
       "      <td>Very Small</td>\n",
       "      <td>64</td>\n",
       "      <td>2</td>\n",
       "      <td>1</td>\n",
       "      <td>1</td>\n",
       "      <td>1800</td>\n",
       "      <td>4.5</td>\n",
       "      <td>38645</td>\n",
       "      <td>32999</td>\n",
       "      <td>0.17</td>\n",
       "      <td>127.52</td>\n",
       "    </tr>\n",
       "    <tr>\n",
       "      <th>3</th>\n",
       "      <td>Medium</td>\n",
       "      <td>64</td>\n",
       "      <td>3</td>\n",
       "      <td>1</td>\n",
       "      <td>1</td>\n",
       "      <td>2942</td>\n",
       "      <td>4.6</td>\n",
       "      <td>5366</td>\n",
       "      <td>42999</td>\n",
       "      <td>0.10</td>\n",
       "      <td>23.07</td>\n",
       "    </tr>\n",
       "    <tr>\n",
       "      <th>4</th>\n",
       "      <td>Medium</td>\n",
       "      <td>128</td>\n",
       "      <td>4</td>\n",
       "      <td>2</td>\n",
       "      <td>1</td>\n",
       "      <td>2815</td>\n",
       "      <td>4.6</td>\n",
       "      <td>745</td>\n",
       "      <td>69149</td>\n",
       "      <td>0.02</td>\n",
       "      <td>5.15</td>\n",
       "    </tr>\n",
       "  </tbody>\n",
       "</table>\n",
       "</div>"
      ],
      "text/plain": [
       "  screen_size  ROM  RAM  num_rear_camera  num_front_camera  battery_capacity  \\\n",
       "0  Very Small   64    2                1                 1              1800   \n",
       "1       Small   64    4                2                 1              2815   \n",
       "2  Very Small   64    2                1                 1              1800   \n",
       "3      Medium   64    3                1                 1              2942   \n",
       "4      Medium  128    4                2                 1              2815   \n",
       "\n",
       "   ratings  num_of_ratings  sales_price  discount_percent   sales  \n",
       "0      4.5           38645        32999              0.17  127.52  \n",
       "1      4.5             244        57149              0.04    1.39  \n",
       "2      4.5           38645        32999              0.17  127.52  \n",
       "3      4.6            5366        42999              0.10   23.07  \n",
       "4      4.6             745        69149              0.02    5.15  "
      ]
     },
     "execution_count": 37,
     "metadata": {},
     "output_type": "execute_result"
    }
   ],
   "source": [
    "df.head()"
   ]
  },
  {
   "cell_type": "code",
   "execution_count": 38,
   "id": "193b5767",
   "metadata": {},
   "outputs": [
    {
     "data": {
      "text/plain": [
       "array(['Very Small', 'Small', 'Medium', 'Large', 'Very Large'],\n",
       "      dtype=object)"
      ]
     },
     "execution_count": 38,
     "metadata": {},
     "output_type": "execute_result"
    }
   ],
   "source": [
    "df['screen_size'].unique()"
   ]
  },
  {
   "cell_type": "code",
   "execution_count": 51,
   "id": "4f18801c",
   "metadata": {},
   "outputs": [],
   "source": [
    "df_3 = df.copy()"
   ]
  },
  {
   "cell_type": "code",
   "execution_count": 45,
   "id": "d4f6a1ef",
   "metadata": {},
   "outputs": [],
   "source": [
    "#df_3.loc[:,'screen_size'] =df_3['screen_size'].apply(lambda x: 0 if x == 'Very Small' else (1 if x == 'Small' else (2 if x == 'Medium' else (3 if x == 'Large' else 4))) )"
   ]
  },
  {
   "cell_type": "code",
   "execution_count": 52,
   "id": "f3c87b7f",
   "metadata": {},
   "outputs": [
    {
     "name": "stdout",
     "output_type": "stream",
     "text": [
      "<class 'pandas.core.frame.DataFrame'>\n",
      "RangeIndex: 430 entries, 0 to 429\n",
      "Data columns (total 11 columns):\n",
      " #   Column            Non-Null Count  Dtype  \n",
      "---  ------            --------------  -----  \n",
      " 0   screen_size       430 non-null    object \n",
      " 1   ROM               430 non-null    int64  \n",
      " 2   RAM               430 non-null    int64  \n",
      " 3   num_rear_camera   430 non-null    int64  \n",
      " 4   num_front_camera  430 non-null    int64  \n",
      " 5   battery_capacity  430 non-null    int64  \n",
      " 6   ratings           430 non-null    float64\n",
      " 7   num_of_ratings    430 non-null    int64  \n",
      " 8   sales_price       430 non-null    int64  \n",
      " 9   discount_percent  430 non-null    float64\n",
      " 10  sales             430 non-null    float64\n",
      "dtypes: float64(3), int64(7), object(1)\n",
      "memory usage: 37.1+ KB\n"
     ]
    }
   ],
   "source": [
    "df_3.info()"
   ]
  },
  {
   "cell_type": "code",
   "execution_count": 54,
   "id": "0351108d",
   "metadata": {},
   "outputs": [],
   "source": [
    "df_3 = pd.get_dummies(df_3)"
   ]
  },
  {
   "cell_type": "code",
   "execution_count": 107,
   "id": "dc4fcdb4",
   "metadata": {},
   "outputs": [
    {
     "data": {
      "text/html": [
       "<div>\n",
       "<style scoped>\n",
       "    .dataframe tbody tr th:only-of-type {\n",
       "        vertical-align: middle;\n",
       "    }\n",
       "\n",
       "    .dataframe tbody tr th {\n",
       "        vertical-align: top;\n",
       "    }\n",
       "\n",
       "    .dataframe thead th {\n",
       "        text-align: right;\n",
       "    }\n",
       "</style>\n",
       "<table border=\"1\" class=\"dataframe\">\n",
       "  <thead>\n",
       "    <tr style=\"text-align: right;\">\n",
       "      <th></th>\n",
       "      <th>ROM</th>\n",
       "      <th>RAM</th>\n",
       "      <th>num_rear_camera</th>\n",
       "      <th>num_front_camera</th>\n",
       "      <th>battery_capacity</th>\n",
       "      <th>ratings</th>\n",
       "      <th>num_of_ratings</th>\n",
       "      <th>sales_price</th>\n",
       "      <th>discount_percent</th>\n",
       "      <th>sales</th>\n",
       "      <th>screen_size_Large</th>\n",
       "      <th>screen_size_Medium</th>\n",
       "      <th>screen_size_Small</th>\n",
       "      <th>screen_size_Very Large</th>\n",
       "      <th>screen_size_Very Small</th>\n",
       "    </tr>\n",
       "  </thead>\n",
       "  <tbody>\n",
       "    <tr>\n",
       "      <th>0</th>\n",
       "      <td>64</td>\n",
       "      <td>2</td>\n",
       "      <td>1</td>\n",
       "      <td>1</td>\n",
       "      <td>1800</td>\n",
       "      <td>4.5</td>\n",
       "      <td>38645</td>\n",
       "      <td>32999</td>\n",
       "      <td>0.17</td>\n",
       "      <td>127.52</td>\n",
       "      <td>0</td>\n",
       "      <td>0</td>\n",
       "      <td>0</td>\n",
       "      <td>0</td>\n",
       "      <td>1</td>\n",
       "    </tr>\n",
       "    <tr>\n",
       "      <th>1</th>\n",
       "      <td>64</td>\n",
       "      <td>4</td>\n",
       "      <td>2</td>\n",
       "      <td>1</td>\n",
       "      <td>2815</td>\n",
       "      <td>4.5</td>\n",
       "      <td>244</td>\n",
       "      <td>57149</td>\n",
       "      <td>0.04</td>\n",
       "      <td>1.39</td>\n",
       "      <td>0</td>\n",
       "      <td>0</td>\n",
       "      <td>1</td>\n",
       "      <td>0</td>\n",
       "      <td>0</td>\n",
       "    </tr>\n",
       "    <tr>\n",
       "      <th>2</th>\n",
       "      <td>64</td>\n",
       "      <td>2</td>\n",
       "      <td>1</td>\n",
       "      <td>1</td>\n",
       "      <td>1800</td>\n",
       "      <td>4.5</td>\n",
       "      <td>38645</td>\n",
       "      <td>32999</td>\n",
       "      <td>0.17</td>\n",
       "      <td>127.52</td>\n",
       "      <td>0</td>\n",
       "      <td>0</td>\n",
       "      <td>0</td>\n",
       "      <td>0</td>\n",
       "      <td>1</td>\n",
       "    </tr>\n",
       "    <tr>\n",
       "      <th>3</th>\n",
       "      <td>64</td>\n",
       "      <td>3</td>\n",
       "      <td>1</td>\n",
       "      <td>1</td>\n",
       "      <td>2942</td>\n",
       "      <td>4.6</td>\n",
       "      <td>5366</td>\n",
       "      <td>42999</td>\n",
       "      <td>0.10</td>\n",
       "      <td>23.07</td>\n",
       "      <td>0</td>\n",
       "      <td>1</td>\n",
       "      <td>0</td>\n",
       "      <td>0</td>\n",
       "      <td>0</td>\n",
       "    </tr>\n",
       "    <tr>\n",
       "      <th>4</th>\n",
       "      <td>128</td>\n",
       "      <td>4</td>\n",
       "      <td>2</td>\n",
       "      <td>1</td>\n",
       "      <td>2815</td>\n",
       "      <td>4.6</td>\n",
       "      <td>745</td>\n",
       "      <td>69149</td>\n",
       "      <td>0.02</td>\n",
       "      <td>5.15</td>\n",
       "      <td>0</td>\n",
       "      <td>1</td>\n",
       "      <td>0</td>\n",
       "      <td>0</td>\n",
       "      <td>0</td>\n",
       "    </tr>\n",
       "  </tbody>\n",
       "</table>\n",
       "</div>"
      ],
      "text/plain": [
       "   ROM  RAM  num_rear_camera  num_front_camera  battery_capacity  ratings  \\\n",
       "0   64    2                1                 1              1800      4.5   \n",
       "1   64    4                2                 1              2815      4.5   \n",
       "2   64    2                1                 1              1800      4.5   \n",
       "3   64    3                1                 1              2942      4.6   \n",
       "4  128    4                2                 1              2815      4.6   \n",
       "\n",
       "   num_of_ratings  sales_price  discount_percent   sales  screen_size_Large  \\\n",
       "0           38645        32999              0.17  127.52                  0   \n",
       "1             244        57149              0.04    1.39                  0   \n",
       "2           38645        32999              0.17  127.52                  0   \n",
       "3            5366        42999              0.10   23.07                  0   \n",
       "4             745        69149              0.02    5.15                  0   \n",
       "\n",
       "   screen_size_Medium  screen_size_Small  screen_size_Very Large  \\\n",
       "0                   0                  0                       0   \n",
       "1                   0                  1                       0   \n",
       "2                   0                  0                       0   \n",
       "3                   1                  0                       0   \n",
       "4                   1                  0                       0   \n",
       "\n",
       "   screen_size_Very Small  \n",
       "0                       1  \n",
       "1                       0  \n",
       "2                       1  \n",
       "3                       0  \n",
       "4                       0  "
      ]
     },
     "execution_count": 107,
     "metadata": {},
     "output_type": "execute_result"
    }
   ],
   "source": [
    "df_3_dummies = pd.get_dummies(df, columns = ['screen_size'], dtype = 'int')\n",
    "df_3_dummies.head()"
   ]
  },
  {
   "cell_type": "code",
   "execution_count": 55,
   "id": "2787f204",
   "metadata": {},
   "outputs": [
    {
     "name": "stdout",
     "output_type": "stream",
     "text": [
      "<class 'pandas.core.frame.DataFrame'>\n",
      "RangeIndex: 430 entries, 0 to 429\n",
      "Data columns (total 15 columns):\n",
      " #   Column                  Non-Null Count  Dtype  \n",
      "---  ------                  --------------  -----  \n",
      " 0   ROM                     430 non-null    int64  \n",
      " 1   RAM                     430 non-null    int64  \n",
      " 2   num_rear_camera         430 non-null    int64  \n",
      " 3   num_front_camera        430 non-null    int64  \n",
      " 4   battery_capacity        430 non-null    int64  \n",
      " 5   ratings                 430 non-null    float64\n",
      " 6   num_of_ratings          430 non-null    int64  \n",
      " 7   sales_price             430 non-null    int64  \n",
      " 8   discount_percent        430 non-null    float64\n",
      " 9   sales                   430 non-null    float64\n",
      " 10  screen_size_Large       430 non-null    uint8  \n",
      " 11  screen_size_Medium      430 non-null    uint8  \n",
      " 12  screen_size_Small       430 non-null    uint8  \n",
      " 13  screen_size_Very Large  430 non-null    uint8  \n",
      " 14  screen_size_Very Small  430 non-null    uint8  \n",
      "dtypes: float64(3), int64(7), uint8(5)\n",
      "memory usage: 35.8 KB\n"
     ]
    }
   ],
   "source": [
    "df_3.info()"
   ]
  },
  {
   "cell_type": "code",
   "execution_count": 108,
   "id": "76940200",
   "metadata": {},
   "outputs": [
    {
     "data": {
      "text/plain": [
       "(430, 15)"
      ]
     },
     "execution_count": 108,
     "metadata": {},
     "output_type": "execute_result"
    }
   ],
   "source": [
    "df_3.shape"
   ]
  },
  {
   "cell_type": "code",
   "execution_count": 56,
   "id": "ce813423",
   "metadata": {},
   "outputs": [],
   "source": [
    "#data = df_3.drop('sales',axis = 1)\n",
    "#value = df_3['sales']"
   ]
  },
  {
   "cell_type": "code",
   "execution_count": 57,
   "id": "9a8800eb",
   "metadata": {},
   "outputs": [],
   "source": [
    "#x_train, x_test, y_train, y_test = train_test_split(data, value, test_size = 0.2, random_state = 123)"
   ]
  },
  {
   "cell_type": "code",
   "execution_count": 138,
   "id": "fc545e39",
   "metadata": {},
   "outputs": [
    {
     "data": {
      "text/plain": [
       "(344, 86)"
      ]
     },
     "execution_count": 138,
     "metadata": {},
     "output_type": "execute_result"
    }
   ],
   "source": [
    "df_3 = df_3.set_index('sales').reset_index()\n",
    "df_train, df_test = train_test_split(df_3, train_size = 0.8, random_state=123)\n",
    "len(df_train),len(df_test)"
   ]
  },
  {
   "cell_type": "code",
   "execution_count": 65,
   "id": "01e02fda",
   "metadata": {},
   "outputs": [
    {
     "data": {
      "text/plain": [
       "MinMaxScaler()"
      ]
     },
     "execution_count": 65,
     "metadata": {},
     "output_type": "execute_result"
    }
   ],
   "source": [
    "#scaler = MinMaxScaler()\n",
    "#scaler.fit(x_train)"
   ]
  },
  {
   "cell_type": "code",
   "execution_count": 113,
   "id": "a1935292",
   "metadata": {},
   "outputs": [],
   "source": [
    "model_nor = MinMaxScaler().fit(df_train)\n",
    "arr_train_nor = model_nor.transform(df_train)\n",
    "arr_test_nor = model_nor.transform(df_test)"
   ]
  },
  {
   "cell_type": "code",
   "execution_count": 66,
   "id": "a56751f5",
   "metadata": {},
   "outputs": [],
   "source": [
    "#x_train_scd = scaler.transform(x_train)\n",
    "#x_test_scd = scaler.transform(x_test)"
   ]
  },
  {
   "cell_type": "code",
   "execution_count": 63,
   "id": "27b63fb1",
   "metadata": {},
   "outputs": [
    {
     "data": {
      "text/plain": [
       "410      1.95\n",
       "21      25.76\n",
       "223     13.81\n",
       "79      19.53\n",
       "264     18.77\n",
       "        ...  \n",
       "230     30.81\n",
       "98     231.79\n",
       "322      0.02\n",
       "382    175.04\n",
       "365      0.26\n",
       "Name: sales, Length: 344, dtype: float64"
      ]
     },
     "execution_count": 63,
     "metadata": {},
     "output_type": "execute_result"
    }
   ],
   "source": [
    "#y_train"
   ]
  },
  {
   "cell_type": "code",
   "execution_count": 68,
   "id": "63ce2302",
   "metadata": {},
   "outputs": [],
   "source": [
    "from sklearn.metrics import mean_squared_error, r2_score"
   ]
  },
  {
   "cell_type": "code",
   "execution_count": 130,
   "id": "7e280096",
   "metadata": {},
   "outputs": [
    {
     "name": "stdout",
     "output_type": "stream",
     "text": [
      "rmse :  0.08186677375964535\n",
      "rmse :  0.09879109824384892\n",
      "rmse :  0.107669855645971\n",
      "rmse :  0.11232111394853059\n",
      "rmse :  0.1136902366621185\n"
     ]
    }
   ],
   "source": [
    "ls_k = [3,5,7,9,11]\n",
    "ls_rmse = []\n",
    "for k in ls_k: \n",
    "    knn_regressor = KNeighborsRegressor(n_neighbors=k)\n",
    "    #knn_regressor.fit(x_train_scd, y_train)\n",
    "    knn_regressor.fit(X = arr_train_nor[:,1:],y = arr_train_nor[:,0])\n",
    "    pred = knn_regressor.predict(arr_test_nor[:,1:])\n",
    "    val_rmse = mean_squared_error(y_true = arr_test_nor[:,0], y_pred = pred)**0.5\n",
    "    #predictions = knn_regressor.predict(x_test_scd)\n",
    "    #print('score : ', knn_regressor.score(x_test_scd, y_test))\n",
    "    #print('rmse : ', np.sqrt(mean_squared_error(y_test, predictions)))\n",
    "    ls_rmse.append(val_rmse) #ls_rmse = ls_rmse + [val_rmse]\n",
    "    print('rmse : ', val_rmse)"
   ]
  },
  {
   "cell_type": "code",
   "execution_count": 132,
   "id": "ee2ed798",
   "metadata": {},
   "outputs": [
    {
     "data": {
      "text/plain": [
       "3"
      ]
     },
     "execution_count": 132,
     "metadata": {},
     "output_type": "execute_result"
    }
   ],
   "source": [
    "best_k = pd.Series(ls_rmse, index = ls_k).idxmin()\n",
    "best_k"
   ]
  },
  {
   "cell_type": "code",
   "execution_count": 70,
   "id": "1b0f20b0",
   "metadata": {},
   "outputs": [],
   "source": [
    "#Q4"
   ]
  },
  {
   "cell_type": "code",
   "execution_count": 80,
   "id": "4c792d11",
   "metadata": {},
   "outputs": [],
   "source": [
    "#single_test_data = [[256,6,4,1,4000,4.3,25000,85000,0.05,1,0,0,0,0]]\n",
    "#t = pd.DataFrame(single_test_data, columns = ['ROM','RAM','num_rear_camera','num_front_camera','battery_capacity', 'ratings','num_of_ratings','sales_price','discount_percent',\n",
    "#                           'screen_size_Large','screen_size_Medium','screen_size_Small','screen_size_Very Large','screen_size_Very Small'])"
   ]
  },
  {
   "cell_type": "code",
   "execution_count": 126,
   "id": "760e8f3c",
   "metadata": {},
   "outputs": [
    {
     "data": {
      "text/html": [
       "<div>\n",
       "<style scoped>\n",
       "    .dataframe tbody tr th:only-of-type {\n",
       "        vertical-align: middle;\n",
       "    }\n",
       "\n",
       "    .dataframe tbody tr th {\n",
       "        vertical-align: top;\n",
       "    }\n",
       "\n",
       "    .dataframe thead th {\n",
       "        text-align: right;\n",
       "    }\n",
       "</style>\n",
       "<table border=\"1\" class=\"dataframe\">\n",
       "  <thead>\n",
       "    <tr style=\"text-align: right;\">\n",
       "      <th></th>\n",
       "      <th>sales</th>\n",
       "      <th>ROM</th>\n",
       "      <th>RAM</th>\n",
       "      <th>num_rear_camera</th>\n",
       "      <th>num_front_camera</th>\n",
       "      <th>battery_capacity</th>\n",
       "      <th>ratings</th>\n",
       "      <th>num_of_ratings</th>\n",
       "      <th>sales_price</th>\n",
       "      <th>discount_percent</th>\n",
       "      <th>screen_size_Large</th>\n",
       "      <th>screen_size_Medium</th>\n",
       "      <th>screen_size_Small</th>\n",
       "      <th>screen_size_Very Large</th>\n",
       "      <th>screen_size_Very Small</th>\n",
       "    </tr>\n",
       "  </thead>\n",
       "  <tbody>\n",
       "    <tr>\n",
       "      <th>0</th>\n",
       "      <td>5.9</td>\n",
       "      <td>256</td>\n",
       "      <td>4</td>\n",
       "      <td>2</td>\n",
       "      <td>1</td>\n",
       "      <td>2815</td>\n",
       "      <td>4.6</td>\n",
       "      <td>745</td>\n",
       "      <td>79149</td>\n",
       "      <td>0.02</td>\n",
       "      <td>0</td>\n",
       "      <td>1</td>\n",
       "      <td>0</td>\n",
       "      <td>0</td>\n",
       "      <td>0</td>\n",
       "    </tr>\n",
       "  </tbody>\n",
       "</table>\n",
       "</div>"
      ],
      "text/plain": [
       "   sales  ROM  RAM  num_rear_camera  num_front_camera  battery_capacity  \\\n",
       "0    5.9  256    4                2                 1              2815   \n",
       "\n",
       "   ratings  num_of_ratings  sales_price  discount_percent  screen_size_Large  \\\n",
       "0      4.6             745        79149              0.02                  0   \n",
       "\n",
       "   screen_size_Medium  screen_size_Small  screen_size_Very Large  \\\n",
       "0                   1                  0                       0   \n",
       "\n",
       "   screen_size_Very Small  \n",
       "0                       0  "
      ]
     },
     "execution_count": 126,
     "metadata": {},
     "output_type": "execute_result"
    }
   ],
   "source": [
    "df_4 = df_test.head(1).reset_index(drop=True)\n",
    "df_4"
   ]
  },
  {
   "cell_type": "code",
   "execution_count": 133,
   "id": "8dc31de4",
   "metadata": {},
   "outputs": [
    {
     "data": {
      "text/plain": [
       "array([[0.0119438 , 0.49206349, 0.27272727, 0.33333333, 0.        ,\n",
       "        0.19519231, 1.        , 0.00157358, 0.47953795, 0.02325581,\n",
       "        0.        , 1.        , 0.        , 0.        , 0.        ]])"
      ]
     },
     "execution_count": 133,
     "metadata": {},
     "output_type": "execute_result"
    }
   ],
   "source": [
    "df_4_nor = model_nor.transform(df_4)\n",
    "df_4_nor"
   ]
  },
  {
   "cell_type": "code",
   "execution_count": 137,
   "id": "ee6e8669",
   "metadata": {},
   "outputs": [
    {
     "data": {
      "text/plain": [
       "KNeighborsRegressor(n_neighbors=3)"
      ]
     },
     "execution_count": 137,
     "metadata": {},
     "output_type": "execute_result"
    }
   ],
   "source": [
    "knn_optimal = KNeighborsRegressor(n_neighbors=best_k)\n",
    "knn_optimal.fit(X = arr_train_nor[:,1:],y = arr_train_nor[:,0])\n"
   ]
  },
  {
   "cell_type": "code",
   "execution_count": 136,
   "id": "03c69d97",
   "metadata": {},
   "outputs": [
    {
     "name": "stderr",
     "output_type": "stream",
     "text": [
      "/Users/cherylkim/opt/anaconda3/lib/python3.9/site-packages/sklearn/base.py:443: UserWarning: X has feature names, but KNeighborsRegressor was fitted without feature names\n",
      "  warnings.warn(\n"
     ]
    },
    {
     "data": {
      "text/plain": [
       "array([0.09333333])"
      ]
     },
     "execution_count": 136,
     "metadata": {},
     "output_type": "execute_result"
    }
   ],
   "source": [
    "knn_optimal.predict(df_4)"
   ]
  },
  {
   "cell_type": "code",
   "execution_count": 139,
   "id": "ddc919a5",
   "metadata": {},
   "outputs": [
    {
     "data": {
      "text/plain": [
       "array([0.0119438])"
      ]
     },
     "execution_count": 139,
     "metadata": {},
     "output_type": "execute_result"
    }
   ],
   "source": [
    "pred_best = knn_optimal.predict(df_4_nor[:,1:])\n",
    "pred_best"
   ]
  },
  {
   "cell_type": "code",
   "execution_count": 140,
   "id": "7e8a5180",
   "metadata": {},
   "outputs": [],
   "source": [
    "#역변환!\n",
    "df_4_nor[0,0] = pred_best"
   ]
  },
  {
   "cell_type": "code",
   "execution_count": 141,
   "id": "4f69e295",
   "metadata": {},
   "outputs": [
    {
     "data": {
      "text/html": [
       "<div>\n",
       "<style scoped>\n",
       "    .dataframe tbody tr th:only-of-type {\n",
       "        vertical-align: middle;\n",
       "    }\n",
       "\n",
       "    .dataframe tbody tr th {\n",
       "        vertical-align: top;\n",
       "    }\n",
       "\n",
       "    .dataframe thead th {\n",
       "        text-align: right;\n",
       "    }\n",
       "</style>\n",
       "<table border=\"1\" class=\"dataframe\">\n",
       "  <thead>\n",
       "    <tr style=\"text-align: right;\">\n",
       "      <th></th>\n",
       "      <th>sales</th>\n",
       "      <th>ROM</th>\n",
       "      <th>RAM</th>\n",
       "      <th>num_rear_camera</th>\n",
       "      <th>num_front_camera</th>\n",
       "      <th>battery_capacity</th>\n",
       "      <th>ratings</th>\n",
       "      <th>num_of_ratings</th>\n",
       "      <th>sales_price</th>\n",
       "      <th>discount_percent</th>\n",
       "      <th>screen_size_Large</th>\n",
       "      <th>screen_size_Medium</th>\n",
       "      <th>screen_size_Small</th>\n",
       "      <th>screen_size_Very Large</th>\n",
       "      <th>screen_size_Very Small</th>\n",
       "    </tr>\n",
       "  </thead>\n",
       "  <tbody>\n",
       "    <tr>\n",
       "      <th>0</th>\n",
       "      <td>5.9</td>\n",
       "      <td>256.0</td>\n",
       "      <td>4.0</td>\n",
       "      <td>2.0</td>\n",
       "      <td>1.0</td>\n",
       "      <td>2815.0</td>\n",
       "      <td>4.6</td>\n",
       "      <td>745.0</td>\n",
       "      <td>79149.0</td>\n",
       "      <td>0.02</td>\n",
       "      <td>0.0</td>\n",
       "      <td>1.0</td>\n",
       "      <td>0.0</td>\n",
       "      <td>0.0</td>\n",
       "      <td>0.0</td>\n",
       "    </tr>\n",
       "  </tbody>\n",
       "</table>\n",
       "</div>"
      ],
      "text/plain": [
       "   sales    ROM  RAM  num_rear_camera  num_front_camera  battery_capacity  \\\n",
       "0    5.9  256.0  4.0              2.0               1.0            2815.0   \n",
       "\n",
       "   ratings  num_of_ratings  sales_price  discount_percent  screen_size_Large  \\\n",
       "0      4.6           745.0      79149.0              0.02                0.0   \n",
       "\n",
       "   screen_size_Medium  screen_size_Small  screen_size_Very Large  \\\n",
       "0                 1.0                0.0                     0.0   \n",
       "\n",
       "   screen_size_Very Small  \n",
       "0                     0.0  "
      ]
     },
     "execution_count": 141,
     "metadata": {},
     "output_type": "execute_result"
    }
   ],
   "source": [
    "arr_t1_inv = model_nor.inverse_transform(df_4_nor)\n",
    "df_t1_inv = pd.DataFrame(arr_t1_inv, columns = df_4.columns)\n",
    "df_t1_inv"
   ]
  },
  {
   "cell_type": "code",
   "execution_count": null,
   "id": "c16245ce",
   "metadata": {},
   "outputs": [],
   "source": []
  }
 ],
 "metadata": {
  "kernelspec": {
   "display_name": "Python 3 (ipykernel)",
   "language": "python",
   "name": "python3"
  },
  "language_info": {
   "codemirror_mode": {
    "name": "ipython",
    "version": 3
   },
   "file_extension": ".py",
   "mimetype": "text/x-python",
   "name": "python",
   "nbconvert_exporter": "python",
   "pygments_lexer": "ipython3",
   "version": "3.9.13"
  }
 },
 "nbformat": 4,
 "nbformat_minor": 5
}
