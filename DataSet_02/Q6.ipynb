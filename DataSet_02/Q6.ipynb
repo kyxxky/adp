{
 "cells": [
  {
   "cell_type": "code",
   "execution_count": 1,
   "id": "34b01a98",
   "metadata": {},
   "outputs": [],
   "source": [
    "import numpy as np\n",
    "import pandas as pd\n"
   ]
  },
  {
   "cell_type": "code",
   "execution_count": 2,
   "id": "9d61be3b",
   "metadata": {},
   "outputs": [],
   "source": [
    "df = pd.read_csv('edu_enrollees.csv')"
   ]
  },
  {
   "cell_type": "code",
   "execution_count": 3,
   "id": "673b6bd4",
   "metadata": {},
   "outputs": [
    {
     "data": {
      "text/html": [
       "<div>\n",
       "<style scoped>\n",
       "    .dataframe tbody tr th:only-of-type {\n",
       "        vertical-align: middle;\n",
       "    }\n",
       "\n",
       "    .dataframe tbody tr th {\n",
       "        vertical-align: top;\n",
       "    }\n",
       "\n",
       "    .dataframe thead th {\n",
       "        text-align: right;\n",
       "    }\n",
       "</style>\n",
       "<table border=\"1\" class=\"dataframe\">\n",
       "  <thead>\n",
       "    <tr style=\"text-align: right;\">\n",
       "      <th></th>\n",
       "      <th>enrollee_id</th>\n",
       "      <th>city</th>\n",
       "      <th>city_development_index</th>\n",
       "      <th>gender</th>\n",
       "      <th>relevant_experience</th>\n",
       "      <th>enrolled_university</th>\n",
       "      <th>education_level</th>\n",
       "      <th>major_discipline</th>\n",
       "      <th>experience</th>\n",
       "      <th>company_size</th>\n",
       "      <th>company_type</th>\n",
       "      <th>last_new_job</th>\n",
       "      <th>training_hours</th>\n",
       "      <th>target</th>\n",
       "      <th>Xgrp</th>\n",
       "    </tr>\n",
       "  </thead>\n",
       "  <tbody>\n",
       "    <tr>\n",
       "      <th>0</th>\n",
       "      <td>8949.0</td>\n",
       "      <td>city_103</td>\n",
       "      <td>0.920</td>\n",
       "      <td>Male</td>\n",
       "      <td>Has relevant experience</td>\n",
       "      <td>no_enrollment</td>\n",
       "      <td>Graduate</td>\n",
       "      <td>STEM</td>\n",
       "      <td>&gt;20</td>\n",
       "      <td>NaN</td>\n",
       "      <td>NaN</td>\n",
       "      <td>1</td>\n",
       "      <td>36.0</td>\n",
       "      <td>1.0</td>\n",
       "      <td>train</td>\n",
       "    </tr>\n",
       "    <tr>\n",
       "      <th>1</th>\n",
       "      <td>29725.0</td>\n",
       "      <td>city_40</td>\n",
       "      <td>0.776</td>\n",
       "      <td>Male</td>\n",
       "      <td>No relevant experience</td>\n",
       "      <td>no_enrollment</td>\n",
       "      <td>Graduate</td>\n",
       "      <td>STEM</td>\n",
       "      <td>15</td>\n",
       "      <td>50-99</td>\n",
       "      <td>Pvt Ltd</td>\n",
       "      <td>&gt;4</td>\n",
       "      <td>47.0</td>\n",
       "      <td>0.0</td>\n",
       "      <td>train</td>\n",
       "    </tr>\n",
       "    <tr>\n",
       "      <th>2</th>\n",
       "      <td>11561.0</td>\n",
       "      <td>city_21</td>\n",
       "      <td>0.624</td>\n",
       "      <td>NaN</td>\n",
       "      <td>No relevant experience</td>\n",
       "      <td>Full time course</td>\n",
       "      <td>Graduate</td>\n",
       "      <td>STEM</td>\n",
       "      <td>5</td>\n",
       "      <td>NaN</td>\n",
       "      <td>NaN</td>\n",
       "      <td>never</td>\n",
       "      <td>83.0</td>\n",
       "      <td>0.0</td>\n",
       "      <td>train</td>\n",
       "    </tr>\n",
       "    <tr>\n",
       "      <th>3</th>\n",
       "      <td>33241.0</td>\n",
       "      <td>city_115</td>\n",
       "      <td>0.789</td>\n",
       "      <td>NaN</td>\n",
       "      <td>No relevant experience</td>\n",
       "      <td>NaN</td>\n",
       "      <td>Graduate</td>\n",
       "      <td>Business Degree</td>\n",
       "      <td>&lt;1</td>\n",
       "      <td>NaN</td>\n",
       "      <td>Pvt Ltd</td>\n",
       "      <td>never</td>\n",
       "      <td>52.0</td>\n",
       "      <td>1.0</td>\n",
       "      <td>train</td>\n",
       "    </tr>\n",
       "    <tr>\n",
       "      <th>4</th>\n",
       "      <td>666.0</td>\n",
       "      <td>city_162</td>\n",
       "      <td>0.767</td>\n",
       "      <td>Male</td>\n",
       "      <td>Has relevant experience</td>\n",
       "      <td>no_enrollment</td>\n",
       "      <td>Masters</td>\n",
       "      <td>STEM</td>\n",
       "      <td>&gt;20</td>\n",
       "      <td>50-99</td>\n",
       "      <td>Funded Startup</td>\n",
       "      <td>4</td>\n",
       "      <td>8.0</td>\n",
       "      <td>0.0</td>\n",
       "      <td>train</td>\n",
       "    </tr>\n",
       "  </tbody>\n",
       "</table>\n",
       "</div>"
      ],
      "text/plain": [
       "   enrollee_id      city  city_development_index gender  \\\n",
       "0       8949.0  city_103                   0.920   Male   \n",
       "1      29725.0   city_40                   0.776   Male   \n",
       "2      11561.0   city_21                   0.624    NaN   \n",
       "3      33241.0  city_115                   0.789    NaN   \n",
       "4        666.0  city_162                   0.767   Male   \n",
       "\n",
       "       relevant_experience enrolled_university education_level  \\\n",
       "0  Has relevant experience       no_enrollment        Graduate   \n",
       "1   No relevant experience       no_enrollment        Graduate   \n",
       "2   No relevant experience    Full time course        Graduate   \n",
       "3   No relevant experience                 NaN        Graduate   \n",
       "4  Has relevant experience       no_enrollment         Masters   \n",
       "\n",
       "  major_discipline experience company_size    company_type last_new_job  \\\n",
       "0             STEM        >20          NaN             NaN            1   \n",
       "1             STEM         15        50-99         Pvt Ltd           >4   \n",
       "2             STEM          5          NaN             NaN        never   \n",
       "3  Business Degree         <1          NaN         Pvt Ltd        never   \n",
       "4             STEM        >20        50-99  Funded Startup            4   \n",
       "\n",
       "   training_hours  target   Xgrp  \n",
       "0            36.0     1.0  train  \n",
       "1            47.0     0.0  train  \n",
       "2            83.0     0.0  train  \n",
       "3            52.0     1.0  train  \n",
       "4             8.0     0.0  train  "
      ]
     },
     "execution_count": 3,
     "metadata": {},
     "output_type": "execute_result"
    }
   ],
   "source": [
    "df.head()"
   ]
  },
  {
   "cell_type": "code",
   "execution_count": 4,
   "id": "224e11b9",
   "metadata": {},
   "outputs": [],
   "source": [
    "#step1\n",
    "df = df.drop(['city','company_size', 'company_type'],axis = 1)"
   ]
  },
  {
   "cell_type": "code",
   "execution_count": 6,
   "id": "2d1dad99",
   "metadata": {},
   "outputs": [
    {
     "data": {
      "text/plain": [
       "Index(['enrollee_id', 'city_development_index', 'gender',\n",
       "       'relevant_experience', 'enrolled_university', 'education_level',\n",
       "       'major_discipline', 'experience', 'last_new_job', 'training_hours',\n",
       "       'target', 'Xgrp'],\n",
       "      dtype='object')"
      ]
     },
     "execution_count": 6,
     "metadata": {},
     "output_type": "execute_result"
    }
   ],
   "source": [
    "df.columns"
   ]
  },
  {
   "cell_type": "code",
   "execution_count": 17,
   "id": "5823cbe3",
   "metadata": {},
   "outputs": [],
   "source": [
    "#step2\n",
    "df_nonna = df.dropna(axis = 0)\n",
    "\n"
   ]
  },
  {
   "cell_type": "code",
   "execution_count": 29,
   "id": "779508da",
   "metadata": {},
   "outputs": [],
   "source": [
    "#step3\n",
    "df_int = df_nonna.drop(df_nonna[df_nonna['experience'] == '>20'].index).drop(df_nonna[df_nonna['experience']=='<1'].index)\n",
    "df_int['experience'] = df_int['experience'].astype(int)"
   ]
  },
  {
   "cell_type": "code",
   "execution_count": 31,
   "id": "16cb12b6",
   "metadata": {},
   "outputs": [],
   "source": [
    "#step4\n",
    "df_int2 = df_int.drop(df_int[df_int['last_new_job'] == '>4'].index).drop(df_int[df_int['last_new_job'] == 'never'].index)\n",
    "df_int2['last_new_job'] = df_int2['last_new_job'].astype(int)"
   ]
  },
  {
   "cell_type": "code",
   "execution_count": 33,
   "id": "d9b9697d",
   "metadata": {},
   "outputs": [
    {
     "data": {
      "text/plain": [
       "7522"
      ]
     },
     "execution_count": 33,
     "metadata": {},
     "output_type": "execute_result"
    }
   ],
   "source": [
    "len(df_int2)"
   ]
  },
  {
   "cell_type": "code",
   "execution_count": 34,
   "id": "0b45ff60",
   "metadata": {},
   "outputs": [],
   "source": [
    "from sklearn.linear_model import LogisticRegression\n",
    "from sklearn.neighbors import KNeighborsClassifier"
   ]
  },
  {
   "cell_type": "code",
   "execution_count": 35,
   "id": "5e2afa3c",
   "metadata": {},
   "outputs": [],
   "source": [
    "#q1"
   ]
  },
  {
   "cell_type": "code",
   "execution_count": 36,
   "id": "d896d46a",
   "metadata": {},
   "outputs": [],
   "source": [
    "df_base = df_int2.copy()"
   ]
  },
  {
   "cell_type": "code",
   "execution_count": 46,
   "id": "8d0dc9df",
   "metadata": {},
   "outputs": [],
   "source": [
    "mod_1=len( df_base.loc[df_base['relevant_experience'] == 'No relevant experience'])\n",
    "mod_2 = len(df_base.loc[df_base['relevant_experience'] == 'Has relevant experience'])"
   ]
  },
  {
   "cell_type": "code",
   "execution_count": 47,
   "id": "19a8b95d",
   "metadata": {},
   "outputs": [],
   "source": [
    "a = len(df_base.loc[(df_base['relevant_experience'] == 'No relevant experience') & (df_base['target'] == 1),])/mod_1\n",
    "b = len(df_base.loc[(df_base['relevant_experience'] == 'Has relevant experience') &( df_base['target'] == 1), ] )/mod_2"
   ]
  },
  {
   "cell_type": "code",
   "execution_count": 49,
   "id": "0a9372b0",
   "metadata": {},
   "outputs": [
    {
     "data": {
      "text/plain": [
       "1.77"
      ]
     },
     "execution_count": 49,
     "metadata": {},
     "output_type": "execute_result"
    }
   ],
   "source": [
    "round(a/b,2)"
   ]
  },
  {
   "cell_type": "code",
   "execution_count": 50,
   "id": "3e8be0c4",
   "metadata": {},
   "outputs": [],
   "source": [
    "#q2"
   ]
  },
  {
   "cell_type": "code",
   "execution_count": 66,
   "id": "ad266b42",
   "metadata": {},
   "outputs": [],
   "source": [
    "#step1\n",
    "#pd.get_dummies(df_base.mask(df_base['gender']=='Other'), columns = ['gender'])\n",
    "df_1 = pd.get_dummies(df_base, columns = ['gender']).iloc[:,:-1]\n",
    "df_2 = pd.get_dummies(df_1, columns =['relevant_experience']).iloc[:,:-1]\n",
    "df_3 = pd.get_dummies(df_2, columns = ['enrolled_university']).iloc[:,:-1]\n",
    "df_4 = pd.get_dummies(df_3, columns = ['education_level']).iloc[:,:-1]\n",
    "df_5 = pd.get_dummies(df_4, columns = ['major_discipline']).iloc[:,:-1]"
   ]
  },
  {
   "cell_type": "code",
   "execution_count": 67,
   "id": "9fdbc756",
   "metadata": {},
   "outputs": [
    {
     "data": {
      "text/html": [
       "<div>\n",
       "<style scoped>\n",
       "    .dataframe tbody tr th:only-of-type {\n",
       "        vertical-align: middle;\n",
       "    }\n",
       "\n",
       "    .dataframe tbody tr th {\n",
       "        vertical-align: top;\n",
       "    }\n",
       "\n",
       "    .dataframe thead th {\n",
       "        text-align: right;\n",
       "    }\n",
       "</style>\n",
       "<table border=\"1\" class=\"dataframe\">\n",
       "  <thead>\n",
       "    <tr style=\"text-align: right;\">\n",
       "      <th></th>\n",
       "      <th>enrollee_id</th>\n",
       "      <th>city_development_index</th>\n",
       "      <th>experience</th>\n",
       "      <th>last_new_job</th>\n",
       "      <th>training_hours</th>\n",
       "      <th>target</th>\n",
       "      <th>Xgrp</th>\n",
       "      <th>gender_Female</th>\n",
       "      <th>gender_Male</th>\n",
       "      <th>relevant_experience_Has relevant experience</th>\n",
       "      <th>enrolled_university_Full time course</th>\n",
       "      <th>enrolled_university_Part time course</th>\n",
       "      <th>education_level_Graduate</th>\n",
       "      <th>education_level_Masters</th>\n",
       "      <th>major_discipline_Arts</th>\n",
       "      <th>major_discipline_Business Degree</th>\n",
       "      <th>major_discipline_Humanities</th>\n",
       "      <th>major_discipline_No Major</th>\n",
       "      <th>major_discipline_Other</th>\n",
       "    </tr>\n",
       "  </thead>\n",
       "  <tbody>\n",
       "    <tr>\n",
       "      <th>8</th>\n",
       "      <td>27107.0</td>\n",
       "      <td>0.920</td>\n",
       "      <td>7</td>\n",
       "      <td>1</td>\n",
       "      <td>46.0</td>\n",
       "      <td>1.0</td>\n",
       "      <td>train</td>\n",
       "      <td>0</td>\n",
       "      <td>1</td>\n",
       "      <td>1</td>\n",
       "      <td>0</td>\n",
       "      <td>0</td>\n",
       "      <td>1</td>\n",
       "      <td>0</td>\n",
       "      <td>0</td>\n",
       "      <td>0</td>\n",
       "      <td>0</td>\n",
       "      <td>0</td>\n",
       "      <td>0</td>\n",
       "    </tr>\n",
       "    <tr>\n",
       "      <th>11</th>\n",
       "      <td>23853.0</td>\n",
       "      <td>0.920</td>\n",
       "      <td>5</td>\n",
       "      <td>1</td>\n",
       "      <td>108.0</td>\n",
       "      <td>0.0</td>\n",
       "      <td>train</td>\n",
       "      <td>0</td>\n",
       "      <td>1</td>\n",
       "      <td>1</td>\n",
       "      <td>0</td>\n",
       "      <td>0</td>\n",
       "      <td>1</td>\n",
       "      <td>0</td>\n",
       "      <td>0</td>\n",
       "      <td>0</td>\n",
       "      <td>0</td>\n",
       "      <td>0</td>\n",
       "      <td>0</td>\n",
       "    </tr>\n",
       "    <tr>\n",
       "      <th>19</th>\n",
       "      <td>11399.0</td>\n",
       "      <td>0.827</td>\n",
       "      <td>4</td>\n",
       "      <td>1</td>\n",
       "      <td>132.0</td>\n",
       "      <td>1.0</td>\n",
       "      <td>train</td>\n",
       "      <td>1</td>\n",
       "      <td>0</td>\n",
       "      <td>1</td>\n",
       "      <td>0</td>\n",
       "      <td>0</td>\n",
       "      <td>1</td>\n",
       "      <td>0</td>\n",
       "      <td>1</td>\n",
       "      <td>0</td>\n",
       "      <td>0</td>\n",
       "      <td>0</td>\n",
       "      <td>0</td>\n",
       "    </tr>\n",
       "    <tr>\n",
       "      <th>20</th>\n",
       "      <td>31972.0</td>\n",
       "      <td>0.843</td>\n",
       "      <td>11</td>\n",
       "      <td>1</td>\n",
       "      <td>68.0</td>\n",
       "      <td>0.0</td>\n",
       "      <td>train</td>\n",
       "      <td>0</td>\n",
       "      <td>1</td>\n",
       "      <td>1</td>\n",
       "      <td>0</td>\n",
       "      <td>0</td>\n",
       "      <td>0</td>\n",
       "      <td>1</td>\n",
       "      <td>0</td>\n",
       "      <td>0</td>\n",
       "      <td>0</td>\n",
       "      <td>0</td>\n",
       "      <td>0</td>\n",
       "    </tr>\n",
       "    <tr>\n",
       "      <th>21</th>\n",
       "      <td>19061.0</td>\n",
       "      <td>0.926</td>\n",
       "      <td>11</td>\n",
       "      <td>2</td>\n",
       "      <td>50.0</td>\n",
       "      <td>0.0</td>\n",
       "      <td>train</td>\n",
       "      <td>0</td>\n",
       "      <td>1</td>\n",
       "      <td>1</td>\n",
       "      <td>0</td>\n",
       "      <td>0</td>\n",
       "      <td>0</td>\n",
       "      <td>1</td>\n",
       "      <td>0</td>\n",
       "      <td>0</td>\n",
       "      <td>0</td>\n",
       "      <td>0</td>\n",
       "      <td>0</td>\n",
       "    </tr>\n",
       "  </tbody>\n",
       "</table>\n",
       "</div>"
      ],
      "text/plain": [
       "    enrollee_id  city_development_index  experience  last_new_job  \\\n",
       "8       27107.0                   0.920           7             1   \n",
       "11      23853.0                   0.920           5             1   \n",
       "19      11399.0                   0.827           4             1   \n",
       "20      31972.0                   0.843          11             1   \n",
       "21      19061.0                   0.926          11             2   \n",
       "\n",
       "    training_hours  target   Xgrp  gender_Female  gender_Male  \\\n",
       "8             46.0     1.0  train              0            1   \n",
       "11           108.0     0.0  train              0            1   \n",
       "19           132.0     1.0  train              1            0   \n",
       "20            68.0     0.0  train              0            1   \n",
       "21            50.0     0.0  train              0            1   \n",
       "\n",
       "    relevant_experience_Has relevant experience  \\\n",
       "8                                             1   \n",
       "11                                            1   \n",
       "19                                            1   \n",
       "20                                            1   \n",
       "21                                            1   \n",
       "\n",
       "    enrolled_university_Full time course  \\\n",
       "8                                      0   \n",
       "11                                     0   \n",
       "19                                     0   \n",
       "20                                     0   \n",
       "21                                     0   \n",
       "\n",
       "    enrolled_university_Part time course  education_level_Graduate  \\\n",
       "8                                      0                         1   \n",
       "11                                     0                         1   \n",
       "19                                     0                         1   \n",
       "20                                     0                         0   \n",
       "21                                     0                         0   \n",
       "\n",
       "    education_level_Masters  major_discipline_Arts  \\\n",
       "8                         0                      0   \n",
       "11                        0                      0   \n",
       "19                        0                      1   \n",
       "20                        1                      0   \n",
       "21                        1                      0   \n",
       "\n",
       "    major_discipline_Business Degree  major_discipline_Humanities  \\\n",
       "8                                  0                            0   \n",
       "11                                 0                            0   \n",
       "19                                 0                            0   \n",
       "20                                 0                            0   \n",
       "21                                 0                            0   \n",
       "\n",
       "    major_discipline_No Major  major_discipline_Other  \n",
       "8                           0                       0  \n",
       "11                          0                       0  \n",
       "19                          0                       0  \n",
       "20                          0                       0  \n",
       "21                          0                       0  "
      ]
     },
     "execution_count": 67,
     "metadata": {},
     "output_type": "execute_result"
    }
   ],
   "source": [
    "df_5.head()"
   ]
  },
  {
   "cell_type": "code",
   "execution_count": 68,
   "id": "83c5058b",
   "metadata": {},
   "outputs": [
    {
     "data": {
      "text/html": [
       "<div>\n",
       "<style scoped>\n",
       "    .dataframe tbody tr th:only-of-type {\n",
       "        vertical-align: middle;\n",
       "    }\n",
       "\n",
       "    .dataframe tbody tr th {\n",
       "        vertical-align: top;\n",
       "    }\n",
       "\n",
       "    .dataframe thead th {\n",
       "        text-align: right;\n",
       "    }\n",
       "</style>\n",
       "<table border=\"1\" class=\"dataframe\">\n",
       "  <thead>\n",
       "    <tr style=\"text-align: right;\">\n",
       "      <th></th>\n",
       "      <th>city_development_index</th>\n",
       "      <th>experience</th>\n",
       "      <th>last_new_job</th>\n",
       "      <th>training_hours</th>\n",
       "      <th>target</th>\n",
       "      <th>Xgrp</th>\n",
       "      <th>gender_Female</th>\n",
       "      <th>gender_Male</th>\n",
       "      <th>relevant_experience_Has relevant experience</th>\n",
       "      <th>enrolled_university_Full time course</th>\n",
       "      <th>enrolled_university_Part time course</th>\n",
       "      <th>education_level_Graduate</th>\n",
       "      <th>education_level_Masters</th>\n",
       "      <th>major_discipline_Arts</th>\n",
       "      <th>major_discipline_Business Degree</th>\n",
       "      <th>major_discipline_Humanities</th>\n",
       "      <th>major_discipline_No Major</th>\n",
       "      <th>major_discipline_Other</th>\n",
       "    </tr>\n",
       "  </thead>\n",
       "  <tbody>\n",
       "    <tr>\n",
       "      <th>8</th>\n",
       "      <td>0.920</td>\n",
       "      <td>7</td>\n",
       "      <td>1</td>\n",
       "      <td>46.0</td>\n",
       "      <td>1.0</td>\n",
       "      <td>train</td>\n",
       "      <td>0</td>\n",
       "      <td>1</td>\n",
       "      <td>1</td>\n",
       "      <td>0</td>\n",
       "      <td>0</td>\n",
       "      <td>1</td>\n",
       "      <td>0</td>\n",
       "      <td>0</td>\n",
       "      <td>0</td>\n",
       "      <td>0</td>\n",
       "      <td>0</td>\n",
       "      <td>0</td>\n",
       "    </tr>\n",
       "    <tr>\n",
       "      <th>11</th>\n",
       "      <td>0.920</td>\n",
       "      <td>5</td>\n",
       "      <td>1</td>\n",
       "      <td>108.0</td>\n",
       "      <td>0.0</td>\n",
       "      <td>train</td>\n",
       "      <td>0</td>\n",
       "      <td>1</td>\n",
       "      <td>1</td>\n",
       "      <td>0</td>\n",
       "      <td>0</td>\n",
       "      <td>1</td>\n",
       "      <td>0</td>\n",
       "      <td>0</td>\n",
       "      <td>0</td>\n",
       "      <td>0</td>\n",
       "      <td>0</td>\n",
       "      <td>0</td>\n",
       "    </tr>\n",
       "    <tr>\n",
       "      <th>19</th>\n",
       "      <td>0.827</td>\n",
       "      <td>4</td>\n",
       "      <td>1</td>\n",
       "      <td>132.0</td>\n",
       "      <td>1.0</td>\n",
       "      <td>train</td>\n",
       "      <td>1</td>\n",
       "      <td>0</td>\n",
       "      <td>1</td>\n",
       "      <td>0</td>\n",
       "      <td>0</td>\n",
       "      <td>1</td>\n",
       "      <td>0</td>\n",
       "      <td>1</td>\n",
       "      <td>0</td>\n",
       "      <td>0</td>\n",
       "      <td>0</td>\n",
       "      <td>0</td>\n",
       "    </tr>\n",
       "    <tr>\n",
       "      <th>20</th>\n",
       "      <td>0.843</td>\n",
       "      <td>11</td>\n",
       "      <td>1</td>\n",
       "      <td>68.0</td>\n",
       "      <td>0.0</td>\n",
       "      <td>train</td>\n",
       "      <td>0</td>\n",
       "      <td>1</td>\n",
       "      <td>1</td>\n",
       "      <td>0</td>\n",
       "      <td>0</td>\n",
       "      <td>0</td>\n",
       "      <td>1</td>\n",
       "      <td>0</td>\n",
       "      <td>0</td>\n",
       "      <td>0</td>\n",
       "      <td>0</td>\n",
       "      <td>0</td>\n",
       "    </tr>\n",
       "    <tr>\n",
       "      <th>21</th>\n",
       "      <td>0.926</td>\n",
       "      <td>11</td>\n",
       "      <td>2</td>\n",
       "      <td>50.0</td>\n",
       "      <td>0.0</td>\n",
       "      <td>train</td>\n",
       "      <td>0</td>\n",
       "      <td>1</td>\n",
       "      <td>1</td>\n",
       "      <td>0</td>\n",
       "      <td>0</td>\n",
       "      <td>0</td>\n",
       "      <td>1</td>\n",
       "      <td>0</td>\n",
       "      <td>0</td>\n",
       "      <td>0</td>\n",
       "      <td>0</td>\n",
       "      <td>0</td>\n",
       "    </tr>\n",
       "  </tbody>\n",
       "</table>\n",
       "</div>"
      ],
      "text/plain": [
       "    city_development_index  experience  last_new_job  training_hours  target  \\\n",
       "8                    0.920           7             1            46.0     1.0   \n",
       "11                   0.920           5             1           108.0     0.0   \n",
       "19                   0.827           4             1           132.0     1.0   \n",
       "20                   0.843          11             1            68.0     0.0   \n",
       "21                   0.926          11             2            50.0     0.0   \n",
       "\n",
       "     Xgrp  gender_Female  gender_Male  \\\n",
       "8   train              0            1   \n",
       "11  train              0            1   \n",
       "19  train              1            0   \n",
       "20  train              0            1   \n",
       "21  train              0            1   \n",
       "\n",
       "    relevant_experience_Has relevant experience  \\\n",
       "8                                             1   \n",
       "11                                            1   \n",
       "19                                            1   \n",
       "20                                            1   \n",
       "21                                            1   \n",
       "\n",
       "    enrolled_university_Full time course  \\\n",
       "8                                      0   \n",
       "11                                     0   \n",
       "19                                     0   \n",
       "20                                     0   \n",
       "21                                     0   \n",
       "\n",
       "    enrolled_university_Part time course  education_level_Graduate  \\\n",
       "8                                      0                         1   \n",
       "11                                     0                         1   \n",
       "19                                     0                         1   \n",
       "20                                     0                         0   \n",
       "21                                     0                         0   \n",
       "\n",
       "    education_level_Masters  major_discipline_Arts  \\\n",
       "8                         0                      0   \n",
       "11                        0                      0   \n",
       "19                        0                      1   \n",
       "20                        1                      0   \n",
       "21                        1                      0   \n",
       "\n",
       "    major_discipline_Business Degree  major_discipline_Humanities  \\\n",
       "8                                  0                            0   \n",
       "11                                 0                            0   \n",
       "19                                 0                            0   \n",
       "20                                 0                            0   \n",
       "21                                 0                            0   \n",
       "\n",
       "    major_discipline_No Major  major_discipline_Other  \n",
       "8                           0                       0  \n",
       "11                          0                       0  \n",
       "19                          0                       0  \n",
       "20                          0                       0  \n",
       "21                          0                       0  "
      ]
     },
     "execution_count": 68,
     "metadata": {},
     "output_type": "execute_result"
    }
   ],
   "source": [
    "#step2\n",
    "job2 = df_5.drop(columns = 'enrollee_id',axis=1)\n",
    "job2.head()"
   ]
  },
  {
   "cell_type": "code",
   "execution_count": 70,
   "id": "80333237",
   "metadata": {},
   "outputs": [
    {
     "data": {
      "text/plain": [
       "18"
      ]
     },
     "execution_count": 70,
     "metadata": {},
     "output_type": "execute_result"
    }
   ],
   "source": [
    "len(job2.columns)"
   ]
  },
  {
   "cell_type": "code",
   "execution_count": 72,
   "id": "889d5e48",
   "metadata": {},
   "outputs": [],
   "source": [
    "X = job2.drop(columns = ['target','Xgrp'],axis = 1)\n",
    "y = job2.loc[:,'target']"
   ]
  },
  {
   "cell_type": "code",
   "execution_count": 109,
   "id": "4521adf8",
   "metadata": {},
   "outputs": [],
   "source": [
    "model = LogisticRegression(C = 100000, max_iter = 1000, solver='liblinear', random_state = 123, fit_intercept=True)\n",
    "model.fit(X,y)\n",
    "odds_ratio = model.coef_"
   ]
  },
  {
   "cell_type": "code",
   "execution_count": 115,
   "id": "afccccb0",
   "metadata": {},
   "outputs": [
    {
     "data": {
      "text/plain": [
       "1.67"
      ]
     },
     "execution_count": 115,
     "metadata": {},
     "output_type": "execute_result"
    }
   ],
   "source": [
    "np.floor(np.exp(model.coef_).max()*100)/100"
   ]
  },
  {
   "cell_type": "code",
   "execution_count": 116,
   "id": "625cb4a4",
   "metadata": {},
   "outputs": [
    {
     "data": {
      "text/plain": [
       "array([[-6.17027459e+00, -2.86947767e-02,  9.40010959e-02,\n",
       "        -9.42300801e-04, -2.17187479e-01, -1.86998706e-01,\n",
       "        -7.69008071e-01,  5.13270671e-01, -2.90445589e-01,\n",
       "         2.22930314e-01, -7.78751713e-02,  2.84976114e-01,\n",
       "         1.17005475e-01,  2.46530336e-01,  4.01781704e-01,\n",
       "        -4.42323720e-01]])"
      ]
     },
     "execution_count": 116,
     "metadata": {},
     "output_type": "execute_result"
    }
   ],
   "source": [
    "odds_ratio #첫번째값이 interceptㅇ ㅔ관한거"
   ]
  },
  {
   "cell_type": "code",
   "execution_count": 117,
   "id": "f3582576",
   "metadata": {},
   "outputs": [
    {
     "data": {
      "text/plain": [
       "array([4.56272809])"
      ]
     },
     "execution_count": 117,
     "metadata": {},
     "output_type": "execute_result"
    }
   ],
   "source": [
    "model.intercept_"
   ]
  },
  {
   "cell_type": "code",
   "execution_count": null,
   "id": "75e8b4cd",
   "metadata": {},
   "outputs": [],
   "source": [
    "col1 = ['target','Xgrp']\n",
    "col2 = ['city_development_index','experience','last_new_job','training_hours']\n",
    "df_job2 = pd.concat([df_base[col1,col2]])???"
   ]
  },
  {
   "cell_type": "code",
   "execution_count": null,
   "id": "496cd05c",
   "metadata": {},
   "outputs": [],
   "source": []
  },
  {
   "cell_type": "code",
   "execution_count": null,
   "id": "97e93492",
   "metadata": {},
   "outputs": [],
   "source": []
  },
  {
   "cell_type": "code",
   "execution_count": null,
   "id": "8e86a2aa",
   "metadata": {},
   "outputs": [],
   "source": []
  },
  {
   "cell_type": "code",
   "execution_count": 80,
   "id": "bfdd3d4f",
   "metadata": {},
   "outputs": [],
   "source": [
    "#q3"
   ]
  },
  {
   "cell_type": "code",
   "execution_count": 81,
   "id": "9807aa8a",
   "metadata": {},
   "outputs": [],
   "source": [
    "#step1\n",
    "train = job2.loc[job2['Xgrp'] == 'train',]\n",
    "test = job2.loc[job2['Xgrp'] == 'test']"
   ]
  },
  {
   "cell_type": "code",
   "execution_count": 82,
   "id": "a3ea5dc1",
   "metadata": {},
   "outputs": [
    {
     "data": {
      "text/html": [
       "<div>\n",
       "<style scoped>\n",
       "    .dataframe tbody tr th:only-of-type {\n",
       "        vertical-align: middle;\n",
       "    }\n",
       "\n",
       "    .dataframe tbody tr th {\n",
       "        vertical-align: top;\n",
       "    }\n",
       "\n",
       "    .dataframe thead th {\n",
       "        text-align: right;\n",
       "    }\n",
       "</style>\n",
       "<table border=\"1\" class=\"dataframe\">\n",
       "  <thead>\n",
       "    <tr style=\"text-align: right;\">\n",
       "      <th></th>\n",
       "      <th>city_development_index</th>\n",
       "      <th>experience</th>\n",
       "      <th>last_new_job</th>\n",
       "      <th>training_hours</th>\n",
       "      <th>target</th>\n",
       "      <th>Xgrp</th>\n",
       "      <th>gender_Female</th>\n",
       "      <th>gender_Male</th>\n",
       "      <th>relevant_experience_Has relevant experience</th>\n",
       "      <th>enrolled_university_Full time course</th>\n",
       "      <th>enrolled_university_Part time course</th>\n",
       "      <th>education_level_Graduate</th>\n",
       "      <th>education_level_Masters</th>\n",
       "      <th>major_discipline_Arts</th>\n",
       "      <th>major_discipline_Business Degree</th>\n",
       "      <th>major_discipline_Humanities</th>\n",
       "      <th>major_discipline_No Major</th>\n",
       "      <th>major_discipline_Other</th>\n",
       "    </tr>\n",
       "  </thead>\n",
       "  <tbody>\n",
       "    <tr>\n",
       "      <th>12001</th>\n",
       "      <td>0.920</td>\n",
       "      <td>15</td>\n",
       "      <td>1</td>\n",
       "      <td>16.0</td>\n",
       "      <td>0.0</td>\n",
       "      <td>test</td>\n",
       "      <td>0</td>\n",
       "      <td>1</td>\n",
       "      <td>0</td>\n",
       "      <td>0</td>\n",
       "      <td>0</td>\n",
       "      <td>1</td>\n",
       "      <td>0</td>\n",
       "      <td>0</td>\n",
       "      <td>0</td>\n",
       "      <td>0</td>\n",
       "      <td>0</td>\n",
       "      <td>0</td>\n",
       "    </tr>\n",
       "    <tr>\n",
       "      <th>12002</th>\n",
       "      <td>0.624</td>\n",
       "      <td>3</td>\n",
       "      <td>1</td>\n",
       "      <td>13.0</td>\n",
       "      <td>1.0</td>\n",
       "      <td>test</td>\n",
       "      <td>0</td>\n",
       "      <td>1</td>\n",
       "      <td>1</td>\n",
       "      <td>0</td>\n",
       "      <td>0</td>\n",
       "      <td>1</td>\n",
       "      <td>0</td>\n",
       "      <td>0</td>\n",
       "      <td>0</td>\n",
       "      <td>0</td>\n",
       "      <td>0</td>\n",
       "      <td>1</td>\n",
       "    </tr>\n",
       "    <tr>\n",
       "      <th>12003</th>\n",
       "      <td>0.920</td>\n",
       "      <td>14</td>\n",
       "      <td>1</td>\n",
       "      <td>4.0</td>\n",
       "      <td>0.0</td>\n",
       "      <td>test</td>\n",
       "      <td>0</td>\n",
       "      <td>1</td>\n",
       "      <td>1</td>\n",
       "      <td>0</td>\n",
       "      <td>0</td>\n",
       "      <td>0</td>\n",
       "      <td>0</td>\n",
       "      <td>0</td>\n",
       "      <td>0</td>\n",
       "      <td>0</td>\n",
       "      <td>0</td>\n",
       "      <td>0</td>\n",
       "    </tr>\n",
       "    <tr>\n",
       "      <th>12004</th>\n",
       "      <td>0.920</td>\n",
       "      <td>7</td>\n",
       "      <td>1</td>\n",
       "      <td>16.0</td>\n",
       "      <td>0.0</td>\n",
       "      <td>test</td>\n",
       "      <td>0</td>\n",
       "      <td>1</td>\n",
       "      <td>1</td>\n",
       "      <td>0</td>\n",
       "      <td>0</td>\n",
       "      <td>1</td>\n",
       "      <td>0</td>\n",
       "      <td>0</td>\n",
       "      <td>1</td>\n",
       "      <td>0</td>\n",
       "      <td>0</td>\n",
       "      <td>0</td>\n",
       "    </tr>\n",
       "    <tr>\n",
       "      <th>12008</th>\n",
       "      <td>0.843</td>\n",
       "      <td>6</td>\n",
       "      <td>1</td>\n",
       "      <td>70.0</td>\n",
       "      <td>0.0</td>\n",
       "      <td>test</td>\n",
       "      <td>1</td>\n",
       "      <td>0</td>\n",
       "      <td>1</td>\n",
       "      <td>0</td>\n",
       "      <td>0</td>\n",
       "      <td>1</td>\n",
       "      <td>0</td>\n",
       "      <td>0</td>\n",
       "      <td>0</td>\n",
       "      <td>0</td>\n",
       "      <td>0</td>\n",
       "      <td>0</td>\n",
       "    </tr>\n",
       "  </tbody>\n",
       "</table>\n",
       "</div>"
      ],
      "text/plain": [
       "       city_development_index  experience  last_new_job  training_hours  \\\n",
       "12001                   0.920          15             1            16.0   \n",
       "12002                   0.624           3             1            13.0   \n",
       "12003                   0.920          14             1             4.0   \n",
       "12004                   0.920           7             1            16.0   \n",
       "12008                   0.843           6             1            70.0   \n",
       "\n",
       "       target  Xgrp  gender_Female  gender_Male  \\\n",
       "12001     0.0  test              0            1   \n",
       "12002     1.0  test              0            1   \n",
       "12003     0.0  test              0            1   \n",
       "12004     0.0  test              0            1   \n",
       "12008     0.0  test              1            0   \n",
       "\n",
       "       relevant_experience_Has relevant experience  \\\n",
       "12001                                            0   \n",
       "12002                                            1   \n",
       "12003                                            1   \n",
       "12004                                            1   \n",
       "12008                                            1   \n",
       "\n",
       "       enrolled_university_Full time course  \\\n",
       "12001                                     0   \n",
       "12002                                     0   \n",
       "12003                                     0   \n",
       "12004                                     0   \n",
       "12008                                     0   \n",
       "\n",
       "       enrolled_university_Part time course  education_level_Graduate  \\\n",
       "12001                                     0                         1   \n",
       "12002                                     0                         1   \n",
       "12003                                     0                         0   \n",
       "12004                                     0                         1   \n",
       "12008                                     0                         1   \n",
       "\n",
       "       education_level_Masters  major_discipline_Arts  \\\n",
       "12001                        0                      0   \n",
       "12002                        0                      0   \n",
       "12003                        0                      0   \n",
       "12004                        0                      0   \n",
       "12008                        0                      0   \n",
       "\n",
       "       major_discipline_Business Degree  major_discipline_Humanities  \\\n",
       "12001                                 0                            0   \n",
       "12002                                 0                            0   \n",
       "12003                                 0                            0   \n",
       "12004                                 1                            0   \n",
       "12008                                 0                            0   \n",
       "\n",
       "       major_discipline_No Major  major_discipline_Other  \n",
       "12001                          0                       0  \n",
       "12002                          0                       1  \n",
       "12003                          0                       0  \n",
       "12004                          0                       0  \n",
       "12008                          0                       0  "
      ]
     },
     "execution_count": 82,
     "metadata": {},
     "output_type": "execute_result"
    }
   ],
   "source": [
    "test.head()"
   ]
  },
  {
   "cell_type": "code",
   "execution_count": 85,
   "id": "3fa1d99d",
   "metadata": {},
   "outputs": [],
   "source": [
    "#step2\n",
    "x_train = train.drop(columns = ['target', 'Xgrp'], axis = 1)\n",
    "y_train = train.loc[:,'target']\n",
    "\n",
    "x_test = test.drop(columns = ['target','Xgrp'],axis = 1)\n",
    "y_test = test.loc[:,'target']"
   ]
  },
  {
   "cell_type": "code",
   "execution_count": 86,
   "id": "c5a59c1e",
   "metadata": {},
   "outputs": [
    {
     "data": {
      "text/plain": [
       "KNeighborsClassifier(metric='euclidean')"
      ]
     },
     "execution_count": 86,
     "metadata": {},
     "output_type": "execute_result"
    }
   ],
   "source": [
    "model = KNeighborsClassifier(n_neighbors=5, metric='euclidean')\n",
    "model.fit(x_train,y_train)"
   ]
  },
  {
   "cell_type": "code",
   "execution_count": 88,
   "id": "6afbf01e",
   "metadata": {},
   "outputs": [
    {
     "name": "stderr",
     "output_type": "stream",
     "text": [
      "/Users/cherylkim/opt/anaconda3/lib/python3.9/site-packages/sklearn/neighbors/_classification.py:228: FutureWarning: Unlike other reduction functions (e.g. `skew`, `kurtosis`), the default behavior of `mode` typically preserves the axis it acts along. In SciPy 1.11.0, this behavior will change: the default value of `keepdims` will become False, the `axis` over which the statistic is taken will be eliminated, and the value None will no longer be accepted. Set `keepdims` to True or False to avoid this warning.\n",
      "  mode, _ = stats.mode(_y[neigh_ind, k], axis=1)\n"
     ]
    }
   ],
   "source": [
    "y_pred = model.predict(x_test)"
   ]
  },
  {
   "cell_type": "code",
   "execution_count": 122,
   "id": "085d08d1",
   "metadata": {},
   "outputs": [
    {
     "data": {
      "text/plain": [
       "0.7120028409090909"
      ]
     },
     "execution_count": 122,
     "metadata": {},
     "output_type": "execute_result"
    }
   ],
   "source": [
    "df_tab = pd.crosstab(y_test, y_pred)\n",
    "df_tab.values.diagonal().sum()/df_tab.values.sum()"
   ]
  },
  {
   "cell_type": "code",
   "execution_count": 89,
   "id": "7d8ad87f",
   "metadata": {},
   "outputs": [],
   "source": [
    "from sklearn.metrics import confusion_matrix\n",
    "cnf_matrix = confusion_matrix(y_test,y_pred)"
   ]
  },
  {
   "cell_type": "code",
   "execution_count": 90,
   "id": "24a09467",
   "metadata": {},
   "outputs": [
    {
     "data": {
      "text/plain": [
       "array([[1897,  195],\n",
       "       [ 616,  108]])"
      ]
     },
     "execution_count": 90,
     "metadata": {},
     "output_type": "execute_result"
    }
   ],
   "source": [
    "cnf_matrix"
   ]
  },
  {
   "cell_type": "code",
   "execution_count": 106,
   "id": "37d197a8",
   "metadata": {},
   "outputs": [
    {
     "data": {
      "text/plain": [
       "0.71"
      ]
     },
     "execution_count": 106,
     "metadata": {},
     "output_type": "execute_result"
    }
   ],
   "source": [
    "round(np.diag(cnf_matrix).sum()/cnf_matrix.sum(),2)"
   ]
  },
  {
   "cell_type": "code",
   "execution_count": 91,
   "id": "315d7f6f",
   "metadata": {},
   "outputs": [],
   "source": [
    "\n",
    "#FP = cnf_matrix.sum(axis=0) - np.diag(cnf_matrix)  \n",
    "#FN = cnf_matrix.sum(axis=1) - np.diag(cnf_matrix)\n",
    "#TP = np.diag(cnf_matrix)\n",
    "#TN = cnf_matrix.sum() - (FP + FN + TP)"
   ]
  },
  {
   "cell_type": "code",
   "execution_count": null,
   "id": "5b318189",
   "metadata": {},
   "outputs": [],
   "source": [
    "#from sklearn.metrics import recall_score\n",
    "#tpr = recall_score(y_test, y_pred)   # it is better to name it y_test \n",
    "# to calculate, tnr we need to set the positive label to the other class\n",
    "# I assume your negative class consists of 0, if it is -1, change 0 below to that value\n",
    "#tnr = recall_score(y_test, y_pred, pos_label = 0) \n",
    "#fpr = 1 - tnr\n",
    "#fnr = 1 - tpr"
   ]
  },
  {
   "cell_type": "code",
   "execution_count": 118,
   "id": "a16d6123",
   "metadata": {},
   "outputs": [
    {
     "ename": "SyntaxError",
     "evalue": "invalid syntax (2151550232.py, line 1)",
     "output_type": "error",
     "traceback": [
      "\u001b[0;36m  File \u001b[0;32m\"/var/folders/08/qfhf2lxn7wlcym8tkm5j1t640000gn/T/ipykernel_87298/2151550232.py\"\u001b[0;36m, line \u001b[0;32m1\u001b[0m\n\u001b[0;31m    shift tab tab\u001b[0m\n\u001b[0m          ^\u001b[0m\n\u001b[0;31mSyntaxError\u001b[0m\u001b[0;31m:\u001b[0m invalid syntax\n"
     ]
    }
   ],
   "source": [
    "shift tab tab "
   ]
  },
  {
   "cell_type": "code",
   "execution_count": null,
   "id": "01fbde68",
   "metadata": {},
   "outputs": [],
   "source": [
    "KNeighborsClassifier()"
   ]
  }
 ],
 "metadata": {
  "kernelspec": {
   "display_name": "Python 3 (ipykernel)",
   "language": "python",
   "name": "python3"
  },
  "language_info": {
   "codemirror_mode": {
    "name": "ipython",
    "version": 3
   },
   "file_extension": ".py",
   "mimetype": "text/x-python",
   "name": "python",
   "nbconvert_exporter": "python",
   "pygments_lexer": "ipython3",
   "version": "3.9.13"
  }
 },
 "nbformat": 4,
 "nbformat_minor": 5
}
