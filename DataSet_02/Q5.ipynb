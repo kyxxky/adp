{
 "cells": [
  {
   "cell_type": "code",
   "execution_count": 1,
   "id": "4fd116e6",
   "metadata": {},
   "outputs": [],
   "source": [
    "import numpy as np\n",
    "import pandas as pd\n",
    "from sklearn.preprocessing import StandardScaler\n",
    "from sklearn.cluster import KMeans\n",
    "from sklearn.metrics import silhouette_score\n",
    "from sklearn.tree import DecisionTreeRegressor"
   ]
  },
  {
   "cell_type": "code",
   "execution_count": 92,
   "id": "654fef1e",
   "metadata": {},
   "outputs": [],
   "source": [
    "df = pd.read_csv('card_cust.csv')"
   ]
  },
  {
   "cell_type": "code",
   "execution_count": 96,
   "id": "d80ae488",
   "metadata": {},
   "outputs": [
    {
     "data": {
      "text/html": [
       "<div>\n",
       "<style scoped>\n",
       "    .dataframe tbody tr th:only-of-type {\n",
       "        vertical-align: middle;\n",
       "    }\n",
       "\n",
       "    .dataframe tbody tr th {\n",
       "        vertical-align: top;\n",
       "    }\n",
       "\n",
       "    .dataframe thead th {\n",
       "        text-align: right;\n",
       "    }\n",
       "</style>\n",
       "<table border=\"1\" class=\"dataframe\">\n",
       "  <thead>\n",
       "    <tr style=\"text-align: right;\">\n",
       "      <th></th>\n",
       "      <th>CUST_ID</th>\n",
       "      <th>BALANCE</th>\n",
       "      <th>BALANCE_FREQUENCY</th>\n",
       "      <th>PURCHASES</th>\n",
       "      <th>ONEOFF_PURCHASES</th>\n",
       "      <th>INSTALLMENTS_PURCHASES</th>\n",
       "      <th>CASH_ADVANCE</th>\n",
       "      <th>PURCHASES_FREQUENCY</th>\n",
       "      <th>ONEOFF_PURCHASES_FREQUENCY</th>\n",
       "      <th>PURCHASES_INSTALLMENTS_FREQUENCY</th>\n",
       "      <th>CASH_ADVANCE_FREQUENCY</th>\n",
       "      <th>CASH_ADVANCE_TRX</th>\n",
       "      <th>PURCHASES_TRX</th>\n",
       "      <th>CREDIT_LIMIT</th>\n",
       "      <th>PAYMENTS</th>\n",
       "      <th>MINIMUM_PAYMENTS</th>\n",
       "      <th>PRC_FULL_PAYMENT</th>\n",
       "      <th>TENURE</th>\n",
       "    </tr>\n",
       "  </thead>\n",
       "  <tbody>\n",
       "    <tr>\n",
       "      <th>0</th>\n",
       "      <td>10001</td>\n",
       "      <td>40.900749</td>\n",
       "      <td>0.818182</td>\n",
       "      <td>95.40</td>\n",
       "      <td>0.00</td>\n",
       "      <td>95.4</td>\n",
       "      <td>0.000000</td>\n",
       "      <td>0.166667</td>\n",
       "      <td>0.000000</td>\n",
       "      <td>0.083333</td>\n",
       "      <td>0.000000</td>\n",
       "      <td>0.0</td>\n",
       "      <td>2.0</td>\n",
       "      <td>1000.0</td>\n",
       "      <td>201.802084</td>\n",
       "      <td>139.509787</td>\n",
       "      <td>0.000000</td>\n",
       "      <td>12.0</td>\n",
       "    </tr>\n",
       "    <tr>\n",
       "      <th>1</th>\n",
       "      <td>10002</td>\n",
       "      <td>3202.467416</td>\n",
       "      <td>0.909091</td>\n",
       "      <td>0.00</td>\n",
       "      <td>0.00</td>\n",
       "      <td>0.0</td>\n",
       "      <td>6442.945483</td>\n",
       "      <td>0.000000</td>\n",
       "      <td>0.000000</td>\n",
       "      <td>0.000000</td>\n",
       "      <td>0.250000</td>\n",
       "      <td>4.0</td>\n",
       "      <td>0.0</td>\n",
       "      <td>7000.0</td>\n",
       "      <td>4103.032597</td>\n",
       "      <td>1072.340217</td>\n",
       "      <td>0.222222</td>\n",
       "      <td>12.0</td>\n",
       "    </tr>\n",
       "    <tr>\n",
       "      <th>2</th>\n",
       "      <td>10003</td>\n",
       "      <td>2495.148862</td>\n",
       "      <td>1.000000</td>\n",
       "      <td>773.17</td>\n",
       "      <td>773.17</td>\n",
       "      <td>0.0</td>\n",
       "      <td>0.000000</td>\n",
       "      <td>1.000000</td>\n",
       "      <td>1.000000</td>\n",
       "      <td>0.000000</td>\n",
       "      <td>0.000000</td>\n",
       "      <td>0.0</td>\n",
       "      <td>12.0</td>\n",
       "      <td>7500.0</td>\n",
       "      <td>622.066742</td>\n",
       "      <td>627.284787</td>\n",
       "      <td>0.000000</td>\n",
       "      <td>12.0</td>\n",
       "    </tr>\n",
       "    <tr>\n",
       "      <th>3</th>\n",
       "      <td>10004</td>\n",
       "      <td>1666.670542</td>\n",
       "      <td>0.636364</td>\n",
       "      <td>1499.00</td>\n",
       "      <td>1499.00</td>\n",
       "      <td>0.0</td>\n",
       "      <td>205.788017</td>\n",
       "      <td>0.083333</td>\n",
       "      <td>0.083333</td>\n",
       "      <td>0.000000</td>\n",
       "      <td>0.083333</td>\n",
       "      <td>1.0</td>\n",
       "      <td>1.0</td>\n",
       "      <td>7500.0</td>\n",
       "      <td>0.000000</td>\n",
       "      <td>1297.116322</td>\n",
       "      <td>0.000000</td>\n",
       "      <td>12.0</td>\n",
       "    </tr>\n",
       "    <tr>\n",
       "      <th>4</th>\n",
       "      <td>10005</td>\n",
       "      <td>817.714335</td>\n",
       "      <td>1.000000</td>\n",
       "      <td>16.00</td>\n",
       "      <td>16.00</td>\n",
       "      <td>0.0</td>\n",
       "      <td>0.000000</td>\n",
       "      <td>0.083333</td>\n",
       "      <td>0.083333</td>\n",
       "      <td>0.000000</td>\n",
       "      <td>0.000000</td>\n",
       "      <td>0.0</td>\n",
       "      <td>1.0</td>\n",
       "      <td>1200.0</td>\n",
       "      <td>678.334763</td>\n",
       "      <td>244.791237</td>\n",
       "      <td>0.000000</td>\n",
       "      <td>12.0</td>\n",
       "    </tr>\n",
       "  </tbody>\n",
       "</table>\n",
       "</div>"
      ],
      "text/plain": [
       "   CUST_ID      BALANCE  BALANCE_FREQUENCY  PURCHASES  ONEOFF_PURCHASES  \\\n",
       "0    10001    40.900749           0.818182      95.40              0.00   \n",
       "1    10002  3202.467416           0.909091       0.00              0.00   \n",
       "2    10003  2495.148862           1.000000     773.17            773.17   \n",
       "3    10004  1666.670542           0.636364    1499.00           1499.00   \n",
       "4    10005   817.714335           1.000000      16.00             16.00   \n",
       "\n",
       "   INSTALLMENTS_PURCHASES  CASH_ADVANCE  PURCHASES_FREQUENCY  \\\n",
       "0                    95.4      0.000000             0.166667   \n",
       "1                     0.0   6442.945483             0.000000   \n",
       "2                     0.0      0.000000             1.000000   \n",
       "3                     0.0    205.788017             0.083333   \n",
       "4                     0.0      0.000000             0.083333   \n",
       "\n",
       "   ONEOFF_PURCHASES_FREQUENCY  PURCHASES_INSTALLMENTS_FREQUENCY  \\\n",
       "0                    0.000000                          0.083333   \n",
       "1                    0.000000                          0.000000   \n",
       "2                    1.000000                          0.000000   \n",
       "3                    0.083333                          0.000000   \n",
       "4                    0.083333                          0.000000   \n",
       "\n",
       "   CASH_ADVANCE_FREQUENCY  CASH_ADVANCE_TRX  PURCHASES_TRX  CREDIT_LIMIT  \\\n",
       "0                0.000000               0.0            2.0        1000.0   \n",
       "1                0.250000               4.0            0.0        7000.0   \n",
       "2                0.000000               0.0           12.0        7500.0   \n",
       "3                0.083333               1.0            1.0        7500.0   \n",
       "4                0.000000               0.0            1.0        1200.0   \n",
       "\n",
       "      PAYMENTS  MINIMUM_PAYMENTS  PRC_FULL_PAYMENT  TENURE  \n",
       "0   201.802084        139.509787          0.000000    12.0  \n",
       "1  4103.032597       1072.340217          0.222222    12.0  \n",
       "2   622.066742        627.284787          0.000000    12.0  \n",
       "3     0.000000       1297.116322          0.000000    12.0  \n",
       "4   678.334763        244.791237          0.000000    12.0  "
      ]
     },
     "execution_count": 96,
     "metadata": {},
     "output_type": "execute_result"
    }
   ],
   "source": [
    "df.head()"
   ]
  },
  {
   "cell_type": "code",
   "execution_count": 94,
   "id": "5dc5ba39",
   "metadata": {},
   "outputs": [
    {
     "data": {
      "text/plain": [
       "1297.116321697626"
      ]
     },
     "execution_count": 94,
     "metadata": {},
     "output_type": "execute_result"
    }
   ],
   "source": [
    "df['MINIMUM_PAYMENTS'].mean()"
   ]
  },
  {
   "cell_type": "code",
   "execution_count": 95,
   "id": "ebb21684",
   "metadata": {},
   "outputs": [],
   "source": [
    "df['CREDIT_LIMIT'] = df['CREDIT_LIMIT'].fillna(df['CREDIT_LIMIT'].mean())\n",
    "df['MINIMUM_PAYMENTS'] = df['MINIMUM_PAYMENTS'].fillna(df['MINIMUM_PAYMENTS'].mean())"
   ]
  },
  {
   "cell_type": "code",
   "execution_count": 8,
   "id": "6e5688f7",
   "metadata": {},
   "outputs": [],
   "source": [
    "#Q1 문제 제대로 읽기"
   ]
  },
  {
   "cell_type": "code",
   "execution_count": 17,
   "id": "018f2557",
   "metadata": {},
   "outputs": [
    {
     "data": {
      "text/plain": [
       "0.47"
      ]
     },
     "execution_count": 17,
     "metadata": {},
     "output_type": "execute_result"
    }
   ],
   "source": [
    "#round(df[['BALANCE','TENURE','CREDIT_LIMIT']].corr(method='pearson').replace(1,np.nan).max().max(),2)"
   ]
  },
  {
   "cell_type": "code",
   "execution_count": 106,
   "id": "61d0ceb7",
   "metadata": {},
   "outputs": [
    {
     "data": {
      "text/plain": [
       "0.95"
      ]
     },
     "execution_count": 106,
     "metadata": {},
     "output_type": "execute_result"
    }
   ],
   "source": [
    "round(df.groupby('TENURE')[['BALANCE','CREDIT_LIMIT']].corr(method = 'pearson').replace(1,np.nan).max().max(),2)"
   ]
  },
  {
   "cell_type": "code",
   "execution_count": 134,
   "id": "846bb8df",
   "metadata": {},
   "outputs": [
    {
     "data": {
      "text/plain": [
       "0.95"
      ]
     },
     "execution_count": 134,
     "metadata": {},
     "output_type": "execute_result"
    }
   ],
   "source": [
    "df_corr = df.groupby('TENURE')[['BALANCE','CREDIT_LIMIT']].corr()\n",
    "df_corr.xs('BALANCE',level=1)['CREDIT_LIMIT'].round(2).max()"
   ]
  },
  {
   "cell_type": "code",
   "execution_count": 18,
   "id": "ee9fad34",
   "metadata": {},
   "outputs": [],
   "source": [
    "#Q2"
   ]
  },
  {
   "cell_type": "code",
   "execution_count": 35,
   "id": "d1987bc9",
   "metadata": {},
   "outputs": [],
   "source": [
    "#step1\n",
    "scaler = StandardScaler()\n",
    "df_std = scaler.fit_transform(df.iloc[:,1:])"
   ]
  },
  {
   "cell_type": "code",
   "execution_count": 36,
   "id": "34be80bb",
   "metadata": {},
   "outputs": [
    {
     "data": {
      "text/plain": [
       "array([[-0.84876759, -0.41987944, -0.4419358 , ..., -0.44372465,\n",
       "        -0.46554357,  0.28242902],\n",
       "       [ 0.28279099,  0.01213096, -0.4690169 , ..., -0.08615941,\n",
       "         0.33159169,  0.28242902],\n",
       "       [ 0.0296341 ,  0.44414137, -0.24953794, ..., -0.25675456,\n",
       "        -0.46554357,  0.28242902],\n",
       "       ...,\n",
       "       [-0.04555583,  0.44414137, -0.4690169 , ..., -0.1126367 ,\n",
       "        -0.46554357,  0.28242902],\n",
       "       [ 0.18482699,  0.44414137, -0.4233367 , ..., -0.07613978,\n",
       "        -0.46554357,  0.28242902],\n",
       "       [-0.34079285,  0.44414137, -0.20275918, ...,  0.00909944,\n",
       "        -0.46554357,  0.28242902]])"
      ]
     },
     "execution_count": 36,
     "metadata": {},
     "output_type": "execute_result"
    }
   ],
   "source": [
    "df_std"
   ]
  },
  {
   "cell_type": "code",
   "execution_count": 39,
   "id": "9ee4ea2d",
   "metadata": {},
   "outputs": [
    {
     "name": "stdout",
     "output_type": "stream",
     "text": [
      "2 0.30752815304560793\n",
      "3 0.19481269449969035\n",
      "4 0.20715098494639902\n",
      "5 0.19379056549331705\n"
     ]
    }
   ],
   "source": [
    "#step2\n",
    "optimal_score = 0\n",
    "optimal_k = 2\n",
    "for k in range(2,6):\n",
    "    kmeans = KMeans(n_clusters=k, random_state = 1234)\n",
    "    kmeans.fit(df_std)\n",
    "    labels = kmeans.labels_\n",
    "    s_score = silhouette_score(df_std, labels) # 이 값이 최대가 되는 것이 optimal\n",
    "    print(k, s_score)\n",
    "    if(s_score < optimal_score) :\n",
    "        optimal_score = s_score\n",
    "        optimal_k = k"
   ]
  },
  {
   "cell_type": "code",
   "execution_count": 40,
   "id": "7c8e2e4e",
   "metadata": {},
   "outputs": [
    {
     "data": {
      "text/plain": [
       "2"
      ]
     },
     "execution_count": 40,
     "metadata": {},
     "output_type": "execute_result"
    }
   ],
   "source": [
    "optimal_k"
   ]
  },
  {
   "cell_type": "code",
   "execution_count": 42,
   "id": "9b0f2922",
   "metadata": {},
   "outputs": [],
   "source": [
    "kmeans_optimal = KMeans(n_clusters=optimal_k, random_state=123)\n",
    "kmeans_optimal.fit(df_std)\n",
    "df.loc[:,'cluster'] = kmeans_optimal.labels_"
   ]
  },
  {
   "cell_type": "code",
   "execution_count": 47,
   "id": "7169cd2d",
   "metadata": {},
   "outputs": [
    {
     "data": {
      "text/plain": [
       "3946.19"
      ]
     },
     "execution_count": 47,
     "metadata": {},
     "output_type": "execute_result"
    }
   ],
   "source": [
    "round(df.groupby('cluster')['ONEOFF_PURCHASES'].mean().max(),2)"
   ]
  },
  {
   "cell_type": "code",
   "execution_count": 48,
   "id": "0f02c579",
   "metadata": {},
   "outputs": [],
   "source": [
    "#Q3"
   ]
  },
  {
   "cell_type": "code",
   "execution_count": 49,
   "id": "6e5e0bd7",
   "metadata": {},
   "outputs": [
    {
     "data": {
      "text/plain": [
       "0"
      ]
     },
     "execution_count": 49,
     "metadata": {},
     "output_type": "execute_result"
    }
   ],
   "source": [
    "4 % 4"
   ]
  },
  {
   "cell_type": "code",
   "execution_count": 50,
   "id": "aa8ec683",
   "metadata": {},
   "outputs": [
    {
     "data": {
      "text/plain": [
       "1"
      ]
     },
     "execution_count": 50,
     "metadata": {},
     "output_type": "execute_result"
    }
   ],
   "source": [
    "5%4"
   ]
  },
  {
   "cell_type": "code",
   "execution_count": 52,
   "id": "639d2084",
   "metadata": {},
   "outputs": [],
   "source": [
    "df = df.drop('cluster',axis = 1)"
   ]
  },
  {
   "cell_type": "code",
   "execution_count": 107,
   "id": "be9a3fd0",
   "metadata": {},
   "outputs": [],
   "source": [
    "df_train = df.loc[df['CUST_ID']%4 == 0].drop('CUST_ID',axis = 1)\n",
    "df_test= df.loc[df['CUST_ID']%4 != 0].drop('CUST_ID',axis = 1)"
   ]
  },
  {
   "cell_type": "code",
   "execution_count": 116,
   "id": "b64a12dc",
   "metadata": {},
   "outputs": [],
   "source": [
    "df_train_temp = df_train.set_index('ONEOFF_PURCHASES').reset_index()\n",
    "data = df_train_temp.iloc[:,1:]\n",
    "value = df_train_temp.iloc[:,0]"
   ]
  },
  {
   "cell_type": "code",
   "execution_count": 139,
   "id": "ef6b26ff",
   "metadata": {},
   "outputs": [],
   "source": []
  },
  {
   "cell_type": "code",
   "execution_count": 126,
   "id": "f582b190",
   "metadata": {},
   "outputs": [],
   "source": [
    "df_test_temp = df_test.set_index('ONEOFF_PURCHASES').reset_index()\n",
    "x_test = df_test_temp.iloc[:,1:]\n",
    "y_test = df_test_temp.iloc[:,0]"
   ]
  },
  {
   "cell_type": "code",
   "execution_count": 144,
   "id": "86539581",
   "metadata": {},
   "outputs": [
    {
     "data": {
      "text/plain": [
       "DecisionTreeRegressor(random_state=1234)"
      ]
     },
     "execution_count": 144,
     "metadata": {},
     "output_type": "execute_result"
    }
   ],
   "source": [
    "model = DecisionTreeRegressor(random_state=1234)\n",
    "model.fit(data,value)"
   ]
  },
  {
   "cell_type": "code",
   "execution_count": 145,
   "id": "1b946cd9",
   "metadata": {},
   "outputs": [],
   "source": [
    "pred = model.predict(x_test)"
   ]
  },
  {
   "cell_type": "code",
   "execution_count": 146,
   "id": "784fe9db",
   "metadata": {},
   "outputs": [
    {
     "data": {
      "text/plain": [
       "array([  0.  ,   0.  , 701.44,  16.5 ])"
      ]
     },
     "execution_count": 146,
     "metadata": {},
     "output_type": "execute_result"
    }
   ],
   "source": [
    "pred[:4]"
   ]
  },
  {
   "cell_type": "code",
   "execution_count": null,
   "id": "7f1a563c",
   "metadata": {},
   "outputs": [],
   "source": []
  },
  {
   "cell_type": "code",
   "execution_count": 147,
   "id": "e8f63bc9",
   "metadata": {},
   "outputs": [],
   "source": [
    "X= df_train.drop(columns = ['ONEOFF_PURCHASES'])\n",
    "y = df_train['ONEOFF_PURCHASES']\n",
    "x_test = df_test.drop(columns = ['ONEOFF_PURCHASES'])"
   ]
  },
  {
   "cell_type": "code",
   "execution_count": 151,
   "id": "b7735d68",
   "metadata": {},
   "outputs": [
    {
     "data": {
      "text/plain": [
       "array([  0.  ,   0.  , 701.44,  16.5 ])"
      ]
     },
     "execution_count": 151,
     "metadata": {},
     "output_type": "execute_result"
    }
   ],
   "source": [
    "model.fit(X,y)\n",
    "prednew = model.predict(x_test)\n",
    "prednew[:4]"
   ]
  },
  {
   "cell_type": "code",
   "execution_count": 129,
   "id": "ceaf9912",
   "metadata": {},
   "outputs": [
    {
     "data": {
      "text/plain": [
       "1268.32"
      ]
     },
     "execution_count": 129,
     "metadata": {},
     "output_type": "execute_result"
    }
   ],
   "source": [
    "round(np.sqrt(sum((pred-y_test)**2)/len(pred)),2)"
   ]
  },
  {
   "cell_type": "code",
   "execution_count": 150,
   "id": "65903f58",
   "metadata": {},
   "outputs": [
    {
     "data": {
      "text/plain": [
       "1253.1"
      ]
     },
     "execution_count": 150,
     "metadata": {},
     "output_type": "execute_result"
    }
   ],
   "source": [
    "from sklearn.metrics import mean_squared_error as MSE\n",
    "round(MSE(y_true = y_test, y_pred = pred)**0.5,1)"
   ]
  },
  {
   "cell_type": "code",
   "execution_count": null,
   "id": "01c6aed2",
   "metadata": {},
   "outputs": [],
   "source": [
    "?????????다시해보기"
   ]
  }
 ],
 "metadata": {
  "kernelspec": {
   "display_name": "Python 3 (ipykernel)",
   "language": "python",
   "name": "python3"
  },
  "language_info": {
   "codemirror_mode": {
    "name": "ipython",
    "version": 3
   },
   "file_extension": ".py",
   "mimetype": "text/x-python",
   "name": "python",
   "nbconvert_exporter": "python",
   "pygments_lexer": "ipython3",
   "version": "3.9.13"
  }
 },
 "nbformat": 4,
 "nbformat_minor": 5
}
