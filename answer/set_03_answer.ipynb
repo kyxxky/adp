{
 "cells": [
  {
   "cell_type": "code",
   "execution_count": 1,
   "id": "8f1db2bd",
   "metadata": {},
   "outputs": [],
   "source": [
    "import pandas as pd\n",
    "import numpy as np\n",
    "\n",
    "from sklearn.preprocessing import MinMaxScaler\n",
    "from sklearn.model_selection import train_test_split\n",
    "from sklearn.neighbors import KNeighborsRegressor\n",
    "from sklearn.metrics import mean_squared_error"
   ]
  },
  {
   "cell_type": "code",
   "execution_count": 2,
   "id": "775d962b",
   "metadata": {},
   "outputs": [
    {
     "data": {
      "text/html": [
       "<div>\n",
       "<style scoped>\n",
       "    .dataframe tbody tr th:only-of-type {\n",
       "        vertical-align: middle;\n",
       "    }\n",
       "\n",
       "    .dataframe tbody tr th {\n",
       "        vertical-align: top;\n",
       "    }\n",
       "\n",
       "    .dataframe thead th {\n",
       "        text-align: right;\n",
       "    }\n",
       "</style>\n",
       "<table border=\"1\" class=\"dataframe\">\n",
       "  <thead>\n",
       "    <tr style=\"text-align: right;\">\n",
       "      <th></th>\n",
       "      <th>screen_size</th>\n",
       "      <th>ROM</th>\n",
       "      <th>RAM</th>\n",
       "      <th>num_rear_camera</th>\n",
       "      <th>num_front_camera</th>\n",
       "      <th>battery_capacity</th>\n",
       "      <th>ratings</th>\n",
       "      <th>num_of_ratings</th>\n",
       "      <th>sales_price</th>\n",
       "      <th>discount_percent</th>\n",
       "      <th>sales</th>\n",
       "    </tr>\n",
       "  </thead>\n",
       "  <tbody>\n",
       "    <tr>\n",
       "      <th>0</th>\n",
       "      <td>Very Small</td>\n",
       "      <td>64</td>\n",
       "      <td>2</td>\n",
       "      <td>1</td>\n",
       "      <td>1</td>\n",
       "      <td>1800</td>\n",
       "      <td>4.5</td>\n",
       "      <td>38645</td>\n",
       "      <td>32999</td>\n",
       "      <td>0.17</td>\n",
       "      <td>127.52</td>\n",
       "    </tr>\n",
       "    <tr>\n",
       "      <th>1</th>\n",
       "      <td>Small</td>\n",
       "      <td>64</td>\n",
       "      <td>4</td>\n",
       "      <td>2</td>\n",
       "      <td>1</td>\n",
       "      <td>2815</td>\n",
       "      <td>4.5</td>\n",
       "      <td>244</td>\n",
       "      <td>57149</td>\n",
       "      <td>0.04</td>\n",
       "      <td>1.39</td>\n",
       "    </tr>\n",
       "  </tbody>\n",
       "</table>\n",
       "</div>"
      ],
      "text/plain": [
       "  screen_size  ROM  RAM  num_rear_camera  num_front_camera  battery_capacity  \\\n",
       "0  Very Small   64    2                1                 1              1800   \n",
       "1       Small   64    4                2                 1              2815   \n",
       "\n",
       "   ratings  num_of_ratings  sales_price  discount_percent   sales  \n",
       "0      4.5           38645        32999              0.17  127.52  \n",
       "1      4.5             244        57149              0.04    1.39  "
      ]
     },
     "execution_count": 2,
     "metadata": {},
     "output_type": "execute_result"
    }
   ],
   "source": [
    "df = pd.read_csv(\"mobiles.csv\")\n",
    "df.head(2)"
   ]
  },
  {
   "cell_type": "markdown",
   "id": "8f5c0bc3",
   "metadata": {},
   "source": [
    "### Q1."
   ]
  },
  {
   "cell_type": "code",
   "execution_count": 3,
   "id": "b057b408",
   "metadata": {},
   "outputs": [
    {
     "data": {
      "text/plain": [
       "146.55150129273218"
      ]
     },
     "execution_count": 3,
     "metadata": {},
     "output_type": "execute_result"
    }
   ],
   "source": [
    "stat_mean = df[\"sales\"].mean()\n",
    "stat_std  = df[\"sales\"].std()\n",
    "stat_out  = stat_mean + 2 * stat_std\n",
    "stat_out"
   ]
  },
  {
   "cell_type": "code",
   "execution_count": 4,
   "id": "eeab43e4",
   "metadata": {},
   "outputs": [
    {
     "data": {
      "text/plain": [
       "16"
      ]
     },
     "execution_count": 4,
     "metadata": {},
     "output_type": "execute_result"
    }
   ],
   "source": [
    "df_q1 = df.loc[df[\"sales\"] > stat_out, ].reset_index(drop = True)\n",
    "len(df_q1)"
   ]
  },
  {
   "cell_type": "code",
   "execution_count": 5,
   "id": "817fee1b",
   "metadata": {},
   "outputs": [],
   "source": [
    "df_q1[\"idx\"] = (df_q1[\"ROM\"] / 32) + (df_q1[\"RAM\"] / 2) + \\\n",
    "(df_q1[\"num_front_camera\"] + df_q1[\"num_rear_camera\"]) + (df_q1[\"battery_capacity\"] / 1000)"
   ]
  },
  {
   "cell_type": "code",
   "execution_count": 6,
   "id": "70ef8e4e",
   "metadata": {},
   "outputs": [
    {
     "data": {
      "text/plain": [
       "11.01"
      ]
     },
     "execution_count": 6,
     "metadata": {},
     "output_type": "execute_result"
    }
   ],
   "source": [
    "round(df_q1[\"idx\"].mean(), 2)"
   ]
  },
  {
   "cell_type": "markdown",
   "id": "6b7354fd",
   "metadata": {},
   "source": [
    "### Q2."
   ]
  },
  {
   "cell_type": "code",
   "execution_count": 7,
   "id": "65bdafa1",
   "metadata": {},
   "outputs": [
    {
     "data": {
      "text/plain": [
       "array([1, 2, 3, 4], dtype=int64)"
      ]
     },
     "execution_count": 7,
     "metadata": {},
     "output_type": "execute_result"
    }
   ],
   "source": [
    "df[\"num_rear_camera\"].unique()"
   ]
  },
  {
   "cell_type": "code",
   "execution_count": 9,
   "id": "9e205940",
   "metadata": {
    "collapsed": true
   },
   "outputs": [
    {
     "data": {
      "text/html": [
       "<div>\n",
       "<style scoped>\n",
       "    .dataframe tbody tr th:only-of-type {\n",
       "        vertical-align: middle;\n",
       "    }\n",
       "\n",
       "    .dataframe tbody tr th {\n",
       "        vertical-align: top;\n",
       "    }\n",
       "\n",
       "    .dataframe thead th {\n",
       "        text-align: right;\n",
       "    }\n",
       "</style>\n",
       "<table border=\"1\" class=\"dataframe\">\n",
       "  <thead>\n",
       "    <tr style=\"text-align: right;\">\n",
       "      <th></th>\n",
       "      <th>battery_capacity</th>\n",
       "      <th>ratings</th>\n",
       "      <th>num_of_ratings</th>\n",
       "      <th>sales_price</th>\n",
       "      <th>discount_percent</th>\n",
       "      <th>sales</th>\n",
       "    </tr>\n",
       "  </thead>\n",
       "  <tbody>\n",
       "    <tr>\n",
       "      <th>1</th>\n",
       "      <td>2815</td>\n",
       "      <td>4.5</td>\n",
       "      <td>244</td>\n",
       "      <td>57149</td>\n",
       "      <td>0.04</td>\n",
       "      <td>1.39</td>\n",
       "    </tr>\n",
       "    <tr>\n",
       "      <th>4</th>\n",
       "      <td>2815</td>\n",
       "      <td>4.6</td>\n",
       "      <td>745</td>\n",
       "      <td>69149</td>\n",
       "      <td>0.02</td>\n",
       "      <td>5.15</td>\n",
       "    </tr>\n",
       "  </tbody>\n",
       "</table>\n",
       "</div>"
      ],
      "text/plain": [
       "   battery_capacity  ratings  num_of_ratings  sales_price  discount_percent  \\\n",
       "1              2815      4.5             244        57149              0.04   \n",
       "4              2815      4.6             745        69149              0.02   \n",
       "\n",
       "   sales  \n",
       "1   1.39  \n",
       "4   5.15  "
      ]
     },
     "execution_count": 9,
     "metadata": {},
     "output_type": "execute_result"
    }
   ],
   "source": [
    "df_q2 = df.loc[df[\"num_rear_camera\"] != 1, ]\n",
    "df_q2 = df_q2[[\"battery_capacity\", \"ratings\", \"num_of_ratings\", \"sales_price\", \"discount_percent\", \"sales\"]]\n",
    "df_q2.head(2)"
   ]
  },
  {
   "cell_type": "code",
   "execution_count": 12,
   "id": "6e85f54a",
   "metadata": {
    "collapsed": true
   },
   "outputs": [
    {
     "data": {
      "text/plain": [
       "battery_capacity    0.03\n",
       "ratings             0.23\n",
       "num_of_ratings      0.95\n",
       "sales_price        -0.25\n",
       "discount_percent    0.22\n",
       "sales               1.00\n",
       "Name: sales, dtype: float64"
      ]
     },
     "execution_count": 12,
     "metadata": {},
     "output_type": "execute_result"
    }
   ],
   "source": [
    "df_q2.corr()[\"sales\"].round(2) # 0.95"
   ]
  },
  {
   "cell_type": "code",
   "execution_count": 19,
   "id": "52a4bff8",
   "metadata": {},
   "outputs": [],
   "source": [
    "df_corr = df_q2.corr()"
   ]
  },
  {
   "cell_type": "code",
   "execution_count": 20,
   "id": "a9c90866",
   "metadata": {
    "collapsed": true
   },
   "outputs": [
    {
     "data": {
      "text/plain": [
       "battery_capacity    0.26\n",
       "ratings             0.23\n",
       "num_of_ratings      0.95\n",
       "sales_price         0.15\n",
       "discount_percent    0.26\n",
       "sales               0.95\n",
       "dtype: float64"
      ]
     },
     "execution_count": 20,
     "metadata": {},
     "output_type": "execute_result"
    }
   ],
   "source": [
    "df_corr.replace(1, np.nan).max().round(2)"
   ]
  },
  {
   "cell_type": "code",
   "execution_count": 25,
   "id": "72270b06",
   "metadata": {},
   "outputs": [
    {
     "data": {
      "text/html": [
       "<div>\n",
       "<style scoped>\n",
       "    .dataframe tbody tr th:only-of-type {\n",
       "        vertical-align: middle;\n",
       "    }\n",
       "\n",
       "    .dataframe tbody tr th {\n",
       "        vertical-align: top;\n",
       "    }\n",
       "\n",
       "    .dataframe thead th {\n",
       "        text-align: right;\n",
       "    }\n",
       "</style>\n",
       "<table border=\"1\" class=\"dataframe\">\n",
       "  <thead>\n",
       "    <tr style=\"text-align: right;\">\n",
       "      <th></th>\n",
       "      <th>index</th>\n",
       "      <th>value</th>\n",
       "    </tr>\n",
       "  </thead>\n",
       "  <tbody>\n",
       "    <tr>\n",
       "      <th>0</th>\n",
       "      <td>battery_capacity</td>\n",
       "      <td>0.26</td>\n",
       "    </tr>\n",
       "    <tr>\n",
       "      <th>1</th>\n",
       "      <td>discount_percent</td>\n",
       "      <td>0.26</td>\n",
       "    </tr>\n",
       "    <tr>\n",
       "      <th>2</th>\n",
       "      <td>num_of_ratings</td>\n",
       "      <td>0.95</td>\n",
       "    </tr>\n",
       "    <tr>\n",
       "      <th>3</th>\n",
       "      <td>ratings</td>\n",
       "      <td>0.23</td>\n",
       "    </tr>\n",
       "    <tr>\n",
       "      <th>4</th>\n",
       "      <td>sales</td>\n",
       "      <td>0.95</td>\n",
       "    </tr>\n",
       "    <tr>\n",
       "      <th>5</th>\n",
       "      <td>sales_price</td>\n",
       "      <td>0.15</td>\n",
       "    </tr>\n",
       "  </tbody>\n",
       "</table>\n",
       "</div>"
      ],
      "text/plain": [
       "              index  value\n",
       "0  battery_capacity   0.26\n",
       "1  discount_percent   0.26\n",
       "2    num_of_ratings   0.95\n",
       "3           ratings   0.23\n",
       "4             sales   0.95\n",
       "5       sales_price   0.15"
      ]
     },
     "execution_count": 25,
     "metadata": {},
     "output_type": "execute_result"
    }
   ],
   "source": [
    "# df_corr.reset_index()\n",
    "df_corr_melt = df_corr.reset_index().melt(id_vars = \"index\")\n",
    "df_corr_melt_sub = df_corr_melt.loc[df_corr_melt[\"index\"] != df_corr_melt[\"variable\"], ]\n",
    "df_corr_melt_sub.groupby(\"index\")[\"value\"].max().round(2).reset_index()"
   ]
  },
  {
   "cell_type": "markdown",
   "id": "f56456e4",
   "metadata": {},
   "source": [
    "### Q3."
   ]
  },
  {
   "cell_type": "code",
   "execution_count": 30,
   "id": "d45f70d5",
   "metadata": {
    "collapsed": true
   },
   "outputs": [
    {
     "data": {
      "text/html": [
       "<div>\n",
       "<style scoped>\n",
       "    .dataframe tbody tr th:only-of-type {\n",
       "        vertical-align: middle;\n",
       "    }\n",
       "\n",
       "    .dataframe tbody tr th {\n",
       "        vertical-align: top;\n",
       "    }\n",
       "\n",
       "    .dataframe thead th {\n",
       "        text-align: right;\n",
       "    }\n",
       "</style>\n",
       "<table border=\"1\" class=\"dataframe\">\n",
       "  <thead>\n",
       "    <tr style=\"text-align: right;\">\n",
       "      <th></th>\n",
       "      <th>ROM</th>\n",
       "      <th>RAM</th>\n",
       "      <th>num_rear_camera</th>\n",
       "      <th>num_front_camera</th>\n",
       "      <th>battery_capacity</th>\n",
       "      <th>ratings</th>\n",
       "      <th>num_of_ratings</th>\n",
       "      <th>sales_price</th>\n",
       "      <th>discount_percent</th>\n",
       "      <th>sales</th>\n",
       "      <th>screen_size_Large</th>\n",
       "      <th>screen_size_Medium</th>\n",
       "      <th>screen_size_Small</th>\n",
       "      <th>screen_size_Very Large</th>\n",
       "      <th>screen_size_Very Small</th>\n",
       "    </tr>\n",
       "  </thead>\n",
       "  <tbody>\n",
       "    <tr>\n",
       "      <th>0</th>\n",
       "      <td>64</td>\n",
       "      <td>2</td>\n",
       "      <td>1</td>\n",
       "      <td>1</td>\n",
       "      <td>1800</td>\n",
       "      <td>4.5</td>\n",
       "      <td>38645</td>\n",
       "      <td>32999</td>\n",
       "      <td>0.17</td>\n",
       "      <td>127.52</td>\n",
       "      <td>0</td>\n",
       "      <td>0</td>\n",
       "      <td>0</td>\n",
       "      <td>0</td>\n",
       "      <td>1</td>\n",
       "    </tr>\n",
       "    <tr>\n",
       "      <th>1</th>\n",
       "      <td>64</td>\n",
       "      <td>4</td>\n",
       "      <td>2</td>\n",
       "      <td>1</td>\n",
       "      <td>2815</td>\n",
       "      <td>4.5</td>\n",
       "      <td>244</td>\n",
       "      <td>57149</td>\n",
       "      <td>0.04</td>\n",
       "      <td>1.39</td>\n",
       "      <td>0</td>\n",
       "      <td>0</td>\n",
       "      <td>1</td>\n",
       "      <td>0</td>\n",
       "      <td>0</td>\n",
       "    </tr>\n",
       "  </tbody>\n",
       "</table>\n",
       "</div>"
      ],
      "text/plain": [
       "   ROM  RAM  num_rear_camera  num_front_camera  battery_capacity  ratings  \\\n",
       "0   64    2                1                 1              1800      4.5   \n",
       "1   64    4                2                 1              2815      4.5   \n",
       "\n",
       "   num_of_ratings  sales_price  discount_percent   sales  screen_size_Large  \\\n",
       "0           38645        32999              0.17  127.52                  0   \n",
       "1             244        57149              0.04    1.39                  0   \n",
       "\n",
       "   screen_size_Medium  screen_size_Small  screen_size_Very Large  \\\n",
       "0                   0                  0                       0   \n",
       "1                   0                  1                       0   \n",
       "\n",
       "   screen_size_Very Small  \n",
       "0                       1  \n",
       "1                       0  "
      ]
     },
     "execution_count": 30,
     "metadata": {},
     "output_type": "execute_result"
    }
   ],
   "source": [
    "# df_q3_dum = pd.get_dummies(df, columns = [\"screen_size\"]) # 시험버전\n",
    "df_q3_dum = pd.get_dummies(df, columns = [\"screen_size\"], dtype = \"int\") # 최신버전\n",
    "df_q3_dum.head(2)"
   ]
  },
  {
   "cell_type": "code",
   "execution_count": 31,
   "id": "a4214414",
   "metadata": {},
   "outputs": [
    {
     "data": {
      "text/plain": [
       "(430, 15)"
      ]
     },
     "execution_count": 31,
     "metadata": {},
     "output_type": "execute_result"
    }
   ],
   "source": [
    "df_q3_dum.shape # 14 + 1"
   ]
  },
  {
   "cell_type": "code",
   "execution_count": 32,
   "id": "abd5e300",
   "metadata": {},
   "outputs": [
    {
     "data": {
      "text/html": [
       "<div>\n",
       "<style scoped>\n",
       "    .dataframe tbody tr th:only-of-type {\n",
       "        vertical-align: middle;\n",
       "    }\n",
       "\n",
       "    .dataframe tbody tr th {\n",
       "        vertical-align: top;\n",
       "    }\n",
       "\n",
       "    .dataframe thead th {\n",
       "        text-align: right;\n",
       "    }\n",
       "</style>\n",
       "<table border=\"1\" class=\"dataframe\">\n",
       "  <thead>\n",
       "    <tr style=\"text-align: right;\">\n",
       "      <th></th>\n",
       "      <th>sales</th>\n",
       "      <th>ROM</th>\n",
       "      <th>RAM</th>\n",
       "      <th>num_rear_camera</th>\n",
       "      <th>num_front_camera</th>\n",
       "      <th>battery_capacity</th>\n",
       "      <th>ratings</th>\n",
       "      <th>num_of_ratings</th>\n",
       "      <th>sales_price</th>\n",
       "      <th>discount_percent</th>\n",
       "      <th>screen_size_Large</th>\n",
       "      <th>screen_size_Medium</th>\n",
       "      <th>screen_size_Small</th>\n",
       "      <th>screen_size_Very Large</th>\n",
       "      <th>screen_size_Very Small</th>\n",
       "    </tr>\n",
       "  </thead>\n",
       "  <tbody>\n",
       "    <tr>\n",
       "      <th>0</th>\n",
       "      <td>127.52</td>\n",
       "      <td>64</td>\n",
       "      <td>2</td>\n",
       "      <td>1</td>\n",
       "      <td>1</td>\n",
       "      <td>1800</td>\n",
       "      <td>4.5</td>\n",
       "      <td>38645</td>\n",
       "      <td>32999</td>\n",
       "      <td>0.17</td>\n",
       "      <td>0</td>\n",
       "      <td>0</td>\n",
       "      <td>0</td>\n",
       "      <td>0</td>\n",
       "      <td>1</td>\n",
       "    </tr>\n",
       "    <tr>\n",
       "      <th>1</th>\n",
       "      <td>1.39</td>\n",
       "      <td>64</td>\n",
       "      <td>4</td>\n",
       "      <td>2</td>\n",
       "      <td>1</td>\n",
       "      <td>2815</td>\n",
       "      <td>4.5</td>\n",
       "      <td>244</td>\n",
       "      <td>57149</td>\n",
       "      <td>0.04</td>\n",
       "      <td>0</td>\n",
       "      <td>0</td>\n",
       "      <td>1</td>\n",
       "      <td>0</td>\n",
       "      <td>0</td>\n",
       "    </tr>\n",
       "  </tbody>\n",
       "</table>\n",
       "</div>"
      ],
      "text/plain": [
       "    sales  ROM  RAM  num_rear_camera  num_front_camera  battery_capacity  \\\n",
       "0  127.52   64    2                1                 1              1800   \n",
       "1    1.39   64    4                2                 1              2815   \n",
       "\n",
       "   ratings  num_of_ratings  sales_price  discount_percent  screen_size_Large  \\\n",
       "0      4.5           38645        32999              0.17                  0   \n",
       "1      4.5             244        57149              0.04                  0   \n",
       "\n",
       "   screen_size_Medium  screen_size_Small  screen_size_Very Large  \\\n",
       "0                   0                  0                       0   \n",
       "1                   0                  1                       0   \n",
       "\n",
       "   screen_size_Very Small  \n",
       "0                       1  \n",
       "1                       0  "
      ]
     },
     "execution_count": 32,
     "metadata": {},
     "output_type": "execute_result"
    }
   ],
   "source": [
    "df_q3_dum = df_q3_dum.set_index(\"sales\").reset_index()\n",
    "df_q3_dum.head(2)"
   ]
  },
  {
   "cell_type": "code",
   "execution_count": 34,
   "id": "0c0d8761",
   "metadata": {},
   "outputs": [
    {
     "data": {
      "text/plain": [
       "(344, 86)"
      ]
     },
     "execution_count": 34,
     "metadata": {},
     "output_type": "execute_result"
    }
   ],
   "source": [
    "df_train, df_test = train_test_split(df_q3_dum, train_size = 0.8, random_state = 123)\n",
    "len(df_train), len(df_test)"
   ]
  },
  {
   "cell_type": "code",
   "execution_count": 35,
   "id": "eeb6c92f",
   "metadata": {},
   "outputs": [],
   "source": [
    "model_nor = MinMaxScaler().fit(df_train)\n",
    "arr_train_nor = model_nor.transform(df_train)\n",
    "arr_test_nor  = model_nor.transform(df_test)"
   ]
  },
  {
   "cell_type": "code",
   "execution_count": 37,
   "id": "a5c3a868",
   "metadata": {},
   "outputs": [
    {
     "data": {
      "text/plain": [
       "array([[0.00394753, 0.04761905, 0.18181818, 0.33333333, 0.        ,\n",
       "        0.42307692, 0.625     , 0.00396262, 0.02607261, 0.09302326,\n",
       "        0.        , 0.        , 1.        , 0.        , 0.        ]])"
      ]
     },
     "execution_count": 37,
     "metadata": {},
     "output_type": "execute_result"
    }
   ],
   "source": [
    "arr_train_nor[:1, ]"
   ]
  },
  {
   "cell_type": "code",
   "execution_count": 42,
   "id": "2a0b40cb",
   "metadata": {},
   "outputs": [
    {
     "data": {
      "text/plain": [
       "0.08186677375964535"
      ]
     },
     "execution_count": 42,
     "metadata": {},
     "output_type": "execute_result"
    }
   ],
   "source": [
    "ls_k = [3, 5, 7, 9, 11]\n",
    "k = ls_k[0]\n",
    "\n",
    "model_knn = KNeighborsRegressor(n_neighbors = k)\n",
    "model_knn.fit(X = arr_train_nor[:, 1:],\n",
    "              y = arr_train_nor[:,  0])\n",
    "pred = model_knn.predict(arr_test_nor[:, 1:])\n",
    "val_rmse = mean_squared_error(y_true = arr_test_nor[:, 0], \n",
    "                              y_pred = pred) ** 0.5\n",
    "val_rmse"
   ]
  },
  {
   "cell_type": "code",
   "execution_count": 43,
   "id": "9b495572",
   "metadata": {},
   "outputs": [],
   "source": [
    "ls_k = [3, 5, 7, 9, 11]\n",
    "\n",
    "ls_rmse = []\n",
    "for k in ls_k:\n",
    "    model_knn = KNeighborsRegressor(n_neighbors = k)\n",
    "    model_knn.fit(X = arr_train_nor[:, 1:],\n",
    "                  y = arr_train_nor[:,  0])\n",
    "    pred = model_knn.predict(arr_test_nor[:, 1:])\n",
    "    val_rmse = mean_squared_error(y_true = arr_test_nor[:, 0], \n",
    "                                  y_pred = pred) ** 0.5\n",
    "    ls_rmse = ls_rmse + [val_rmse]"
   ]
  },
  {
   "cell_type": "code",
   "execution_count": 58,
   "id": "469e2ab9",
   "metadata": {},
   "outputs": [
    {
     "data": {
      "text/plain": [
       "11"
      ]
     },
     "execution_count": 58,
     "metadata": {},
     "output_type": "execute_result"
    }
   ],
   "source": [
    "k"
   ]
  },
  {
   "cell_type": "code",
   "execution_count": 48,
   "id": "9414cfd9",
   "metadata": {},
   "outputs": [
    {
     "data": {
      "text/plain": [
       "3"
      ]
     },
     "execution_count": 48,
     "metadata": {},
     "output_type": "execute_result"
    }
   ],
   "source": [
    "best_k = pd.Series(ls_rmse, index = ls_k).idxmin()\n",
    "best_k"
   ]
  },
  {
   "cell_type": "markdown",
   "id": "50ff9db7",
   "metadata": {},
   "source": [
    "### Q3. 추가 지시사항\n",
    "다음은 저번달에 신규 출시된 경쟁사의 스마트폰 정보이다. 해당 스마트폰의 판매지수는 얼마로 예상되는가?  \n",
    "※ 정규화 되지 않은 값으로 반올림하여 소수점 첫째 자리까지 출력하시오  \n",
    "※ KNN 모델을 사용하며 이웃 개수는 직전에 최적이라고 판단한 k값을 사용하시오.  \n",
    "* ROM: 256\n",
    "* RAM: 6\n",
    "* num_rear_camera: 4\n",
    "* num_front_camera: 1\n",
    "* battery_capacity: 4000\n",
    "* ratings: 4.3\n",
    "* num_of_ratings: 25000\n",
    "* sales_price: 85000\n",
    "* discount_percent: 0.05\n",
    "* screen_size: \"Large\""
   ]
  },
  {
   "cell_type": "code",
   "execution_count": 53,
   "id": "0682748b",
   "metadata": {},
   "outputs": [
    {
     "data": {
      "text/html": [
       "<div>\n",
       "<style scoped>\n",
       "    .dataframe tbody tr th:only-of-type {\n",
       "        vertical-align: middle;\n",
       "    }\n",
       "\n",
       "    .dataframe tbody tr th {\n",
       "        vertical-align: top;\n",
       "    }\n",
       "\n",
       "    .dataframe thead th {\n",
       "        text-align: right;\n",
       "    }\n",
       "</style>\n",
       "<table border=\"1\" class=\"dataframe\">\n",
       "  <thead>\n",
       "    <tr style=\"text-align: right;\">\n",
       "      <th></th>\n",
       "      <th>sales</th>\n",
       "      <th>ROM</th>\n",
       "      <th>RAM</th>\n",
       "      <th>num_rear_camera</th>\n",
       "      <th>num_front_camera</th>\n",
       "      <th>battery_capacity</th>\n",
       "      <th>ratings</th>\n",
       "      <th>num_of_ratings</th>\n",
       "      <th>sales_price</th>\n",
       "      <th>discount_percent</th>\n",
       "      <th>screen_size_Large</th>\n",
       "      <th>screen_size_Medium</th>\n",
       "      <th>screen_size_Small</th>\n",
       "      <th>screen_size_Very Large</th>\n",
       "      <th>screen_size_Very Small</th>\n",
       "    </tr>\n",
       "  </thead>\n",
       "  <tbody>\n",
       "    <tr>\n",
       "      <th>0</th>\n",
       "      <td>5.9</td>\n",
       "      <td>256</td>\n",
       "      <td>6</td>\n",
       "      <td>4</td>\n",
       "      <td>1</td>\n",
       "      <td>4000</td>\n",
       "      <td>4.3</td>\n",
       "      <td>25000</td>\n",
       "      <td>85000</td>\n",
       "      <td>0.05</td>\n",
       "      <td>1</td>\n",
       "      <td>0</td>\n",
       "      <td>0</td>\n",
       "      <td>0</td>\n",
       "      <td>0</td>\n",
       "    </tr>\n",
       "  </tbody>\n",
       "</table>\n",
       "</div>"
      ],
      "text/plain": [
       "   sales  ROM  RAM  num_rear_camera  num_front_camera  battery_capacity  \\\n",
       "0    5.9  256    6                4                 1              4000   \n",
       "\n",
       "   ratings  num_of_ratings  sales_price  discount_percent  screen_size_Large  \\\n",
       "0      4.3           25000        85000              0.05                  1   \n",
       "\n",
       "   screen_size_Medium  screen_size_Small  screen_size_Very Large  \\\n",
       "0                   0                  0                       0   \n",
       "\n",
       "   screen_size_Very Small  \n",
       "0                       0  "
      ]
     },
     "execution_count": 53,
     "metadata": {},
     "output_type": "execute_result"
    }
   ],
   "source": [
    "# df_t1 = pd.DataFrame(dict(ROM = [256], RAM = [6]))\n",
    "df_t1 = df_test.head(1).reset_index(drop = True)\n",
    "df_t1[\"RAM\"] = 6\n",
    "df_t1[\"num_rear_camera\"] = 4\n",
    "df_t1[\"battery_capacity\"] = 4000\n",
    "df_t1[\"ratings\"] = 4.3\n",
    "df_t1[\"num_of_ratings\"] = 25000\n",
    "df_t1[\"sales_price\"] = 85000\n",
    "df_t1[\"discount_percent\"] = 0.05\n",
    "df_t1[\"screen_size_Large\"] = 1\n",
    "df_t1[\"screen_size_Medium\"] = 0\n",
    "df_t1"
   ]
  },
  {
   "cell_type": "code",
   "execution_count": 57,
   "id": "44cca841",
   "metadata": {},
   "outputs": [
    {
     "data": {
      "text/plain": [
       "array([[0.0119438 , 0.49206349, 0.45454545, 1.        , 0.        ,\n",
       "        0.42307692, 0.625     , 0.05308122, 0.51815842, 0.09302326,\n",
       "        1.        , 0.        , 0.        , 0.        , 0.        ]])"
      ]
     },
     "execution_count": 57,
     "metadata": {},
     "output_type": "execute_result"
    }
   ],
   "source": [
    "# arr_t1_nor = model_nor.transform(df_t1.drop(columns = \"sales\"))\n",
    "arr_t1_nor = model_nor.transform(df_t1)\n",
    "arr_t1_nor"
   ]
  },
  {
   "cell_type": "code",
   "execution_count": 59,
   "id": "6e33cc17",
   "metadata": {
    "collapsed": true
   },
   "outputs": [
    {
     "data": {
      "text/html": [
       "<style>#sk-container-id-3 {color: black;background-color: white;}#sk-container-id-3 pre{padding: 0;}#sk-container-id-3 div.sk-toggleable {background-color: white;}#sk-container-id-3 label.sk-toggleable__label {cursor: pointer;display: block;width: 100%;margin-bottom: 0;padding: 0.3em;box-sizing: border-box;text-align: center;}#sk-container-id-3 label.sk-toggleable__label-arrow:before {content: \"▸\";float: left;margin-right: 0.25em;color: #696969;}#sk-container-id-3 label.sk-toggleable__label-arrow:hover:before {color: black;}#sk-container-id-3 div.sk-estimator:hover label.sk-toggleable__label-arrow:before {color: black;}#sk-container-id-3 div.sk-toggleable__content {max-height: 0;max-width: 0;overflow: hidden;text-align: left;background-color: #f0f8ff;}#sk-container-id-3 div.sk-toggleable__content pre {margin: 0.2em;color: black;border-radius: 0.25em;background-color: #f0f8ff;}#sk-container-id-3 input.sk-toggleable__control:checked~div.sk-toggleable__content {max-height: 200px;max-width: 100%;overflow: auto;}#sk-container-id-3 input.sk-toggleable__control:checked~label.sk-toggleable__label-arrow:before {content: \"▾\";}#sk-container-id-3 div.sk-estimator input.sk-toggleable__control:checked~label.sk-toggleable__label {background-color: #d4ebff;}#sk-container-id-3 div.sk-label input.sk-toggleable__control:checked~label.sk-toggleable__label {background-color: #d4ebff;}#sk-container-id-3 input.sk-hidden--visually {border: 0;clip: rect(1px 1px 1px 1px);clip: rect(1px, 1px, 1px, 1px);height: 1px;margin: -1px;overflow: hidden;padding: 0;position: absolute;width: 1px;}#sk-container-id-3 div.sk-estimator {font-family: monospace;background-color: #f0f8ff;border: 1px dotted black;border-radius: 0.25em;box-sizing: border-box;margin-bottom: 0.5em;}#sk-container-id-3 div.sk-estimator:hover {background-color: #d4ebff;}#sk-container-id-3 div.sk-parallel-item::after {content: \"\";width: 100%;border-bottom: 1px solid gray;flex-grow: 1;}#sk-container-id-3 div.sk-label:hover label.sk-toggleable__label {background-color: #d4ebff;}#sk-container-id-3 div.sk-serial::before {content: \"\";position: absolute;border-left: 1px solid gray;box-sizing: border-box;top: 0;bottom: 0;left: 50%;z-index: 0;}#sk-container-id-3 div.sk-serial {display: flex;flex-direction: column;align-items: center;background-color: white;padding-right: 0.2em;padding-left: 0.2em;position: relative;}#sk-container-id-3 div.sk-item {position: relative;z-index: 1;}#sk-container-id-3 div.sk-parallel {display: flex;align-items: stretch;justify-content: center;background-color: white;position: relative;}#sk-container-id-3 div.sk-item::before, #sk-container-id-3 div.sk-parallel-item::before {content: \"\";position: absolute;border-left: 1px solid gray;box-sizing: border-box;top: 0;bottom: 0;left: 50%;z-index: -1;}#sk-container-id-3 div.sk-parallel-item {display: flex;flex-direction: column;z-index: 1;position: relative;background-color: white;}#sk-container-id-3 div.sk-parallel-item:first-child::after {align-self: flex-end;width: 50%;}#sk-container-id-3 div.sk-parallel-item:last-child::after {align-self: flex-start;width: 50%;}#sk-container-id-3 div.sk-parallel-item:only-child::after {width: 0;}#sk-container-id-3 div.sk-dashed-wrapped {border: 1px dashed gray;margin: 0 0.4em 0.5em 0.4em;box-sizing: border-box;padding-bottom: 0.4em;background-color: white;}#sk-container-id-3 div.sk-label label {font-family: monospace;font-weight: bold;display: inline-block;line-height: 1.2em;}#sk-container-id-3 div.sk-label-container {text-align: center;}#sk-container-id-3 div.sk-container {/* jupyter's `normalize.less` sets `[hidden] { display: none; }` but bootstrap.min.css set `[hidden] { display: none !important; }` so we also need the `!important` here to be able to override the default hidden behavior on the sphinx rendered scikit-learn.org. See: https://github.com/scikit-learn/scikit-learn/issues/21755 */display: inline-block !important;position: relative;}#sk-container-id-3 div.sk-text-repr-fallback {display: none;}</style><div id=\"sk-container-id-3\" class=\"sk-top-container\"><div class=\"sk-text-repr-fallback\"><pre>KNeighborsRegressor(n_neighbors=3)</pre><b>In a Jupyter environment, please rerun this cell to show the HTML representation or trust the notebook. <br />On GitHub, the HTML representation is unable to render, please try loading this page with nbviewer.org.</b></div><div class=\"sk-container\" hidden><div class=\"sk-item\"><div class=\"sk-estimator sk-toggleable\"><input class=\"sk-toggleable__control sk-hidden--visually\" id=\"sk-estimator-id-3\" type=\"checkbox\" checked><label for=\"sk-estimator-id-3\" class=\"sk-toggleable__label sk-toggleable__label-arrow\">KNeighborsRegressor</label><div class=\"sk-toggleable__content\"><pre>KNeighborsRegressor(n_neighbors=3)</pre></div></div></div></div></div>"
      ],
      "text/plain": [
       "KNeighborsRegressor(n_neighbors=3)"
      ]
     },
     "execution_count": 59,
     "metadata": {},
     "output_type": "execute_result"
    }
   ],
   "source": [
    "model_knn_best = KNeighborsRegressor(n_neighbors = best_k)\n",
    "model_knn_best.fit(X = arr_train_nor[:, 1:],\n",
    "                   y = arr_train_nor[:,  0])"
   ]
  },
  {
   "cell_type": "code",
   "execution_count": 60,
   "id": "b000b3ea",
   "metadata": {},
   "outputs": [
    {
     "data": {
      "text/plain": [
       "array([0.00132259])"
      ]
     },
     "execution_count": 60,
     "metadata": {},
     "output_type": "execute_result"
    }
   ],
   "source": [
    "pred_best = model_knn_best.predict(arr_t1_nor[:, 1:])\n",
    "pred_best"
   ]
  },
  {
   "cell_type": "code",
   "execution_count": 61,
   "id": "ed68fcda",
   "metadata": {},
   "outputs": [],
   "source": [
    "arr_t1_nor[0, 0] = pred_best"
   ]
  },
  {
   "cell_type": "code",
   "execution_count": 63,
   "id": "de66910a",
   "metadata": {},
   "outputs": [
    {
     "data": {
      "text/html": [
       "<div>\n",
       "<style scoped>\n",
       "    .dataframe tbody tr th:only-of-type {\n",
       "        vertical-align: middle;\n",
       "    }\n",
       "\n",
       "    .dataframe tbody tr th {\n",
       "        vertical-align: top;\n",
       "    }\n",
       "\n",
       "    .dataframe thead th {\n",
       "        text-align: right;\n",
       "    }\n",
       "</style>\n",
       "<table border=\"1\" class=\"dataframe\">\n",
       "  <thead>\n",
       "    <tr style=\"text-align: right;\">\n",
       "      <th></th>\n",
       "      <th>sales</th>\n",
       "      <th>ROM</th>\n",
       "      <th>RAM</th>\n",
       "      <th>num_rear_camera</th>\n",
       "      <th>num_front_camera</th>\n",
       "      <th>battery_capacity</th>\n",
       "      <th>ratings</th>\n",
       "      <th>num_of_ratings</th>\n",
       "      <th>sales_price</th>\n",
       "      <th>discount_percent</th>\n",
       "      <th>screen_size_Large</th>\n",
       "      <th>screen_size_Medium</th>\n",
       "      <th>screen_size_Small</th>\n",
       "      <th>screen_size_Very Large</th>\n",
       "      <th>screen_size_Very Small</th>\n",
       "    </tr>\n",
       "  </thead>\n",
       "  <tbody>\n",
       "    <tr>\n",
       "      <th>0</th>\n",
       "      <td>0.653333</td>\n",
       "      <td>256.0</td>\n",
       "      <td>6.0</td>\n",
       "      <td>4.0</td>\n",
       "      <td>1.0</td>\n",
       "      <td>4000.0</td>\n",
       "      <td>4.3</td>\n",
       "      <td>25000.0</td>\n",
       "      <td>85000.0</td>\n",
       "      <td>0.05</td>\n",
       "      <td>1.0</td>\n",
       "      <td>0.0</td>\n",
       "      <td>0.0</td>\n",
       "      <td>0.0</td>\n",
       "      <td>0.0</td>\n",
       "    </tr>\n",
       "  </tbody>\n",
       "</table>\n",
       "</div>"
      ],
      "text/plain": [
       "      sales    ROM  RAM  num_rear_camera  num_front_camera  battery_capacity  \\\n",
       "0  0.653333  256.0  6.0              4.0               1.0            4000.0   \n",
       "\n",
       "   ratings  num_of_ratings  sales_price  discount_percent  screen_size_Large  \\\n",
       "0      4.3         25000.0      85000.0              0.05                1.0   \n",
       "\n",
       "   screen_size_Medium  screen_size_Small  screen_size_Very Large  \\\n",
       "0                 0.0                0.0                     0.0   \n",
       "\n",
       "   screen_size_Very Small  \n",
       "0                     0.0  "
      ]
     },
     "execution_count": 63,
     "metadata": {},
     "output_type": "execute_result"
    }
   ],
   "source": [
    "arr_t1_inv = model_nor.inverse_transform(arr_t1_nor)\n",
    "df_t1_inv = pd.DataFrame(arr_t1_inv, columns = df_t1.columns)\n",
    "df_t1_inv"
   ]
  },
  {
   "cell_type": "code",
   "execution_count": 64,
   "id": "be36e55c",
   "metadata": {},
   "outputs": [
    {
     "data": {
      "text/html": [
       "<div>\n",
       "<style scoped>\n",
       "    .dataframe tbody tr th:only-of-type {\n",
       "        vertical-align: middle;\n",
       "    }\n",
       "\n",
       "    .dataframe tbody tr th {\n",
       "        vertical-align: top;\n",
       "    }\n",
       "\n",
       "    .dataframe thead th {\n",
       "        text-align: right;\n",
       "    }\n",
       "</style>\n",
       "<table border=\"1\" class=\"dataframe\">\n",
       "  <thead>\n",
       "    <tr style=\"text-align: right;\">\n",
       "      <th></th>\n",
       "      <th>sales</th>\n",
       "      <th>ROM</th>\n",
       "      <th>RAM</th>\n",
       "      <th>num_rear_camera</th>\n",
       "      <th>num_front_camera</th>\n",
       "      <th>battery_capacity</th>\n",
       "      <th>ratings</th>\n",
       "      <th>num_of_ratings</th>\n",
       "      <th>sales_price</th>\n",
       "      <th>discount_percent</th>\n",
       "      <th>screen_size_Large</th>\n",
       "      <th>screen_size_Medium</th>\n",
       "      <th>screen_size_Small</th>\n",
       "      <th>screen_size_Very Large</th>\n",
       "      <th>screen_size_Very Small</th>\n",
       "    </tr>\n",
       "  </thead>\n",
       "  <tbody>\n",
       "    <tr>\n",
       "      <th>0</th>\n",
       "      <td>5.9</td>\n",
       "      <td>256</td>\n",
       "      <td>6</td>\n",
       "      <td>4</td>\n",
       "      <td>1</td>\n",
       "      <td>4000</td>\n",
       "      <td>4.3</td>\n",
       "      <td>25000</td>\n",
       "      <td>85000</td>\n",
       "      <td>0.05</td>\n",
       "      <td>1</td>\n",
       "      <td>0</td>\n",
       "      <td>0</td>\n",
       "      <td>0</td>\n",
       "      <td>0</td>\n",
       "    </tr>\n",
       "  </tbody>\n",
       "</table>\n",
       "</div>"
      ],
      "text/plain": [
       "   sales  ROM  RAM  num_rear_camera  num_front_camera  battery_capacity  \\\n",
       "0    5.9  256    6                4                 1              4000   \n",
       "\n",
       "   ratings  num_of_ratings  sales_price  discount_percent  screen_size_Large  \\\n",
       "0      4.3           25000        85000              0.05                  1   \n",
       "\n",
       "   screen_size_Medium  screen_size_Small  screen_size_Very Large  \\\n",
       "0                   0                  0                       0   \n",
       "\n",
       "   screen_size_Very Small  \n",
       "0                       0  "
      ]
     },
     "execution_count": 64,
     "metadata": {},
     "output_type": "execute_result"
    }
   ],
   "source": [
    "df_t1"
   ]
  },
  {
   "cell_type": "code",
   "execution_count": null,
   "id": "391b6a2b",
   "metadata": {},
   "outputs": [],
   "source": []
  },
  {
   "cell_type": "code",
   "execution_count": null,
   "id": "b75f09a1",
   "metadata": {},
   "outputs": [],
   "source": []
  },
  {
   "cell_type": "code",
   "execution_count": null,
   "id": "2673e53c",
   "metadata": {},
   "outputs": [],
   "source": []
  },
  {
   "cell_type": "code",
   "execution_count": null,
   "id": "26cdee3f",
   "metadata": {},
   "outputs": [],
   "source": []
  },
  {
   "cell_type": "code",
   "execution_count": null,
   "id": "1bec9ecb",
   "metadata": {},
   "outputs": [],
   "source": []
  },
  {
   "cell_type": "code",
   "execution_count": null,
   "id": "07469bec",
   "metadata": {},
   "outputs": [],
   "source": []
  },
  {
   "cell_type": "code",
   "execution_count": null,
   "id": "b08deadc",
   "metadata": {},
   "outputs": [],
   "source": []
  },
  {
   "cell_type": "code",
   "execution_count": null,
   "id": "8ecd9df3",
   "metadata": {},
   "outputs": [],
   "source": []
  },
  {
   "cell_type": "code",
   "execution_count": null,
   "id": "44ec1aa9",
   "metadata": {},
   "outputs": [],
   "source": []
  },
  {
   "cell_type": "code",
   "execution_count": null,
   "id": "400f5d34",
   "metadata": {},
   "outputs": [],
   "source": []
  }
 ],
 "metadata": {
  "kernelspec": {
   "display_name": "Python 3 (ipykernel)",
   "language": "python",
   "name": "python3"
  },
  "language_info": {
   "codemirror_mode": {
    "name": "ipython",
    "version": 3
   },
   "file_extension": ".py",
   "mimetype": "text/x-python",
   "name": "python",
   "nbconvert_exporter": "python",
   "pygments_lexer": "ipython3",
   "version": "3.9.13"
  }
 },
 "nbformat": 4,
 "nbformat_minor": 5
}
